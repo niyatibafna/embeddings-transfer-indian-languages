{
 "cells": [
  {
   "cell_type": "code",
   "execution_count": 12,
   "id": "confused-heating",
   "metadata": {},
   "outputs": [
    {
     "name": "stdout",
     "output_type": "stream",
     "text": [
      "Requirement already satisfied: pyiwn in /usr/local/lib/python3.8/site-packages (0.0.5)\n",
      "Requirement already satisfied: pandas in /usr/local/lib/python3.8/site-packages (from pyiwn) (1.2.3)\n",
      "Requirement already satisfied: requests in /Users/mitalibafna/Library/Python/3.8/lib/python/site-packages (from pyiwn) (2.25.1)\n",
      "Requirement already satisfied: numpy>=1.16.5 in /Users/mitalibafna/Library/Python/3.8/lib/python/site-packages (from pandas->pyiwn) (1.19.5)\n",
      "Requirement already satisfied: python-dateutil>=2.7.3 in /usr/local/lib/python3.8/site-packages (from pandas->pyiwn) (2.8.1)\n",
      "Requirement already satisfied: pytz>=2017.3 in /usr/local/lib/python3.8/site-packages (from pandas->pyiwn) (2021.1)\n",
      "Requirement already satisfied: six>=1.5 in /Users/mitalibafna/Library/Python/3.8/lib/python/site-packages (from python-dateutil>=2.7.3->pandas->pyiwn) (1.15.0)\n",
      "Requirement already satisfied: certifi>=2017.4.17 in /Users/mitalibafna/Library/Python/3.8/lib/python/site-packages (from requests->pyiwn) (2020.12.5)\n",
      "Requirement already satisfied: chardet<5,>=3.0.2 in /Users/mitalibafna/Library/Python/3.8/lib/python/site-packages (from requests->pyiwn) (4.0.0)\n",
      "Requirement already satisfied: idna<3,>=2.5 in /Users/mitalibafna/Library/Python/3.8/lib/python/site-packages (from requests->pyiwn) (2.10)\n",
      "Requirement already satisfied: urllib3<1.27,>=1.21.1 in /Users/mitalibafna/Library/Python/3.8/lib/python/site-packages (from requests->pyiwn) (1.26.3)\n"
     ]
    }
   ],
   "source": [
    "!pip3 install --upgrade pyiwn"
   ]
  },
  {
   "cell_type": "code",
   "execution_count": 14,
   "id": "bibliographic-reduction",
   "metadata": {},
   "outputs": [],
   "source": [
    "from pyiwn import iwn"
   ]
  },
  {
   "cell_type": "code",
   "execution_count": 11,
   "id": "palestinian-gasoline",
   "metadata": {},
   "outputs": [
    {
     "ename": "TypeError",
     "evalue": "'module' object is not callable",
     "output_type": "error",
     "traceback": [
      "\u001b[0;31m---------------------------------------------------------------------------\u001b[0m",
      "\u001b[0;31mTypeError\u001b[0m                                 Traceback (most recent call last)",
      "\u001b[0;32m<ipython-input-11-a55c8b3ad9b6>\u001b[0m in \u001b[0;36m<module>\u001b[0;34m\u001b[0m\n\u001b[0;32m----> 1\u001b[0;31m \u001b[0miwn\u001b[0m \u001b[0;34m=\u001b[0m \u001b[0mpyiwn\u001b[0m\u001b[0;34m.\u001b[0m\u001b[0miwn\u001b[0m\u001b[0;34m(\u001b[0m\u001b[0;34m)\u001b[0m\u001b[0;34m\u001b[0m\u001b[0;34m\u001b[0m\u001b[0m\n\u001b[0m",
      "\u001b[0;31mTypeError\u001b[0m: 'module' object is not callable"
     ]
    }
   ],
   "source": [
    "iwn_obj = iwn.iwn()"
   ]
  },
  {
   "cell_type": "code",
   "execution_count": 17,
   "id": "cordless-lexington",
   "metadata": {},
   "outputs": [
    {
     "name": "stderr",
     "output_type": "stream",
     "text": [
      "2021-08-22:08:53:47,954 INFO     [iwn.py:43] Loading marathi language synsets...\n",
      "2021-08-22:08:53:49,24 INFO     [utils.py:157] NumExpr defaulting to 4 threads.\n"
     ]
    }
   ],
   "source": [
    "iwnobj = iwn.IndoWordNet(iwn.Language.MARATHI)"
   ]
  },
  {
   "cell_type": "code",
   "execution_count": 114,
   "id": "amino-acrylic",
   "metadata": {},
   "outputs": [],
   "source": [
    "syn = iwnobj.synsets(\"घर\")"
   ]
  },
  {
   "cell_type": "code",
   "execution_count": 116,
   "id": "noticed-spare",
   "metadata": {},
   "outputs": [
    {
     "data": {
      "text/plain": [
       "[Synset('कूळ.noun.1144'),\n",
       " Synset('घर.noun.1901'),\n",
       " Synset('घर.noun.1902'),\n",
       " Synset('बीळ.noun.5034'),\n",
       " Synset('घर.noun.4653'),\n",
       " Synset('घर.noun.8339'),\n",
       " Synset('संसार.noun.36596'),\n",
       " Synset('घर.noun.51401'),\n",
       " Synset('घर.noun.30562'),\n",
       " Synset('कुटुंब.noun.28473')]"
      ]
     },
     "execution_count": 116,
     "metadata": {},
     "output_type": "execute_result"
    }
   ],
   "source": [
    "syn"
   ]
  },
  {
   "cell_type": "code",
   "execution_count": 69,
   "id": "demanding-acrylic",
   "metadata": {},
   "outputs": [],
   "source": [
    "all_verbs = set(iwnobj.all_words(iwn.PosTag.VERB))\n",
    "all_nouns = set(iwnobj.all_words(iwn.PosTag.NOUN))"
   ]
  },
  {
   "cell_type": "code",
   "execution_count": 71,
   "id": "floral-treaty",
   "metadata": {},
   "outputs": [
    {
     "data": {
      "text/plain": [
       "True"
      ]
     },
     "execution_count": 71,
     "metadata": {},
     "output_type": "execute_result"
    }
   ],
   "source": [
    "(\"कमी\" in all_nouns)"
   ]
  },
  {
   "cell_type": "code",
   "execution_count": 66,
   "id": "therapeutic-shipping",
   "metadata": {},
   "outputs": [
    {
     "data": {
      "text/plain": [
       "['धमकावणे',\n",
       " 'ओरडणे',\n",
       " 'वाचविणे',\n",
       " 'स्थापणे',\n",
       " 'कब्जा होणे',\n",
       " 'दंडणे',\n",
       " 'उकडविणे',\n",
       " 'पाल्हेणे',\n",
       " 'समाजाविणे',\n",
       " 'सरसरणे']"
      ]
     },
     "execution_count": 66,
     "metadata": {},
     "output_type": "execute_result"
    }
   ],
   "source": [
    "list(all_nouns)[:10]"
   ]
  },
  {
   "cell_type": "code",
   "execution_count": 65,
   "id": "romantic-butterfly",
   "metadata": {},
   "outputs": [
    {
     "data": {
      "text/plain": [
       "4017"
      ]
     },
     "execution_count": 65,
     "metadata": {},
     "output_type": "execute_result"
    }
   ],
   "source": [
    "len(all_nouns)"
   ]
  },
  {
   "cell_type": "code",
   "execution_count": 251,
   "id": "wireless-biography",
   "metadata": {},
   "outputs": [],
   "source": [
    "# Getting Marathi freqlist\n",
    "corpus_words = list([pair.split()[1] for pair in open(\"marathi_data/mr.tok.freqlist.txt\", \"r\").read().split(\"\\n\") if len(pair.split())==2])\n",
    "freqs = list([pair.split()[0] for pair in open(\"marathi_data/mr.tok.freqlist.txt\", \"r\").read().split(\"\\n\") if len(pair.split())==2])"
   ]
  },
  {
   "cell_type": "code",
   "execution_count": 252,
   "id": "unauthorized-plain",
   "metadata": {},
   "outputs": [],
   "source": [
    "frequency = {pair.split()[1]:int(pair.split()[0]) for pair in open(\"marathi_data/mr.tok.freqlist.txt\", \"r\").read().split(\"\\n\") if (len(pair.split())==2)}"
   ]
  },
  {
   "cell_type": "code",
   "execution_count": 253,
   "id": "responsible-level",
   "metadata": {},
   "outputs": [
    {
     "data": {
      "text/plain": [
       "151"
      ]
     },
     "execution_count": 253,
     "metadata": {},
     "output_type": "execute_result"
    }
   ],
   "source": [
    "frequency[\"घर\"]"
   ]
  },
  {
   "cell_type": "code",
   "execution_count": 82,
   "id": "authentic-sauce",
   "metadata": {},
   "outputs": [
    {
     "data": {
      "text/plain": [
       "0"
      ]
     },
     "execution_count": 82,
     "metadata": {},
     "output_type": "execute_result"
    }
   ],
   "source": [
    "import random\n",
    "random.randint(0,1)"
   ]
  },
  {
   "cell_type": "code",
   "execution_count": 198,
   "id": "metropolitan-lease",
   "metadata": {},
   "outputs": [
    {
     "data": {
      "text/plain": [
       "43872"
      ]
     },
     "execution_count": 198,
     "metadata": {},
     "output_type": "execute_result"
    }
   ],
   "source": [
    "len(all_words)"
   ]
  },
  {
   "cell_type": "code",
   "execution_count": 199,
   "id": "original-wonder",
   "metadata": {},
   "outputs": [
    {
     "data": {
      "text/plain": [
       "1073"
      ]
     },
     "execution_count": 199,
     "metadata": {},
     "output_type": "execute_result"
    }
   ],
   "source": [
    "len(freq_words)"
   ]
  },
  {
   "cell_type": "code",
   "execution_count": 392,
   "id": "small-philippines",
   "metadata": {},
   "outputs": [],
   "source": [
    "MIN_FREQ = 10\n",
    "N=5"
   ]
  },
  {
   "cell_type": "code",
   "execution_count": 393,
   "id": "digital-tournament",
   "metadata": {},
   "outputs": [],
   "source": [
    "all_words = iwnobj.all_words()\n",
    "freq_words = list(filter(lambda x: x in frequency and frequency[x]>MIN_FREQ, all_words))\n",
    "\n",
    "\n",
    "def get_detractors(related_words, n=10):\n",
    "    \n",
    "    detractors = list()\n",
    "    while len(detractors)!=n:\n",
    "        detractor = random.choice(freq_words)\n",
    "        if detractor not in related_words and len(detractor)>2 and len(detractor.split())==1:\n",
    "            detractors.append(detractor)\n",
    "    \n",
    "    return detractors\n",
    "    \n",
    "    \n",
    "\n",
    "\n",
    "def get_qa(word, n=10):\n",
    "    try:\n",
    "        synsets = iwnobj.synsets(word)\n",
    "    except KeyError:\n",
    "        return None, None\n",
    "    if len(synsets) == 0:\n",
    "        return None, None\n",
    "#     print(synsets)\n",
    "    all_lemmas = [l for syn in synsets for l in syn.lemma_names() if (l!=word and len(l.split(\" \"))==1 and len(l)>2 and l in frequency and frequency[l]>MIN_FREQ)]\n",
    "#     print(all_lemmas)\n",
    "    if not all_lemmas:\n",
    "        return None, None\n",
    "#     print(all_lemmas)\n",
    "    x = random.randint(0,len(all_lemmas)-1)\n",
    "    answer = all_lemmas[x]\n",
    "#     print(answer)\n",
    "    detractors = get_detractors(all_lemmas+[word], n)\n",
    "    return (answer, detractors)"
   ]
  },
  {
   "cell_type": "code",
   "execution_count": 394,
   "id": "linear-addition",
   "metadata": {},
   "outputs": [],
   "source": [
    "# Getting query words \n",
    "query_set = list()\n",
    "nouns=0\n",
    "verbs=0\n",
    "\n",
    "for idx, word in enumerate(freqlist):\n",
    "#     if len(query_set)==1000:\n",
    "#         break\n",
    "    \n",
    "    if int(freqs[idx])<MIN_FREQ:\n",
    "        break\n",
    "    if len(word)<=2:\n",
    "        continue\n",
    "        \n",
    "    if word not in all_nouns and word not in all_verbs:\n",
    "        continue\n",
    "    \n",
    "    answer, detractors = get_qa(word, n=N)\n",
    "    if answer is not None:\n",
    "        query_set.append((word, answer, detractors))\n",
    "    if word in all_nouns:\n",
    "        nouns+=1\n",
    "    else:\n",
    "        if word in all_verbs:\n",
    "            verbs+=1\n",
    "        "
   ]
  },
  {
   "cell_type": "code",
   "execution_count": 395,
   "id": "marked-leonard",
   "metadata": {},
   "outputs": [],
   "source": [
    "qa_set = {word:{\"answer\": answer, \"detractors\": detractors} for word, answer, detractors in query_set}\n"
   ]
  },
  {
   "cell_type": "code",
   "execution_count": 396,
   "id": "sexual-picnic",
   "metadata": {},
   "outputs": [
    {
     "data": {
      "text/plain": [
       "1183"
      ]
     },
     "execution_count": 396,
     "metadata": {},
     "output_type": "execute_result"
    }
   ],
   "source": [
    "len(qa_set)"
   ]
  },
  {
   "cell_type": "code",
   "execution_count": 397,
   "id": "subjective-tuner",
   "metadata": {},
   "outputs": [
    {
     "data": {
      "text/plain": [
       "[('करणे', 'आणणे', ['अष्टपैलू', 'मॉस्को', 'प्रतिज्ञापत्र', 'लाखो', 'बघून']),\n",
       " ('हजार', '1000', ['मार्केट', 'खून', 'बाल', 'फुटबॉल', 'दुखापत']),\n",
       " ('अधिक', 'जास्त', ['लागण', 'महिला', 'जलतरण', 'अवघड', 'विपरीत']),\n",
       " ('कारण', 'ध्येय', ['अभ्यास', 'अस्वस्थ', 'तृतीय', 'पटकन', 'सुट्टी']),\n",
       " ('निर्णय', 'परीक्षा', ['काही', 'कार्यक्षमता', 'निविदा', 'उपलब्ध', 'दादर'])]"
      ]
     },
     "execution_count": 397,
     "metadata": {},
     "output_type": "execute_result"
    }
   ],
   "source": [
    "query_set[5:10]"
   ]
  },
  {
   "cell_type": "code",
   "execution_count": 398,
   "id": "mounted-logic",
   "metadata": {},
   "outputs": [],
   "source": [
    "# Writing dataset\n",
    "import json\n",
    "with open(\"evaluation/mr.wbst.json\", \"w\") as f:\n",
    "    json.dump(qa_set, f, ensure_ascii=False, indent=2)\n",
    "    "
   ]
  },
  {
   "cell_type": "code",
   "execution_count": null,
   "id": "physical-messenger",
   "metadata": {},
   "outputs": [],
   "source": []
  }
 ],
 "metadata": {
  "kernelspec": {
   "display_name": "Python 3",
   "language": "python",
   "name": "python3"
  },
  "language_info": {
   "codemirror_mode": {
    "name": "ipython",
    "version": 3
   },
   "file_extension": ".py",
   "mimetype": "text/x-python",
   "name": "python",
   "nbconvert_exporter": "python",
   "pygments_lexer": "ipython3",
   "version": "3.8.8"
  }
 },
 "nbformat": 4,
 "nbformat_minor": 5
}
