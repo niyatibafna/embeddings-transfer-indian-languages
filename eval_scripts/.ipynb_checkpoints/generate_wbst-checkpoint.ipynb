{
 "cells": [
  {
   "cell_type": "code",
   "execution_count": 34,
   "id": "confused-heating",
   "metadata": {},
   "outputs": [],
   "source": [
    "# !pip3 install --upgrade pyiwn"
   ]
  },
  {
   "cell_type": "code",
   "execution_count": 1,
   "id": "bibliographic-reduction",
   "metadata": {},
   "outputs": [],
   "source": [
    "from pyiwn import iwn\n",
    "import random"
   ]
  },
  {
   "cell_type": "code",
   "execution_count": 2,
   "id": "cordless-lexington",
   "metadata": {},
   "outputs": [
    {
     "name": "stderr",
     "output_type": "stream",
     "text": [
      "2022-04-13:11:23:41,677 INFO     [iwn.py:43] Loading konkani language synsets...\n",
      "2022-04-13:11:23:42,105 INFO     [utils.py:157] NumExpr defaulting to 8 threads.\n"
     ]
    }
   ],
   "source": [
    "#Load wordnet of lang\n",
    "iwnobj = iwn.IndoWordNet(iwn.Language.KONKANI)"
   ]
  },
  {
   "cell_type": "code",
   "execution_count": 3,
   "id": "demanding-acrylic",
   "metadata": {},
   "outputs": [],
   "source": [
    "all_verbs = set(iwnobj.all_words(iwn.PosTag.VERB))\n",
    "all_nouns = set(iwnobj.all_words(iwn.PosTag.NOUN))"
   ]
  },
  {
   "cell_type": "code",
   "execution_count": 4,
   "id": "therapeutic-shipping",
   "metadata": {},
   "outputs": [
    {
     "data": {
      "text/plain": [
       "['परपंरावाद',\n",
       " 'खोलपी',\n",
       " 'चैतन्य_म्हाप्रभू',\n",
       " 'पंचायत',\n",
       " 'संपाती',\n",
       " 'महापरिमिर्वाण',\n",
       " 'फ्लावर_फुलावर',\n",
       " 'दमघोष',\n",
       " 'निरोगीपण',\n",
       " 'इंद्रदमन']"
      ]
     },
     "execution_count": 4,
     "metadata": {},
     "output_type": "execute_result"
    }
   ],
   "source": [
    "list(all_nouns)[:10]"
   ]
  },
  {
   "cell_type": "code",
   "execution_count": 5,
   "id": "romantic-butterfly",
   "metadata": {},
   "outputs": [
    {
     "data": {
      "text/plain": [
       "26556"
      ]
     },
     "execution_count": 5,
     "metadata": {},
     "output_type": "execute_result"
    }
   ],
   "source": [
    "len(all_nouns)"
   ]
  },
  {
   "cell_type": "code",
   "execution_count": 42,
   "id": "wireless-biography",
   "metadata": {},
   "outputs": [],
   "source": [
    "# Getting lang freqlist\n",
    "corpus_words = list([pair.split()[1] for pair in open(\"data/konkani_data/kon.tok.freqlist.txt\", \"r\").read().split(\"\\n\") if len(pair.split())==2])\n",
    "freqs = list([pair.split()[0] for pair in open(\"nepali_data/nep.tok.freqlist.txt\", \"r\").read().split(\"\\n\") if len(pair.split())==2])"
   ]
  },
  {
   "cell_type": "code",
   "execution_count": 43,
   "id": "unauthorized-plain",
   "metadata": {},
   "outputs": [],
   "source": [
    "frequency = {pair.split()[1]:int(pair.split()[0]) for pair in open(\"nepali_data/nep.tok.freqlist.txt\", \"r\").read().split(\"\\n\") if (len(pair.split())==2)}"
   ]
  },
  {
   "cell_type": "code",
   "execution_count": 9,
   "id": "small-philippines",
   "metadata": {},
   "outputs": [],
   "source": []
  },
  {
   "cell_type": "code",
   "execution_count": 47,
   "id": "digital-tournament",
   "metadata": {},
   "outputs": [],
   "source": [
    "\n",
    "\n",
    "def get_detractors(related_words, n=10):\n",
    "    \n",
    "    detractors = list()\n",
    "    while len(detractors)!=n:\n",
    "        detractor = random.choice(freq_words)\n",
    "        if detractor not in related_words and len(detractor)>2 and len(detractor.split())==1:\n",
    "            detractors.append(detractor)\n",
    "    \n",
    "    return detractors\n",
    "    \n",
    "    \n",
    "\n",
    "\n",
    "def get_qa(word, n=10):\n",
    "    try:\n",
    "        synsets = iwnobj.synsets(word)\n",
    "    except KeyError:\n",
    "        return None, None\n",
    "    if len(synsets) == 0:\n",
    "        return None, None\n",
    "#     print(synsets)\n",
    "    all_lemmas = [l for syn in synsets for l in syn.lemma_names() if (l!=word and len(l.split(\" \"))==1 and len(l)>2 and l in frequency and frequency[l]>MIN_FREQ)]\n",
    "#     print(all_lemmas)\n",
    "    if not all_lemmas:\n",
    "        return None, None\n",
    "#     print(all_lemmas)\n",
    "    x = random.randint(0,len(all_lemmas)-1)\n",
    "    answer = all_lemmas[x]\n",
    "#     print(answer)\n",
    "    detractors = get_detractors(all_lemmas+[word], n)\n",
    "    return (answer, detractors)"
   ]
  },
  {
   "cell_type": "code",
   "execution_count": 48,
   "id": "linear-addition",
   "metadata": {},
   "outputs": [
    {
     "name": "stdout",
     "output_type": "stream",
     "text": [
      "[('दिन', 'दिवस', ['नाटक', 'चार', 'सतह', 'समर्थ', 'सूचना', 'विराजमान']), ('हुने', 'दुर्घटना', ['टापु', 'प्रवेश', 'जनमत', 'पखेटा', 'प्रकार', 'खाद्यान्न']), ('गरी', 'गुदी', ['टाइप', 'नियोजन', 'पाउ', 'विपरीत', 'स्थान', 'कोङ्कणी']), ('पछि', 'ढिलो', ['गुणा', 'वर्ग', 'संगीतकार', 'विशेषज्ञ', 'ढाँचा', 'ज्योतिष']), ('प्रयोग', 'उपयोग', ['सीमा', 'पूरा', 'हल्ला', 'निशुल्क', 'बहादुर', 'चुच्चो'])]\n",
      "[('दिन', 'दिवस', ['कर्तव्य', 'जानु', 'गायिका', 'श्रम', 'सहयोगी']), ('हुने', 'दुर्घटना', ['सुचारु', 'साधना', 'पराजित', 'पवित्र', 'वंशावली']), ('गरी', 'गुदी', ['भोटो', 'मणि', 'दृष्टिकोण', 'सार्वजनिक', 'रेकर्ड']), ('पछि', 'पछाडि', ['जीन', 'फ्रान्स', 'अर्चना', 'हस्तक्षेप', 'अतिथि']), ('प्रयोग', 'व्यवहार', ['महँगो', 'समाजवादी', 'सङ्केत', 'बिन्दु', 'सक्नु'])]\n",
      "[('दिन', 'दिवस', ['श्रोत', 'धार्मिक', 'फारसी', 'ठुलो', 'सम्पूर्ण', 'प्रवृत्ति']), ('हुने', 'दुर्घटना', ['केन्द्र', 'जमिन', 'महाकाव्य', 'स्थायी', 'तीर्थ', 'मनोरञ्जन']), ('पछि', 'ढिलो', ['रमाइलो', 'राजमार्ग', 'उदाहरण', 'नगर', 'रुचि', 'साँचो']), ('प्रयोग', 'खर्च', ['अथवा', 'वेद', 'मध्यम', 'भ्रम', 'पुरस्कार', 'जिम्मेवारी']), ('धेरै', 'अत्यन्त', ['बाहेक', 'गति', 'औसत', 'एसियाली', 'आंशिक', 'नदी'])]\n",
      "[('दिन', 'काल', ['नगरपालिका', 'उदार', 'चुनौती', 'आगमन', 'जेठा']), ('हुने', 'दुर्घटना', ['यहाँ', 'आएका', 'भूमिगत', 'प्रगतिशील', 'चित्त']), ('पछि', 'पछाडि', ['रेलवे', 'अधिग्रहण', 'मुख्यमन्त्री', 'कुशल', 'प्रवाह']), ('प्रयोग', 'उपयोग', ['अधिकतम', 'पोथी', 'पार्श्व', 'शिला', 'प्रसिद्धि']), ('धेरै', 'अधिक', ['घोडा', 'शुरू', 'तृतीय', 'किलोमिटर', 'टाउको'])]\n",
      "[('दिन', 'समय', ['प्रतिभा', 'मन्त्री', 'भण्डार', 'मानिस', 'अनुरोध']), ('पछि', 'पछाडि', ['कार्यक्रम', 'बाक्लो', 'मात्रा', 'उत्पत्ति', 'प्रजनन']), ('प्रयोग', 'उपयोग', ['दूरसञ्चार', 'विद्युत', 'युरोपेली', 'संस्कार', 'यन्त्र']), ('धेरै', 'अत्यधिक', ['विस्तार', 'तीव्र', 'एकीकरण', 'शाह', 'चौथो']), ('प्राप्त', 'ग्रहण', ['कानुनी', 'मेला', 'बन्द', 'शास्त्र', 'दाबी'])]\n"
     ]
    }
   ],
   "source": [
    "# Getting query words \n",
    "\n",
    "parameters = [(10, 6), (10, 5), (20, 6), (20, 5), (50, 5)]\n",
    "\n",
    "for MIN_FREQ, N in parameters:\n",
    "\n",
    "    query_set = list()\n",
    "    nouns=0\n",
    "    verbs=0\n",
    "\n",
    "    all_words = iwnobj.all_words()\n",
    "    freq_words = list(filter(lambda x: x in frequency and frequency[x]>MIN_FREQ, all_words))\n",
    "\n",
    "\n",
    "    for idx, word in enumerate(corpus_words):\n",
    "    #     if len(query_set)==1000:\n",
    "    #         break\n",
    "\n",
    "        if int(freqs[idx])<MIN_FREQ:\n",
    "            break\n",
    "        if len(word)<=2:\n",
    "            continue\n",
    "\n",
    "        if word not in all_nouns and word not in all_verbs:\n",
    "            continue\n",
    "\n",
    "        answer, detractors = get_qa(word, n=N)\n",
    "        if answer is not None:\n",
    "            query_set.append((word, answer, detractors))\n",
    "        if word in all_nouns:\n",
    "            nouns+=1\n",
    "        else:\n",
    "            if word in all_verbs:\n",
    "                verbs+=1\n",
    "                \n",
    "    qa_set = {word:{\"answer\": answer, \"detractors\": detractors} for word, answer, detractors in query_set}\n",
    "    print(query_set[:5])\n",
    "    \n",
    "    with open(\"evaluation/nep_wbst/nep.wbst-{}-{}.json\".format(MIN_FREQ, N), \"w\") as f:\n",
    "        json.dump(qa_set, f, ensure_ascii=False, indent=2)\n",
    "\n",
    "\n"
   ]
  },
  {
   "cell_type": "code",
   "execution_count": 16,
   "id": "marked-leonard",
   "metadata": {},
   "outputs": [],
   "source": [
    "\n"
   ]
  },
  {
   "cell_type": "code",
   "execution_count": 17,
   "id": "sexual-picnic",
   "metadata": {},
   "outputs": [
    {
     "data": {
      "text/plain": [
       "1414"
      ]
     },
     "execution_count": 17,
     "metadata": {},
     "output_type": "execute_result"
    }
   ],
   "source": [
    "len(qa_set)"
   ]
  },
  {
   "cell_type": "code",
   "execution_count": 18,
   "id": "subjective-tuner",
   "metadata": {},
   "outputs": [
    {
     "data": {
      "text/plain": [
       "[('धेरै', 'असङ्ख्य', ['विवेक', 'दूरसञ्चार', 'देवी', 'सम्भव', 'इन्जिनियर']),\n",
       " ('प्राप्त', 'उपलब्ध', ['अभिन्न', 'राष्ट्रीय', 'न्यानो', 'बाकी', 'राजकुमारी']),\n",
       " ('कारण', 'मतलब', ['सादा', 'केन्द्र', 'कटहर', 'पुलिस', 'सम्झनु']),\n",
       " ('नाम', 'प्रसिद्धि', ['सबैमा', 'क्षेत्र', 'सखरखण्ड', 'पल्ट', 'ढङ्गले']),\n",
       " ('जुन', 'चन्द्रमा', ['प्रतिनिधि', 'पुरस्कार', 'अनुबन्धित', 'युद्ध', 'कमल'])]"
      ]
     },
     "execution_count": 18,
     "metadata": {},
     "output_type": "execute_result"
    }
   ],
   "source": []
  },
  {
   "cell_type": "code",
   "execution_count": 19,
   "id": "mounted-logic",
   "metadata": {},
   "outputs": [],
   "source": [
    "# Writing dataset\n",
    "import json\n",
    "    "
   ]
  },
  {
   "cell_type": "code",
   "execution_count": null,
   "id": "physical-messenger",
   "metadata": {},
   "outputs": [],
   "source": []
  }
 ],
 "metadata": {
  "kernelspec": {
   "display_name": "Python 3",
   "language": "python",
   "name": "python3"
  },
  "language_info": {
   "codemirror_mode": {
    "name": "ipython",
    "version": 3
   },
   "file_extension": ".py",
   "mimetype": "text/x-python",
   "name": "python",
   "nbconvert_exporter": "python",
   "pygments_lexer": "ipython3",
   "version": "3.8.8"
  }
 },
 "nbformat": 4,
 "nbformat_minor": 5
}
