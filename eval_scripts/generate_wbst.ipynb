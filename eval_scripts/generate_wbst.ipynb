{
 "cells": [
  {
   "cell_type": "code",
   "execution_count": 34,
   "id": "confused-heating",
   "metadata": {},
   "outputs": [],
   "source": [
    "# !pip3 install --upgrade pyiwn"
   ]
  },
  {
   "cell_type": "code",
   "execution_count": 14,
   "id": "bibliographic-reduction",
   "metadata": {},
   "outputs": [],
   "source": [
    "from pyiwn import iwn\n",
    "import random\n",
    "import json"
   ]
  },
  {
   "cell_type": "code",
   "execution_count": 2,
   "id": "cordless-lexington",
   "metadata": {},
   "outputs": [
    {
     "name": "stderr",
     "output_type": "stream",
     "text": [
      "2022-04-13:11:23:41,677 INFO     [iwn.py:43] Loading konkani language synsets...\n",
      "2022-04-13:11:23:42,105 INFO     [utils.py:157] NumExpr defaulting to 8 threads.\n"
     ]
    }
   ],
   "source": [
    "#Load wordnet of lang\n",
    "iwnobj = iwn.IndoWordNet(iwn.Language.KONKANI)"
   ]
  },
  {
   "cell_type": "code",
   "execution_count": 3,
   "id": "demanding-acrylic",
   "metadata": {},
   "outputs": [],
   "source": [
    "all_verbs = set(iwnobj.all_words(iwn.PosTag.VERB))\n",
    "all_nouns = set(iwnobj.all_words(iwn.PosTag.NOUN))"
   ]
  },
  {
   "cell_type": "code",
   "execution_count": 4,
   "id": "therapeutic-shipping",
   "metadata": {},
   "outputs": [
    {
     "data": {
      "text/plain": [
       "['परपंरावाद',\n",
       " 'खोलपी',\n",
       " 'चैतन्य_म्हाप्रभू',\n",
       " 'पंचायत',\n",
       " 'संपाती',\n",
       " 'महापरिमिर्वाण',\n",
       " 'फ्लावर_फुलावर',\n",
       " 'दमघोष',\n",
       " 'निरोगीपण',\n",
       " 'इंद्रदमन']"
      ]
     },
     "execution_count": 4,
     "metadata": {},
     "output_type": "execute_result"
    }
   ],
   "source": [
    "list(all_nouns)[:10]"
   ]
  },
  {
   "cell_type": "code",
   "execution_count": 5,
   "id": "romantic-butterfly",
   "metadata": {},
   "outputs": [
    {
     "data": {
      "text/plain": [
       "26556"
      ]
     },
     "execution_count": 5,
     "metadata": {},
     "output_type": "execute_result"
    }
   ],
   "source": [
    "len(all_nouns)"
   ]
  },
  {
   "cell_type": "code",
   "execution_count": 9,
   "id": "wireless-biography",
   "metadata": {},
   "outputs": [],
   "source": [
    "# Getting lang freqlist\n",
    "freqlist_path = \"../data/konkani_data/kon.tok.freqlist.txt\"\n",
    "lang_code = \"kon\"\n",
    "corpus_words = list([pair.split()[1] for pair in open(freqlist_path, \"r\").read().split(\"\\n\") if len(pair.split())==2])\n",
    "freqs = list([pair.split()[0] for pair in open(freqlist_path, \"r\").read().split(\"\\n\") if len(pair.split())==2])\n",
    "frequency = {pair.split()[1]:int(pair.split()[0]) for pair in open(freqlist_path, \"r\").read().split(\"\\n\") if (len(pair.split())==2)}\n",
    "\n"
   ]
  },
  {
   "cell_type": "code",
   "execution_count": 10,
   "id": "unauthorized-plain",
   "metadata": {},
   "outputs": [],
   "source": [
    "\n",
    "def get_detractors(related_words, n=10):\n",
    "    \n",
    "    detractors = list()\n",
    "    while len(detractors)!=n:\n",
    "        detractor = random.choice(freq_words)\n",
    "        if detractor not in related_words and len(detractor)>2 and len(detractor.split())==1:\n",
    "            detractors.append(detractor)\n",
    "    \n",
    "    return detractors\n",
    "    \n",
    "    \n",
    "\n",
    "\n",
    "def get_qa(word, n=10):\n",
    "    try:\n",
    "        synsets = iwnobj.synsets(word)\n",
    "    except KeyError:\n",
    "        return None, None\n",
    "    if len(synsets) == 0:\n",
    "        return None, None\n",
    "#     print(synsets)\n",
    "    all_lemmas = [l for syn in synsets for l in syn.lemma_names() if (l!=word and len(l.split(\" \"))==1 and len(l)>2 and l in frequency and frequency[l]>MIN_FREQ)]\n",
    "#     print(all_lemmas)\n",
    "    if not all_lemmas:\n",
    "        return None, None\n",
    "#     print(all_lemmas)\n",
    "    x = random.randint(0,len(all_lemmas)-1)\n",
    "    answer = all_lemmas[x]\n",
    "#     print(answer)\n",
    "    detractors = get_detractors(all_lemmas+[word], n)\n",
    "    return (answer, detractors)"
   ]
  },
  {
   "cell_type": "code",
   "execution_count": 16,
   "id": "linear-addition",
   "metadata": {},
   "outputs": [
    {
     "name": "stdout",
     "output_type": "stream",
     "text": [
      "[('हांगा', 'हांगासर', ['भुमिका', 'वर्णन', 'अरबी', 'सदांच', 'रूप', 'पयली']), ('कविता', 'गीत', ['दर्या', 'रितीन', 'तरेन', 'नांव', 'जाण', 'काळ']), ('लोक', 'समाज', ['स्वता', 'उपरांत', 'अधिकार', 'प्रक्रिया', 'उतर', 'मेळून']), ('खूब', 'जायत्यो', ['कुचिपुडी', 'सैमीक', 'उबो', 'देखीक', 'एकलो', 'वांटो']), ('व्हड', 'लांब', ['जाती', 'पावस', 'राजा', 'बरीं', 'प्राथमीक', 'नामना'])]\n",
      "LENGTH OF TEST,  129\n",
      "[('हांगा', 'हांगासर', ['आयज', 'लोकांचें', 'लेगीत', 'सुरू', 'वाट']), ('कविता', 'काव्य', ['सत्ता', 'स्पश्ट', 'करप', 'वयल्यान', 'मोग']), ('लोक', 'समाज', ['विचार', 'देवूळ', 'भशेन', 'जाण', 'तेन्ना']), ('खूब', 'साबार', ['दोनूय', 'प्रस्न', 'पांय', 'परिस्थिती', 'बरें']), ('व्हड', 'लांब', ['अर्थीक', 'विचार', 'म्हत्वाचें', 'अध्यक्ष', 'वस्तू'])]\n",
      "LENGTH OF TEST,  129\n",
      "[('हांगा', 'हांगासर', ['पयलीं', 'क्रिस्तांव', 'विचार', 'पुराय', 'जरी', 'कमी']), ('खूब', 'कांय', ['वर्णन', 'निर्माण', 'विशीं', 'ल्हान', 'प्रभाव', 'पुस्तक']), ('प्रमाण', 'नदरेन', ['तीन', 'स्वता', 'उदक', 'सत्ता', 'कवी', 'सैमीक']), ('वापर', 'उपेग', ['मुखेलपणान', 'नदरेन', 'जाल्यार', 'कितें', 'आदीं', 'जरी']), ('वाठार', 'सुवात', ['दीस', 'इतिहासीक', 'गजाल', 'मूळ', 'वेळार', 'उदेंत'])]\n",
      "LENGTH OF TEST,  46\n",
      "[('हांगा', 'हांगासर', ['मदीं', 'सयत', 'खातें', 'फावट', 'केंस']), ('खूब', 'साबार', ['मात', 'चालू', 'खरें', 'अस्तंत', 'मागीर']), ('प्रमाण', 'नदरेन', ['वेळ', 'जमीन', 'जैत', 'कांय', 'दीस']), ('वापर', 'उपेग', ['जाय', 'वर्णन', 'पळोवन', 'उतर', 'जमीन']), ('वाठार', 'सुवात', ['हेर', 'कित्याक', 'वांगडा', 'जैत', 'म्हत्व'])]\n",
      "LENGTH OF TEST,  46\n",
      "[('खूब', 'पुराय', ['पयलीं', 'जाल्यार', 'कशें', 'व्हड', 'बरें']), ('काम', 'सेवा', ['वर्सां', 'व्हड', 'कडेन', 'तीन', 'कांय']), ('कडेन', 'लागीं', ['वेळार', 'दोन', 'मुखेल', 'करपी', 'कांय']), ('पुराय', 'खूब', ['मनीस', 'मुखेल', 'करपी', 'कवी', 'मनीस']), ('लागीं', 'कडेन', ['वयर', 'तीन', 'निर्माण', 'सुरू', 'आसा'])]\n",
      "LENGTH OF TEST,  6\n"
     ]
    }
   ],
   "source": [
    "# Getting query words \n",
    "\n",
    "parameters = [(10, 6), (10, 5), (20, 6), (20, 5), (50, 5)]\n",
    "\n",
    "for MIN_FREQ, N in parameters:\n",
    "\n",
    "    query_set = list()\n",
    "    nouns=0\n",
    "    verbs=0\n",
    "\n",
    "    all_words = iwnobj.all_words()\n",
    "    freq_words = list(filter(lambda x: x in frequency and frequency[x]>MIN_FREQ, all_words))\n",
    "\n",
    "\n",
    "    for idx, word in enumerate(corpus_words):\n",
    "    #     if len(query_set)==1000:\n",
    "    #         break\n",
    "\n",
    "        if int(freqs[idx])<MIN_FREQ:\n",
    "            break\n",
    "        if len(word)<=2:\n",
    "            continue\n",
    "\n",
    "        if word not in all_nouns and word not in all_verbs:\n",
    "            continue\n",
    "\n",
    "        answer, detractors = get_qa(word, n=N)\n",
    "        if answer is not None:\n",
    "            query_set.append((word, answer, detractors))\n",
    "        if word in all_nouns:\n",
    "            nouns+=1\n",
    "        else:\n",
    "            if word in all_verbs:\n",
    "                verbs+=1\n",
    "                \n",
    "    qa_set = {word:{\"answer\": answer, \"detractors\": detractors} for word, answer, detractors in query_set}\n",
    "    print(query_set[:5])\n",
    "    print(\"LENGTH OF TEST, \", len(query_set))\n",
    "    \n",
    "    with open(\"../eval_data/{}_wbst/{}.wbst-{}-{}.json\".format(lang_code, lang_code, MIN_FREQ, N), \"w\") as f:\n",
    "        json.dump(qa_set, f, ensure_ascii=False, indent=2)\n",
    "\n",
    "\n"
   ]
  },
  {
   "cell_type": "code",
   "execution_count": 16,
   "id": "marked-leonard",
   "metadata": {},
   "outputs": [],
   "source": [
    "\n"
   ]
  },
  {
   "cell_type": "code",
   "execution_count": 17,
   "id": "sexual-picnic",
   "metadata": {},
   "outputs": [
    {
     "data": {
      "text/plain": [
       "1414"
      ]
     },
     "execution_count": 17,
     "metadata": {},
     "output_type": "execute_result"
    }
   ],
   "source": [
    "len(qa_set)"
   ]
  },
  {
   "cell_type": "code",
   "execution_count": 18,
   "id": "subjective-tuner",
   "metadata": {},
   "outputs": [
    {
     "data": {
      "text/plain": [
       "[('धेरै', 'असङ्ख्य', ['विवेक', 'दूरसञ्चार', 'देवी', 'सम्भव', 'इन्जिनियर']),\n",
       " ('प्राप्त', 'उपलब्ध', ['अभिन्न', 'राष्ट्रीय', 'न्यानो', 'बाकी', 'राजकुमारी']),\n",
       " ('कारण', 'मतलब', ['सादा', 'केन्द्र', 'कटहर', 'पुलिस', 'सम्झनु']),\n",
       " ('नाम', 'प्रसिद्धि', ['सबैमा', 'क्षेत्र', 'सखरखण्ड', 'पल्ट', 'ढङ्गले']),\n",
       " ('जुन', 'चन्द्रमा', ['प्रतिनिधि', 'पुरस्कार', 'अनुबन्धित', 'युद्ध', 'कमल'])]"
      ]
     },
     "execution_count": 18,
     "metadata": {},
     "output_type": "execute_result"
    }
   ],
   "source": []
  },
  {
   "cell_type": "code",
   "execution_count": 19,
   "id": "mounted-logic",
   "metadata": {},
   "outputs": [],
   "source": [
    "# Writing dataset\n",
    "import json\n",
    "    "
   ]
  },
  {
   "cell_type": "code",
   "execution_count": null,
   "id": "physical-messenger",
   "metadata": {},
   "outputs": [],
   "source": []
  }
 ],
 "metadata": {
  "kernelspec": {
   "display_name": "Python 3",
   "language": "python",
   "name": "python3"
  },
  "language_info": {
   "codemirror_mode": {
    "name": "ipython",
    "version": 3
   },
   "file_extension": ".py",
   "mimetype": "text/x-python",
   "name": "python",
   "nbconvert_exporter": "python",
   "pygments_lexer": "ipython3",
   "version": "3.8.8"
  }
 },
 "nbformat": 4,
 "nbformat_minor": 5
}
