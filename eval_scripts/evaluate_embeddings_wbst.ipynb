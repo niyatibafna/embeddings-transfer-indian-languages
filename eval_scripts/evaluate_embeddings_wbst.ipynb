{
 "cells": [
  {
   "cell_type": "code",
   "execution_count": 1,
   "id": "educated-pantyhose",
   "metadata": {},
   "outputs": [],
   "source": [
    "import morfessor\n",
    "import fasttext\n",
    "import numpy as np\n",
    "from scipy.spatial import distance\n",
    "from scipy import stats\n",
    "import json\n",
    "import io\n",
    "import random"
   ]
  },
  {
   "cell_type": "code",
   "execution_count": 2,
   "id": "computational-ability",
   "metadata": {},
   "outputs": [],
   "source": [
    "#Load Morfessor model\n",
    "\n",
    "morfessor = morfessor.MorfessorIO()\n",
    "mr_segment = morfessor.read_binary_model_file('../data/konkani_data/kon.morfessor')\n",
    "\n"
   ]
  },
  {
   "cell_type": "code",
   "execution_count": 3,
   "id": "asian-witch",
   "metadata": {},
   "outputs": [],
   "source": [
    "# Load vectors\n",
    "\n",
    "def load_vectors(fname):\n",
    "    fin = io.open(fname, 'r', encoding='utf-8', newline='\\n', errors='ignore')\n",
    "    n, d = map(int, fin.readline().split())\n",
    "    data = {}\n",
    "    for line in fin:\n",
    "        tokens = line.rstrip().split(' ')\n",
    "        data[tokens[0]] = np.asarray(list(map(float, tokens[1:])))\n",
    "    return data\n",
    "\n",
    "\n"
   ]
  },
  {
   "cell_type": "code",
   "execution_count": 19,
   "id": "express-salmon",
   "metadata": {},
   "outputs": [
    {
     "name": "stderr",
     "output_type": "stream",
     "text": [
      "Warning : `load_model` does not return WordVectorModel or SupervisedModel any more, but a `FastText` object which is very similar.\n"
     ]
    }
   ],
   "source": []
  },
  {
   "cell_type": "code",
   "execution_count": null,
   "id": "assisted-pontiac",
   "metadata": {},
   "outputs": [],
   "source": [
    "# mr_embeddings_backup = fasttext.load_model(\"nep_embeddings/nep.embeddings.300.bin\")\n",
    "# mr_embeddings = load_vectors(\"nep_embeddings/nep.embeddings.crosslingual.300.vec\")\n",
    "# mr_embeddings = fasttext.load_model(\"nep_embeddings/nep.embeddings.unsegmented.300.bin\")\n",
    "# mr_embeddings = fasttext.load_model(\"nep_embeddings/cc.ne.300.bin\")\n",
    "# mr_embeddings = fasttext.load_model(\"nep_embeddings/nep.embeddings.300.bin\")\n",
    "\n",
    "# mr_embeddings = load_vectors(\"mr_embeddings/mr.cc.crosslingual.300.vec\")\n",
    "# mr_embeddings = fasttext.load_model(\"mr_embeddings/hi_mr.embeddings.300.bin\")\n",
    "\n",
    "# mr_embeddings = fasttext.load_model(\"mr_embeddings/mr.embeddings.100.bin\")\n",
    "# hin_embeddings = fasttext.load_model(\"hin_embeddings/hin.embeddings.300.bin\")\n",
    "# hin_embeddings = fasttext.load_model(\"hin_embeddings/cc.hi.300.bin\")\n",
    "# hin_embeddings = load_vectors(\"hin_embeddings/wiki.hi.vec\")"
   ]
  },
  {
   "cell_type": "code",
   "execution_count": 53,
   "id": "arctic-acquisition",
   "metadata": {},
   "outputs": [],
   "source": []
  },
  {
   "cell_type": "code",
   "execution_count": 46,
   "id": "naval-quest",
   "metadata": {},
   "outputs": [],
   "source": [
    "# Segment morph using morfessor\n",
    "def get_segments(word):\n",
    "    return mr_segment.viterbi_segment(word)[0]"
   ]
  },
  {
   "cell_type": "code",
   "execution_count": 49,
   "id": "adaptive-johnson",
   "metadata": {},
   "outputs": [],
   "source": [
    "# Get embedding for list of lrl morphs\n",
    "def get_l_embedding(word_l, backup=False):\n",
    "#     try:\n",
    "#         return mr_embeddings[word_l], backup\n",
    "#     except KeyError:\n",
    "    morph_list_l = get_segments(word_l)\n",
    "#     print(morph_list_l)\n",
    "    embedding_list = list()\n",
    "    for m_l in morph_list_l: \n",
    "        try:\n",
    "            embedding_list.append(mr_embeddings[m_l])\n",
    "        except KeyError:\n",
    "            embedding_list.append(mr_embeddings_backup[m_l])\n",
    "            backup = True\n",
    "#             break\n",
    "    if backup:\n",
    "        embedding_list = [mr_embeddings_backup[m_l] for m_l in morph_list_l]\n",
    "    word_embedding = np.asarray(embedding_list)\n",
    "    return np.sum(word_embedding, axis=0), backup"
   ]
  },
  {
   "cell_type": "code",
   "execution_count": 41,
   "id": "generous-execution",
   "metadata": {},
   "outputs": [],
   "source": [
    "# Get model judgment for one word pair\n",
    "def get_model_cosim(word_pair):\n",
    "    (word1, word2) = word_pair\n",
    "#     print(word1)\n",
    "    e1, backup = get_l_embedding(word1)\n",
    "#     print(word2)\n",
    "    e2, backup = get_l_embedding(word2, backup)\n",
    "    cos_sim = 1 - distance.cosine(e1,e2)\n",
    "#     cos_sim = 1 - distance.cosine(get_h_embedding(word1), get_h_embedding(word2))\n",
    "    return cos_sim\n",
    "        \n",
    "    "
   ]
  },
  {
   "cell_type": "code",
   "execution_count": 34,
   "id": "earned-development",
   "metadata": {},
   "outputs": [],
   "source": [
    "def get_model_judgment(question, option_set):\n",
    "    all_cosims = list()\n",
    "    for opt in option_set:\n",
    "        all_cosims.append(get_model_cosim((question, opt)))\n",
    "        \n",
    "    return option_set[np.argmax(all_cosims)]"
   ]
  },
  {
   "cell_type": "code",
   "execution_count": 35,
   "id": "involved-crowd",
   "metadata": {},
   "outputs": [],
   "source": [
    "# Get m j for all pairs\n",
    "def get_model_judgments(questions, options):\n",
    "#     print(len(questions))\n",
    "#     print(len(options))\n",
    "    judgments = [get_model_judgment(question, option_set) for question, option_set in list(zip(questions, options))]\n",
    "    return judgments"
   ]
  },
  {
   "cell_type": "code",
   "execution_count": 36,
   "id": "functioning-train",
   "metadata": {},
   "outputs": [],
   "source": [
    "\n",
    "def get_wbst_dataset(path):\n",
    "    with open(path, \"r\") as f:\n",
    "        wbst = json.load(f)\n",
    "        \n",
    "    questions = list()\n",
    "    answers = list()\n",
    "    options = list()\n",
    "    for q in wbst:\n",
    "        questions.append(q)\n",
    "        answers.append(wbst[q][\"answer\"])\n",
    "        opt = wbst[q][\"detractors\"] + [wbst[q][\"answer\"]]\n",
    "        random.shuffle(opt)\n",
    "        options.append(opt)\n",
    "    return questions, answers, options"
   ]
  },
  {
   "cell_type": "code",
   "execution_count": 37,
   "id": "upset-netherlands",
   "metadata": {},
   "outputs": [
    {
     "name": "stderr",
     "output_type": "stream",
     "text": [
      "Warning : `load_model` does not return WordVectorModel or SupervisedModel any more, but a `FastText` object which is very similar.\n"
     ]
    }
   ],
   "source": [
    "# Get embeddings \n",
    "lang_code = \"kon\"\n",
    "type_exp = \"iter\"\n",
    "is_first_run = False\n",
    "#unseg\n",
    "if type_exp == \"unseg\":\n",
    "    path = \"../embeddings/kon_embeddings/kon.embeddings.unsegmented.300.bin\"\n",
    "\n",
    "#seg\n",
    "if type_exp == \"seg\":\n",
    "    path = \"../embeddings/kon_embeddings/kon.embeddings.300.bin\"\n",
    "\n",
    "#iter\n",
    "if type_exp == \"iter\":\n",
    "    path = \"../embeddings/kon_embeddings/kon.embeddings.crosslingual.300.vec\"\n",
    "    backup_path =  \"../embeddings/kon_embeddings/kon.embeddings.unsegmented.300.bin\"\n",
    "\n",
    "#pret\n",
    "if type_exp == \"pret\":\n",
    "    path = '../embeddings/kon_embeddings/cc.gom.300.bin'\n",
    "\n",
    "\n",
    "if path.endswith(\".vec\"):\n",
    "    mr_embeddings = load_vectors(path)\n",
    "    mr_embeddings_backup = fasttext.load_model(backup_path)\n",
    "\n",
    "else:\n",
    "    mr_embeddings = fasttext.load_model(path)\n",
    "\n",
    "\n"
   ]
  },
  {
   "cell_type": "code",
   "execution_count": 50,
   "id": "moderate-designation",
   "metadata": {},
   "outputs": [
    {
     "name": "stdout",
     "output_type": "stream",
     "text": [
      "0\n",
      "20.155038759689923\n",
      "1\n",
      "21.705426356589147\n",
      "2\n",
      "32.608695652173914\n",
      "3\n",
      "39.130434782608695\n"
     ]
    }
   ],
   "source": [
    "# Evaluate lrl embeddings\n",
    "\n",
    "if is_first_run:\n",
    "    test_results = dict()\n",
    "    \n",
    "parameters = [(10, 6), (10, 5), (20, 6), (20, 5)]\n",
    "for pidx, (MIN_FREQ, N) in enumerate(parameters):\n",
    "    print(pidx)\n",
    "    \n",
    "    questions, answers, options = get_wbst_dataset(\"../eval_data/{}_wbst/{}.wbst-{}-{}.json\".format(lang_code, lang_code, MIN_FREQ, N))\n",
    "    \n",
    "    \n",
    "    model_judgments = get_model_judgments(questions, options)\n",
    "    accuracy = 0\n",
    "    for idx, ans in enumerate(answers):\n",
    "        if model_judgments[idx]==ans:\n",
    "            accuracy+=1\n",
    "    print(accuracy*100/len(answers))\n",
    "        \n",
    "    if pidx not in test_results:\n",
    "        test_results[pidx] = dict()\n",
    "        test_results[pidx][\"parameters\"] = (MIN_FREQ, N)\n",
    "        test_results[pidx][\"size\"] = len(questions)\n",
    "    test_results[pidx][type_exp] = accuracy*100/len(answers)"
   ]
  },
  {
   "cell_type": "code",
   "execution_count": 30,
   "id": "protecting-element",
   "metadata": {},
   "outputs": [
    {
     "data": {
      "text/plain": [
       "{0: {'parameters': (10, 6),\n",
       "  'size': 129,\n",
       "  'unseg': 25.58139534883721,\n",
       "  'seg': 20.930232558139537,\n",
       "  'iter': 20.155038759689923,\n",
       "  'pret': 51.93798449612403},\n",
       " 1: {'parameters': (10, 5),\n",
       "  'size': 129,\n",
       "  'unseg': 31.007751937984494,\n",
       "  'seg': 27.131782945736433,\n",
       "  'iter': 21.705426356589147,\n",
       "  'pret': 55.03875968992248},\n",
       " 2: {'parameters': (20, 6),\n",
       "  'size': 46,\n",
       "  'unseg': 26.08695652173913,\n",
       "  'seg': 26.08695652173913,\n",
       "  'iter': 32.608695652173914,\n",
       "  'pret': 60.869565217391305},\n",
       " 3: {'parameters': (20, 5),\n",
       "  'size': 46,\n",
       "  'unseg': 36.95652173913044,\n",
       "  'seg': 36.95652173913044,\n",
       "  'iter': 39.130434782608695,\n",
       "  'pret': 69.56521739130434}}"
      ]
     },
     "execution_count": 30,
     "metadata": {},
     "output_type": "execute_result"
    }
   ],
   "source": [
    "test_results"
   ]
  },
  {
   "cell_type": "code",
   "execution_count": 53,
   "id": "living-reason",
   "metadata": {},
   "outputs": [
    {
     "data": {
      "text/html": [
       "<div>\n",
       "<style scoped>\n",
       "    .dataframe tbody tr th:only-of-type {\n",
       "        vertical-align: middle;\n",
       "    }\n",
       "\n",
       "    .dataframe tbody tr th {\n",
       "        vertical-align: top;\n",
       "    }\n",
       "\n",
       "    .dataframe thead th {\n",
       "        text-align: right;\n",
       "    }\n",
       "</style>\n",
       "<table border=\"1\" class=\"dataframe\">\n",
       "  <thead>\n",
       "    <tr style=\"text-align: right;\">\n",
       "      <th></th>\n",
       "      <th>parameters</th>\n",
       "      <th>size</th>\n",
       "      <th>unseg</th>\n",
       "      <th>seg</th>\n",
       "      <th>iter</th>\n",
       "      <th>pret</th>\n",
       "    </tr>\n",
       "  </thead>\n",
       "  <tbody>\n",
       "    <tr>\n",
       "      <th>0</th>\n",
       "      <td>(10, 6)</td>\n",
       "      <td>129</td>\n",
       "      <td>25.581395</td>\n",
       "      <td>20.930233</td>\n",
       "      <td>20.155039</td>\n",
       "      <td>51.937984</td>\n",
       "    </tr>\n",
       "    <tr>\n",
       "      <th>1</th>\n",
       "      <td>(10, 5)</td>\n",
       "      <td>129</td>\n",
       "      <td>31.007752</td>\n",
       "      <td>27.131783</td>\n",
       "      <td>21.705426</td>\n",
       "      <td>55.03876</td>\n",
       "    </tr>\n",
       "    <tr>\n",
       "      <th>2</th>\n",
       "      <td>(20, 6)</td>\n",
       "      <td>46</td>\n",
       "      <td>26.086957</td>\n",
       "      <td>26.086957</td>\n",
       "      <td>32.608696</td>\n",
       "      <td>60.869565</td>\n",
       "    </tr>\n",
       "    <tr>\n",
       "      <th>3</th>\n",
       "      <td>(20, 5)</td>\n",
       "      <td>46</td>\n",
       "      <td>36.956522</td>\n",
       "      <td>36.956522</td>\n",
       "      <td>39.130435</td>\n",
       "      <td>69.565217</td>\n",
       "    </tr>\n",
       "  </tbody>\n",
       "</table>\n",
       "</div>"
      ],
      "text/plain": [
       "  parameters size      unseg        seg       iter       pret\n",
       "0    (10, 6)  129  25.581395  20.930233  20.155039  51.937984\n",
       "1    (10, 5)  129  31.007752  27.131783  21.705426   55.03876\n",
       "2    (20, 6)   46  26.086957  26.086957  32.608696  60.869565\n",
       "3    (20, 5)   46  36.956522  36.956522  39.130435  69.565217"
      ]
     },
     "execution_count": 53,
     "metadata": {},
     "output_type": "execute_result"
    }
   ],
   "source": [
    "import pandas as pd\n",
    "df = pd.DataFrame(test_results).transpose()\n",
    "cols = [\"parameters\", \"size\", \"unseg\", \"seg\", \"iter\", \"pret\"]\n",
    "df[cols]"
   ]
  },
  {
   "cell_type": "code",
   "execution_count": 23,
   "id": "outstanding-density",
   "metadata": {},
   "outputs": [
    {
     "name": "stdout",
     "output_type": "stream",
     "text": [
      "1414\n",
      "1414\n",
      "69.16548797736917\n"
     ]
    }
   ],
   "source": [
    "# Crosslingual with 300 backup\n",
    "# MIN = 10, N = 4\n",
    "# always segment , take all morphs\n",
    "\n",
    "questions, answers, options = get_wbst_dataset(\"evaluation/nep_wbst/nep.wbst-10-5.json\")\n",
    "model_judgments = get_model_judgments(questions, options)\n",
    "accuracy = 0\n",
    "for idx, ans in enumerate(answers):\n",
    "    if model_judgments[idx]==ans:\n",
    "        accuracy+=1\n",
    "print(accuracy*100/len(answers))"
   ]
  },
  {
   "cell_type": "code",
   "execution_count": 145,
   "id": "mobile-basin",
   "metadata": {},
   "outputs": [
    {
     "name": "stdout",
     "output_type": "stream",
     "text": [
      "1183\n",
      "1183\n",
      "60.777683854606934\n"
     ]
    }
   ],
   "source": [
    "# Crosslingual 2M with 300 backup\n",
    "# MIN = 50, N = 4 \n",
    "\n",
    "questions, answers, options = get_wbst_dataset(\"evaluation/mr.wbst.json\")\n",
    "model_judgments = get_model_judgments(questions, options)\n",
    "accuracy = 0\n",
    "for idx, ans in enumerate(answers):\n",
    "    if model_judgments[idx]==ans:\n",
    "        accuracy+=1\n",
    "print(accuracy*100/len(answers))"
   ]
  },
  {
   "cell_type": "code",
   "execution_count": 153,
   "id": "different-halifax",
   "metadata": {},
   "outputs": [
    {
     "name": "stdout",
     "output_type": "stream",
     "text": [
      "1183\n",
      "1183\n",
      "58.918005071851226\n"
     ]
    }
   ],
   "source": [
    "# 300\n",
    "# MIN = 10, N = 4\n",
    "\n",
    "questions, answers, options = get_wbst_dataset(\"evaluation/mr.wbst.json\")\n",
    "model_judgments = get_model_judgments(questions, options)\n",
    "accuracy = 0\n",
    "for idx, ans in enumerate(answers):\n",
    "    if model_judgments[idx]==ans:\n",
    "        accuracy+=1\n",
    "print(accuracy*100/len(answers))"
   ]
  },
  {
   "cell_type": "code",
   "execution_count": 157,
   "id": "quantitative-requirement",
   "metadata": {},
   "outputs": [
    {
     "name": "stdout",
     "output_type": "stream",
     "text": [
      "1183\n",
      "1183\n",
      "84.69991546914623\n"
     ]
    }
   ],
   "source": [
    "# Pretrained\n",
    "# MIN = 10, N = 4\n",
    "# Direct embedding\n",
    "\n",
    "questions, answers, options = get_wbst_dataset(\"evaluation/mr.wbst.json\")\n",
    "model_judgments = get_model_judgments(questions, options)\n",
    "accuracy = 0\n",
    "for idx, ans in enumerate(answers):\n",
    "    if model_judgments[idx]==ans:\n",
    "        accuracy+=1\n",
    "print(accuracy*100/len(answers))"
   ]
  },
  {
   "cell_type": "code",
   "execution_count": 176,
   "id": "applied-consciousness",
   "metadata": {},
   "outputs": [
    {
     "name": "stdout",
     "output_type": "stream",
     "text": [
      "435\n",
      "435\n",
      "59.08045977011494\n"
     ]
    }
   ],
   "source": [
    "# Crosslingual with 300 backup\n",
    "# MIN = 10, N = 5 ans freq > 10\n",
    "# always segment , take all morphs\n",
    "\n",
    "questions, answers, options = get_wbst_dataset(\"evaluation/mr.wbst.json\")\n",
    "model_judgments = get_model_judgments(questions, options)\n",
    "accuracy = 0\n",
    "for idx, ans in enumerate(answers):\n",
    "    if model_judgments[idx]==ans:\n",
    "        accuracy+=1\n",
    "print(accuracy*100/len(answers))"
   ]
  },
  {
   "cell_type": "code",
   "execution_count": 179,
   "id": "alert-toyota",
   "metadata": {},
   "outputs": [
    {
     "name": "stdout",
     "output_type": "stream",
     "text": [
      "435\n",
      "435\n",
      "62.98850574712644\n"
     ]
    }
   ],
   "source": [
    "# 300\n",
    "# MIN = 10, N = 5 ans freq > 10\n",
    "\n",
    "questions, answers, options = get_wbst_dataset(\"evaluation/mr.wbst.json\")\n",
    "model_judgments = get_model_judgments(questions, options)\n",
    "accuracy = 0\n",
    "for idx, ans in enumerate(answers):\n",
    "    if model_judgments[idx]==ans:\n",
    "        accuracy+=1\n",
    "print(accuracy*100/len(answers))"
   ]
  },
  {
   "cell_type": "code",
   "execution_count": 185,
   "id": "dangerous-biography",
   "metadata": {},
   "outputs": [
    {
     "name": "stdout",
     "output_type": "stream",
     "text": [
      "1183\n",
      "1183\n",
      "58.66441251056636\n"
     ]
    }
   ],
   "source": [
    "# Crosslingual with 300 backup\n",
    "# MIN = 10, N = 5 \n",
    "# always segment , take all morphs\n",
    "\n",
    "questions, answers, options = get_wbst_dataset(\"evaluation/mr.wbst.json\")\n",
    "model_judgments = get_model_judgments(questions, options)\n",
    "accuracy = 0\n",
    "for idx, ans in enumerate(answers):\n",
    "    if model_judgments[idx]==ans:\n",
    "        accuracy+=1\n",
    "print(accuracy*100/len(answers))"
   ]
  },
  {
   "cell_type": "code",
   "execution_count": 181,
   "id": "interstate-jewel",
   "metadata": {},
   "outputs": [
    {
     "name": "stdout",
     "output_type": "stream",
     "text": [
      "1183\n",
      "1183\n",
      "54.7759932375317\n"
     ]
    }
   ],
   "source": [
    "# 300\n",
    "# MIN = 10, N = 5\n",
    "\n",
    "questions, answers, options = get_wbst_dataset(\"evaluation/mr.wbst.json\")\n",
    "model_judgments = get_model_judgments(questions, options)\n",
    "accuracy = 0\n",
    "for idx, ans in enumerate(answers):\n",
    "    if model_judgments[idx]==ans:\n",
    "        accuracy+=1\n",
    "print(accuracy*100/len(answers))"
   ]
  },
  {
   "cell_type": "code",
   "execution_count": 188,
   "id": "surprised-candidate",
   "metadata": {},
   "outputs": [
    {
     "name": "stdout",
     "output_type": "stream",
     "text": [
      "1183\n",
      "1183\n",
      "84.86897717666949\n"
     ]
    }
   ],
   "source": [
    "# Pretrained\n",
    "# MIN = 10, N = 5\n",
    "# Direct embedding\n",
    "\n",
    "questions, answers, options = get_wbst_dataset(\"evaluation/mr.wbst.json\")\n",
    "model_judgments = get_model_judgments(questions, options)\n",
    "accuracy = 0\n",
    "for idx, ans in enumerate(answers):\n",
    "    if model_judgments[idx]==ans:\n",
    "        accuracy+=1\n",
    "print(accuracy*100/len(answers))"
   ]
  },
  {
   "cell_type": "code",
   "execution_count": 192,
   "id": "stretch-neighbor",
   "metadata": {},
   "outputs": [
    {
     "name": "stdout",
     "output_type": "stream",
     "text": [
      "293\n",
      "293\n",
      "63.13993174061434\n"
     ]
    }
   ],
   "source": [
    "# Crosslingual with 300 backup\n",
    "# MIN = 50, N = 5 \n",
    "# always segment , take all morphs\n",
    "\n",
    "questions, answers, options = get_wbst_dataset(\"evaluation/mr.wbst.json\")\n",
    "model_judgments = get_model_judgments(questions, options)\n",
    "accuracy = 0\n",
    "for idx, ans in enumerate(answers):\n",
    "    if model_judgments[idx]==ans:\n",
    "        accuracy+=1\n",
    "print(accuracy*100/len(answers))"
   ]
  },
  {
   "cell_type": "code",
   "execution_count": 196,
   "id": "sealed-result",
   "metadata": {},
   "outputs": [
    {
     "name": "stdout",
     "output_type": "stream",
     "text": [
      "293\n",
      "293\n",
      "63.822525597269625\n"
     ]
    }
   ],
   "source": [
    "# 300\n",
    "# MIN = 50, N = 5\n",
    "\n",
    "questions, answers, options = get_wbst_dataset(\"evaluation/mr.wbst.json\")\n",
    "model_judgments = get_model_judgments(questions, options)\n",
    "accuracy = 0\n",
    "for idx, ans in enumerate(answers):\n",
    "    if model_judgments[idx]==ans:\n",
    "        accuracy+=1\n",
    "print(accuracy*100/len(answers))"
   ]
  },
  {
   "cell_type": "code",
   "execution_count": 189,
   "id": "fallen-wichita",
   "metadata": {},
   "outputs": [
    {
     "name": "stdout",
     "output_type": "stream",
     "text": [
      "293\n",
      "293\n",
      "82.5938566552901\n"
     ]
    }
   ],
   "source": [
    "# Pretrained\n",
    "# MIN = 50, N = 5\n",
    "# Direct embedding\n",
    "\n",
    "questions, answers, options = get_wbst_dataset(\"evaluation/mr.wbst.json\")\n",
    "model_judgments = get_model_judgments(questions, options)\n",
    "accuracy = 0\n",
    "for idx, ans in enumerate(answers):\n",
    "    if model_judgments[idx]==ans:\n",
    "        accuracy+=1\n",
    "print(accuracy*100/len(answers))"
   ]
  },
  {
   "cell_type": "code",
   "execution_count": 203,
   "id": "loaded-panel",
   "metadata": {},
   "outputs": [
    {
     "name": "stdout",
     "output_type": "stream",
     "text": [
      "293\n",
      "293\n",
      "67.23549488054607\n"
     ]
    }
   ],
   "source": [
    "# Crosslingual with 300 backup\n",
    "# MIN = 50, N = 4\n",
    "# always segment , take all morphs\n",
    "\n",
    "questions, answers, options = get_wbst_dataset(\"evaluation/mr.wbst.json\")\n",
    "model_judgments = get_model_judgments(questions, options)\n",
    "accuracy = 0\n",
    "for idx, ans in enumerate(answers):\n",
    "    if model_judgments[idx]==ans:\n",
    "        accuracy+=1\n",
    "print(accuracy*100/len(answers))"
   ]
  },
  {
   "cell_type": "code",
   "execution_count": 197,
   "id": "center-weekly",
   "metadata": {},
   "outputs": [
    {
     "name": "stdout",
     "output_type": "stream",
     "text": [
      "293\n",
      "293\n",
      "63.13993174061434\n"
     ]
    }
   ],
   "source": [
    "# 300\n",
    "# MIN = 50, N = 4\n",
    "\n",
    "questions, answers, options = get_wbst_dataset(\"evaluation/mr.wbst.json\")\n",
    "model_judgments = get_model_judgments(questions, options)\n",
    "accuracy = 0\n",
    "for idx, ans in enumerate(answers):\n",
    "    if model_judgments[idx]==ans:\n",
    "        accuracy+=1\n",
    "print(accuracy*100/len(answers))"
   ]
  },
  {
   "cell_type": "code",
   "execution_count": 199,
   "id": "empirical-subcommittee",
   "metadata": {},
   "outputs": [
    {
     "name": "stdout",
     "output_type": "stream",
     "text": [
      "293\n",
      "293\n",
      "81.22866894197952\n"
     ]
    }
   ],
   "source": [
    "# Pretrained\n",
    "# MIN = 50, N = 4\n",
    "# Direct embedding\n",
    "\n",
    "questions, answers, options = get_wbst_dataset(\"evaluation/mr.wbst.json\")\n",
    "model_judgments = get_model_judgments(questions, options)\n",
    "accuracy = 0\n",
    "for idx, ans in enumerate(answers):\n",
    "    if model_judgments[idx]==ans:\n",
    "        accuracy+=1\n",
    "print(accuracy*100/len(answers))"
   ]
  },
  {
   "cell_type": "code",
   "execution_count": 204,
   "id": "detected-azerbaijan",
   "metadata": {},
   "outputs": [
    {
     "name": "stdout",
     "output_type": "stream",
     "text": [
      "684\n",
      "684\n",
      "64.47368421052632\n"
     ]
    }
   ],
   "source": [
    "# Crosslingual with 300 backup\n",
    "# MIN = 20, N = 4\n",
    "# always segment , take all morphs\n",
    "\n",
    "questions, answers, options = get_wbst_dataset(\"evaluation/mr.wbst.json\")\n",
    "model_judgments = get_model_judgments(questions, options)\n",
    "accuracy = 0\n",
    "for idx, ans in enumerate(answers):\n",
    "    if model_judgments[idx]==ans:\n",
    "        accuracy+=1\n",
    "print(accuracy*100/len(answers))"
   ]
  },
  {
   "cell_type": "code",
   "execution_count": 207,
   "id": "coupled-direction",
   "metadata": {},
   "outputs": [
    {
     "name": "stdout",
     "output_type": "stream",
     "text": [
      "684\n",
      "684\n",
      "59.941520467836256\n"
     ]
    }
   ],
   "source": [
    "# 300\n",
    "# MIN = 20, N = 4\n",
    "\n",
    "questions, answers, options = get_wbst_dataset(\"evaluation/mr.wbst.json\")\n",
    "model_judgments = get_model_judgments(questions, options)\n",
    "accuracy = 0\n",
    "for idx, ans in enumerate(answers):\n",
    "    if model_judgments[idx]==ans:\n",
    "        accuracy+=1\n",
    "print(accuracy*100/len(answers))"
   ]
  },
  {
   "cell_type": "code",
   "execution_count": 209,
   "id": "parliamentary-blowing",
   "metadata": {},
   "outputs": [
    {
     "name": "stdout",
     "output_type": "stream",
     "text": [
      "684\n",
      "684\n",
      "87.57309941520468\n"
     ]
    }
   ],
   "source": [
    "# Pretrained\n",
    "# MIN = 20, N = 4\n",
    "# Direct embedding\n",
    "\n",
    "questions, answers, options = get_wbst_dataset(\"evaluation/mr.wbst.json\")\n",
    "model_judgments = get_model_judgments(questions, options)\n",
    "accuracy = 0\n",
    "for idx, ans in enumerate(answers):\n",
    "    if model_judgments[idx]==ans:\n",
    "        accuracy+=1\n",
    "print(accuracy*100/len(answers))"
   ]
  },
  {
   "cell_type": "code",
   "execution_count": 215,
   "id": "infectious-hardwood",
   "metadata": {},
   "outputs": [
    {
     "name": "stdout",
     "output_type": "stream",
     "text": [
      "684\n",
      "684\n",
      "59.941520467836256\n"
     ]
    }
   ],
   "source": [
    "# Crosslingual with 300 backup\n",
    "# MIN = 20, N = 5\n",
    "# always segment , take all morphs\n",
    "\n",
    "questions, answers, options = get_wbst_dataset(\"evaluation/mr.wbst.json\")\n",
    "model_judgments = get_model_judgments(questions, options)\n",
    "accuracy = 0\n",
    "for idx, ans in enumerate(answers):\n",
    "    if model_judgments[idx]==ans:\n",
    "        accuracy+=1\n",
    "print(accuracy*100/len(answers))"
   ]
  },
  {
   "cell_type": "code",
   "execution_count": 212,
   "id": "headed-agriculture",
   "metadata": {},
   "outputs": [
    {
     "name": "stdout",
     "output_type": "stream",
     "text": [
      "684\n",
      "684\n",
      "53.654970760233915\n"
     ]
    }
   ],
   "source": [
    "# 300\n",
    "# MIN = 20, N = 5\n",
    "\n",
    "questions, answers, options = get_wbst_dataset(\"evaluation/mr.wbst.json\")\n",
    "model_judgments = get_model_judgments(questions, options)\n",
    "accuracy = 0\n",
    "for idx, ans in enumerate(answers):\n",
    "    if model_judgments[idx]==ans:\n",
    "        accuracy+=1\n",
    "print(accuracy*100/len(answers))"
   ]
  },
  {
   "cell_type": "code",
   "execution_count": 210,
   "id": "eight-joyce",
   "metadata": {},
   "outputs": [
    {
     "name": "stdout",
     "output_type": "stream",
     "text": [
      "684\n",
      "684\n",
      "84.50292397660819\n"
     ]
    }
   ],
   "source": [
    "# Pretrained\n",
    "# MIN = 20, N = 5\n",
    "# Direct embedding\n",
    "\n",
    "questions, answers, options = get_wbst_dataset(\"evaluation/mr.wbst.json\")\n",
    "model_judgments = get_model_judgments(questions, options)\n",
    "accuracy = 0\n",
    "for idx, ans in enumerate(answers):\n",
    "    if model_judgments[idx]==ans:\n",
    "        accuracy+=1\n",
    "print(accuracy*100/len(answers))"
   ]
  },
  {
   "cell_type": "code",
   "execution_count": 230,
   "id": "comprehensive-zoning",
   "metadata": {},
   "outputs": [
    {
     "name": "stdout",
     "output_type": "stream",
     "text": [
      "684\n",
      "684\n",
      "48.9766081871345\n"
     ]
    }
   ],
   "source": [
    "# Unsegmented\n",
    "# MIN = 20, N = 5\n",
    "# Direct embedding\n",
    "\n",
    "questions, answers, options = get_wbst_dataset(\"evaluation/mr.wbst.json\")\n",
    "model_judgments = get_model_judgments(questions, options)\n",
    "accuracy = 0\n",
    "for idx, ans in enumerate(answers):\n",
    "    if model_judgments[idx]==ans:\n",
    "        accuracy+=1\n",
    "print(accuracy*100/len(answers))"
   ]
  },
  {
   "cell_type": "code",
   "execution_count": 224,
   "id": "sustained-castle",
   "metadata": {},
   "outputs": [
    {
     "name": "stdout",
     "output_type": "stream",
     "text": [
      "684\n",
      "684\n",
      "57.89473684210526\n"
     ]
    }
   ],
   "source": [
    "# Unsegmented\n",
    "# MIN = 20, N = 4\n",
    "# Direct embedding\n",
    "\n",
    "questions, answers, options = get_wbst_dataset(\"evaluation/mr.wbst.json\")\n",
    "model_judgments = get_model_judgments(questions, options)\n",
    "accuracy = 0\n",
    "for idx, ans in enumerate(answers):\n",
    "    if model_judgments[idx]==ans:\n",
    "        accuracy+=1\n",
    "print(accuracy*100/len(answers))"
   ]
  },
  {
   "cell_type": "code",
   "execution_count": 228,
   "id": "recorded-shark",
   "metadata": {},
   "outputs": [
    {
     "name": "stdout",
     "output_type": "stream",
     "text": [
      "1183\n",
      "1183\n",
      "51.90194420963652\n"
     ]
    }
   ],
   "source": [
    "# Unsegmented\n",
    "# MIN = 10, N = 4\n",
    "# Direct embedding\n",
    "\n",
    "questions, answers, options = get_wbst_dataset(\"evaluation/mr.wbst.json\")\n",
    "model_judgments = get_model_judgments(questions, options)\n",
    "accuracy = 0\n",
    "for idx, ans in enumerate(answers):\n",
    "    if model_judgments[idx]==ans:\n",
    "        accuracy+=1\n",
    "print(accuracy*100/len(answers))"
   ]
  },
  {
   "cell_type": "code",
   "execution_count": 226,
   "id": "victorian-fourth",
   "metadata": {},
   "outputs": [
    {
     "name": "stdout",
     "output_type": "stream",
     "text": [
      "1183\n",
      "1183\n",
      "51.22569737954353\n"
     ]
    }
   ],
   "source": [
    "# Unsegmented\n",
    "# MIN = 10, N = 5\n",
    "# Direct embedding\n",
    "\n",
    "questions, answers, options = get_wbst_dataset(\"evaluation/mr.wbst.json\")\n",
    "model_judgments = get_model_judgments(questions, options)\n",
    "accuracy = 0\n",
    "for idx, ans in enumerate(answers):\n",
    "    if model_judgments[idx]==ans:\n",
    "        accuracy+=1\n",
    "print(accuracy*100/len(answers))"
   ]
  },
  {
   "cell_type": "code",
   "execution_count": 227,
   "id": "cheap-champagne",
   "metadata": {},
   "outputs": [
    {
     "name": "stdout",
     "output_type": "stream",
     "text": [
      "293\n",
      "293\n",
      "58.02047781569966\n"
     ]
    }
   ],
   "source": [
    "# Unsegmented\n",
    "# MIN = 50, N = 4\n",
    "# Direct embedding\n",
    "\n",
    "questions, answers, options = get_wbst_dataset(\"evaluation/mr.wbst.json\")\n",
    "model_judgments = get_model_judgments(questions, options)\n",
    "accuracy = 0\n",
    "for idx, ans in enumerate(answers):\n",
    "    if model_judgments[idx]==ans:\n",
    "        accuracy+=1\n",
    "print(accuracy*100/len(answers))"
   ]
  },
  {
   "cell_type": "code",
   "execution_count": 233,
   "id": "pursuant-gallery",
   "metadata": {},
   "outputs": [
    {
     "name": "stdout",
     "output_type": "stream",
     "text": [
      "684\n",
      "684\n",
      "58.187134502923975\n"
     ]
    }
   ],
   "source": [
    "# Crosslingual double data\n",
    "# MIN = 20, N = 5\n",
    "# Direct embedding\n",
    "\n",
    "questions, answers, options = get_wbst_dataset(\"evaluation/mr.wbst.json\")\n",
    "model_judgments = get_model_judgments(questions, options)\n",
    "accuracy = 0\n",
    "for idx, ans in enumerate(answers):\n",
    "    if model_judgments[idx]==ans:\n",
    "        accuracy+=1\n",
    "print(accuracy*100/len(answers))"
   ]
  },
  {
   "cell_type": "code",
   "execution_count": 234,
   "id": "stuck-scoop",
   "metadata": {},
   "outputs": [
    {
     "name": "stdout",
     "output_type": "stream",
     "text": [
      "684\n",
      "684\n",
      "64.32748538011695\n"
     ]
    }
   ],
   "source": [
    "# Crosslingual double data\n",
    "# MIN = 20, N = 4\n",
    "# Direct embedding\n",
    "\n",
    "questions, answers, options = get_wbst_dataset(\"evaluation/mr.wbst.json\")\n",
    "model_judgments = get_model_judgments(questions, options)\n",
    "accuracy = 0\n",
    "for idx, ans in enumerate(answers):\n",
    "    if model_judgments[idx]==ans:\n",
    "        accuracy+=1\n",
    "print(accuracy*100/len(answers))"
   ]
  },
  {
   "cell_type": "code",
   "execution_count": 237,
   "id": "functioning-roots",
   "metadata": {},
   "outputs": [
    {
     "name": "stdout",
     "output_type": "stream",
     "text": [
      "1183\n",
      "1183\n",
      "61.53846153846154\n"
     ]
    }
   ],
   "source": [
    "# Crosslingual double data\n",
    "# MIN = 10, N = 4\n",
    "# Direct embedding\n",
    "\n",
    "questions, answers, options = get_wbst_dataset(\"evaluation/mr.wbst.json\")\n",
    "model_judgments = get_model_judgments(questions, options)\n",
    "accuracy = 0\n",
    "for idx, ans in enumerate(answers):\n",
    "    if model_judgments[idx]==ans:\n",
    "        accuracy+=1\n",
    "print(accuracy*100/len(answers))"
   ]
  },
  {
   "cell_type": "code",
   "execution_count": 241,
   "id": "nervous-madonna",
   "metadata": {},
   "outputs": [
    {
     "name": "stdout",
     "output_type": "stream",
     "text": [
      "1183\n",
      "1183\n",
      "56.29754860524091\n"
     ]
    }
   ],
   "source": [
    "# Crosslingual double data\n",
    "# MIN = 10, N = 5\n",
    "# Direct embedding\n",
    "\n",
    "questions, answers, options = get_wbst_dataset(\"evaluation/mr.wbst.json\")\n",
    "model_judgments = get_model_judgments(questions, options)\n",
    "accuracy = 0\n",
    "for idx, ans in enumerate(answers):\n",
    "    if model_judgments[idx]==ans:\n",
    "        accuracy+=1\n",
    "print(accuracy*100/len(answers))"
   ]
  },
  {
   "cell_type": "code",
   "execution_count": 236,
   "id": "falling-float",
   "metadata": {},
   "outputs": [
    {
     "name": "stdout",
     "output_type": "stream",
     "text": [
      "293\n",
      "293\n",
      "68.9419795221843\n"
     ]
    }
   ],
   "source": [
    "# Crosslingual double data\n",
    "# MIN = 50, N = 4\n",
    "# Direct embedding\n",
    "\n",
    "questions, answers, options = get_wbst_dataset(\"evaluation/mr.wbst.json\")\n",
    "model_judgments = get_model_judgments(questions, options)\n",
    "accuracy = 0\n",
    "for idx, ans in enumerate(answers):\n",
    "    if model_judgments[idx]==ans:\n",
    "        accuracy+=1\n",
    "print(accuracy*100/len(answers))"
   ]
  },
  {
   "cell_type": "code",
   "execution_count": null,
   "id": "backed-jenny",
   "metadata": {},
   "outputs": [],
   "source": []
  },
  {
   "cell_type": "code",
   "execution_count": null,
   "id": "capable-advocacy",
   "metadata": {},
   "outputs": [],
   "source": []
  },
  {
   "cell_type": "code",
   "execution_count": 243,
   "id": "alpine-thinking",
   "metadata": {},
   "outputs": [
    {
     "name": "stdout",
     "output_type": "stream",
     "text": [
      "1183\n",
      "1183\n",
      "55.790363482671175\n"
     ]
    }
   ],
   "source": [
    "# Crosslingual double data\n",
    "# MIN = 50, N = 4\n",
    "# Direct embedding\n",
    "import copy\n",
    "questions, answers, options = get_wbst_dataset(\"evaluation/mr.wbst.json\")\n",
    "mr_embeddings = copy.copy(iter1)\n",
    "model_judgments = get_model_judgments(questions, options)\n",
    "accuracy = 0\n",
    "for idx, ans in enumerate(answers):\n",
    "    if model_judgments[idx]==ans:\n",
    "        accuracy+=1\n",
    "print(accuracy*100/len(answers))"
   ]
  },
  {
   "cell_type": "code",
   "execution_count": 245,
   "id": "elementary-friend",
   "metadata": {},
   "outputs": [
    {
     "name": "stdout",
     "output_type": "stream",
     "text": [
      "1183\n",
      "1183\n",
      "47.08368554522401\n"
     ]
    }
   ],
   "source": [
    "# Crosslingual double data\n",
    "# MIN = 50, N = 4\n",
    "# Direct embedding\n",
    "import copy\n",
    "questions, answers, options = get_wbst_dataset(\"evaluation/mr.wbst.json\")\n",
    "mr_embeddings = copy.copy(unseg)\n",
    "model_judgments = get_model_judgments(questions, options)\n",
    "accuracy = 0\n",
    "for idx, ans in enumerate(answers):\n",
    "    if model_judgments[idx]==ans:\n",
    "        accuracy+=1\n",
    "print(accuracy*100/len(answers))"
   ]
  },
  {
   "cell_type": "code",
   "execution_count": null,
   "id": "surprised-tennis",
   "metadata": {},
   "outputs": [],
   "source": []
  },
  {
   "cell_type": "code",
   "execution_count": null,
   "id": "official-huntington",
   "metadata": {},
   "outputs": [],
   "source": []
  },
  {
   "cell_type": "code",
   "execution_count": 129,
   "id": "complicated-furniture",
   "metadata": {},
   "outputs": [
    {
     "name": "stdout",
     "output_type": "stream",
     "text": [
      "435\n",
      "435\n"
     ]
    }
   ],
   "source": [
    "#SELF Hindi cc 300\n",
    "questions, answers, options = get_wbst_dataset(\"evaluation/mr.wbst.json\")\n",
    "model_judgments = get_model_judgments(questions, options)\n"
   ]
  },
  {
   "cell_type": "code",
   "execution_count": 72,
   "id": "passing-purpose",
   "metadata": {},
   "outputs": [
    {
     "name": "stdout",
     "output_type": "stream",
     "text": [
      "47.781569965870304\n"
     ]
    }
   ],
   "source": [
    "accuracy = 0\n",
    "for idx, ans in enumerate(answers):\n",
    "    if model_judgments[idx]==ans:\n",
    "        accuracy+=1\n",
    "print(accuracy*100/len(answers))"
   ]
  },
  {
   "cell_type": "code",
   "execution_count": 75,
   "id": "southeast-presentation",
   "metadata": {},
   "outputs": [
    {
     "name": "stdout",
     "output_type": "stream",
     "text": [
      "46.58703071672355\n"
     ]
    }
   ],
   "source": [
    "accuracy = 0\n",
    "for idx, ans in enumerate(answers):\n",
    "    if model_judgments[idx]==ans:\n",
    "        accuracy+=1\n",
    "print(accuracy*100/len(answers))"
   ]
  },
  {
   "cell_type": "code",
   "execution_count": 78,
   "id": "operating-charge",
   "metadata": {},
   "outputs": [
    {
     "name": "stdout",
     "output_type": "stream",
     "text": [
      "46.58703071672355\n"
     ]
    }
   ],
   "source": [
    "accuracy = 0\n",
    "for idx, ans in enumerate(answers):\n",
    "    if model_judgments[idx]==ans:\n",
    "        accuracy+=1\n",
    "print(accuracy*100/len(answers))"
   ]
  },
  {
   "cell_type": "code",
   "execution_count": 85,
   "id": "headed-productivity",
   "metadata": {},
   "outputs": [
    {
     "name": "stdout",
     "output_type": "stream",
     "text": [
      "46.58703071672355\n"
     ]
    }
   ],
   "source": [
    "accuracy = 0\n",
    "for idx, ans in enumerate(answers):\n",
    "    if model_judgments[idx]==ans:\n",
    "        accuracy+=1\n",
    "print(accuracy*100/len(answers))"
   ]
  },
  {
   "cell_type": "code",
   "execution_count": 110,
   "id": "alone-grant",
   "metadata": {},
   "outputs": [
    {
     "name": "stdout",
     "output_type": "stream",
     "text": [
      "52.493660185967876\n"
     ]
    }
   ],
   "source": [
    "accuracy = 0\n",
    "for idx, ans in enumerate(answers):\n",
    "    if model_judgments[idx]==ans:\n",
    "        accuracy+=1\n",
    "print(accuracy*100/len(answers))"
   ]
  },
  {
   "cell_type": "code",
   "execution_count": 100,
   "id": "progressive-killer",
   "metadata": {},
   "outputs": [
    {
     "name": "stdout",
     "output_type": "stream",
     "text": [
      "55.452240067624686\n"
     ]
    }
   ],
   "source": [
    "accuracy = 0\n",
    "for idx, ans in enumerate(answers):\n",
    "    if model_judgments[idx]==ans:\n",
    "        accuracy+=1\n",
    "print(accuracy*100/len(answers))"
   ]
  },
  {
   "cell_type": "code",
   "execution_count": 103,
   "id": "later-bacon",
   "metadata": {},
   "outputs": [
    {
     "name": "stdout",
     "output_type": "stream",
     "text": [
      "70.07607776838546\n"
     ]
    }
   ],
   "source": [
    "accuracy = 0\n",
    "for idx, ans in enumerate(answers):\n",
    "    if model_judgments[idx]==ans:\n",
    "        accuracy+=1\n",
    "print(accuracy*100/len(answers))"
   ]
  },
  {
   "cell_type": "code",
   "execution_count": 118,
   "id": "artificial-orlando",
   "metadata": {},
   "outputs": [
    {
     "name": "stdout",
     "output_type": "stream",
     "text": [
      "54.69146238377007\n"
     ]
    }
   ],
   "source": [
    "accuracy = 0\n",
    "for idx, ans in enumerate(answers):\n",
    "    if model_judgments[idx]==ans:\n",
    "        accuracy+=1\n",
    "print(accuracy*100/len(answers))"
   ]
  },
  {
   "cell_type": "code",
   "execution_count": 123,
   "id": "loose-health",
   "metadata": {},
   "outputs": [
    {
     "name": "stdout",
     "output_type": "stream",
     "text": [
      "62.52873563218391\n"
     ]
    }
   ],
   "source": [
    "accuracy = 0\n",
    "for idx, ans in enumerate(answers):\n",
    "    if model_judgments[idx]==ans:\n",
    "        accuracy+=1\n",
    "print(accuracy*100/len(answers))"
   ]
  },
  {
   "cell_type": "code",
   "execution_count": 127,
   "id": "stretch-discharge",
   "metadata": {},
   "outputs": [
    {
     "name": "stdout",
     "output_type": "stream",
     "text": [
      "57.241379310344826\n"
     ]
    }
   ],
   "source": [
    "accuracy = 0\n",
    "for idx, ans in enumerate(answers):\n",
    "    if model_judgments[idx]==ans:\n",
    "        accuracy+=1\n",
    "print(accuracy*100/len(answers))"
   ]
  },
  {
   "cell_type": "code",
   "execution_count": 130,
   "id": "animated-trial",
   "metadata": {},
   "outputs": [
    {
     "name": "stdout",
     "output_type": "stream",
     "text": [
      "82.75862068965517\n"
     ]
    }
   ],
   "source": [
    "accuracy = 0\n",
    "for idx, ans in enumerate(answers):\n",
    "    if model_judgments[idx]==ans:\n",
    "        accuracy+=1\n",
    "print(accuracy*100/len(answers))"
   ]
  },
  {
   "cell_type": "code",
   "execution_count": 131,
   "id": "worldwide-midwest",
   "metadata": {},
   "outputs": [
    {
     "name": "stdout",
     "output_type": "stream",
     "text": [
      "811\n",
      "811\n",
      "83.23057953144266\n"
     ]
    }
   ],
   "source": [
    "questions, answers, options = get_wbst_dataset(\"evaluation/mr.wbst.json\")\n",
    "model_judgments = get_model_judgments(questions, options)\n",
    "accuracy = 0\n",
    "for idx, ans in enumerate(answers):\n",
    "    if model_judgments[idx]==ans:\n",
    "        accuracy+=1\n",
    "print(accuracy*100/len(answers))\n"
   ]
  },
  {
   "cell_type": "code",
   "execution_count": 133,
   "id": "elect-journalist",
   "metadata": {},
   "outputs": [
    {
     "name": "stdout",
     "output_type": "stream",
     "text": [
      "811\n",
      "811\n",
      "56.473489519112206\n"
     ]
    }
   ],
   "source": [
    "questions, answers, options = get_wbst_dataset(\"evaluation/mr.wbst.json\")\n",
    "model_judgments = get_model_judgments(questions, options)\n",
    "accuracy = 0\n",
    "for idx, ans in enumerate(answers):\n",
    "    if model_judgments[idx]==ans:\n",
    "        accuracy+=1\n",
    "print(accuracy*100/len(answers))\n",
    "\n"
   ]
  },
  {
   "cell_type": "code",
   "execution_count": 135,
   "id": "standing-control",
   "metadata": {},
   "outputs": [
    {
     "name": "stdout",
     "output_type": "stream",
     "text": [
      "811\n",
      "811\n",
      "56.59679408138101\n"
     ]
    }
   ],
   "source": [
    "questions, answers, options = get_wbst_dataset(\"evaluation/mr.wbst.json\")\n",
    "model_judgments = get_model_judgments(questions, options)\n",
    "accuracy = 0\n",
    "for idx, ans in enumerate(answers):\n",
    "    if model_judgments[idx]==ans:\n",
    "        accuracy+=1\n",
    "print(accuracy*100/len(answers))\n",
    "\n",
    "\n"
   ]
  },
  {
   "cell_type": "code",
   "execution_count": 136,
   "id": "offshore-university",
   "metadata": {},
   "outputs": [
    {
     "name": "stdout",
     "output_type": "stream",
     "text": [
      "494\n",
      "494\n",
      "59.716599190283404\n"
     ]
    }
   ],
   "source": [
    "questions, answers, options = get_wbst_dataset(\"evaluation/mr.wbst.json\")\n",
    "model_judgments = get_model_judgments(questions, options)\n",
    "accuracy = 0\n",
    "for idx, ans in enumerate(answers):\n",
    "    if model_judgments[idx]==ans:\n",
    "        accuracy+=1\n",
    "print(accuracy*100/len(answers))\n",
    "\n",
    "\n",
    "\n"
   ]
  },
  {
   "cell_type": "code",
   "execution_count": 139,
   "id": "amended-screen",
   "metadata": {},
   "outputs": [
    {
     "name": "stdout",
     "output_type": "stream",
     "text": [
      "494\n",
      "494\n",
      "61.336032388663966\n"
     ]
    }
   ],
   "source": [
    "questions, answers, options = get_wbst_dataset(\"evaluation/mr.wbst.json\")\n",
    "model_judgments = get_model_judgments(questions, options)\n",
    "accuracy = 0\n",
    "for idx, ans in enumerate(answers):\n",
    "    if model_judgments[idx]==ans:\n",
    "        accuracy+=1\n",
    "print(accuracy*100/len(answers))\n",
    "\n",
    "\n",
    "\n",
    "\n"
   ]
  },
  {
   "cell_type": "code",
   "execution_count": 140,
   "id": "characteristic-silicon",
   "metadata": {},
   "outputs": [
    {
     "name": "stdout",
     "output_type": "stream",
     "text": [
      "94\n",
      "94\n",
      "62.765957446808514\n"
     ]
    }
   ],
   "source": [
    "questions, answers, options = get_wbst_dataset(\"evaluation/mr.wbst.json\")\n",
    "model_judgments = get_model_judgments(questions, options)\n",
    "accuracy = 0\n",
    "for idx, ans in enumerate(answers):\n",
    "    if model_judgments[idx]==ans:\n",
    "        accuracy+=1\n",
    "print(accuracy*100/len(answers))\n",
    "\n",
    "\n",
    "\n",
    "\n"
   ]
  },
  {
   "cell_type": "code",
   "execution_count": null,
   "id": "historic-thesaurus",
   "metadata": {},
   "outputs": [],
   "source": []
  }
 ],
 "metadata": {
  "kernelspec": {
   "display_name": "Python 3",
   "language": "python",
   "name": "python3"
  },
  "language_info": {
   "codemirror_mode": {
    "name": "ipython",
    "version": 3
   },
   "file_extension": ".py",
   "mimetype": "text/x-python",
   "name": "python",
   "nbconvert_exporter": "python",
   "pygments_lexer": "ipython3",
   "version": "3.8.8"
  }
 },
 "nbformat": 4,
 "nbformat_minor": 5
}
