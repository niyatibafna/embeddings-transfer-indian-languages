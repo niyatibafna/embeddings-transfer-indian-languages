{
 "cells": [
  {
   "cell_type": "code",
   "execution_count": 1,
   "id": "alone-morgan",
   "metadata": {},
   "outputs": [],
   "source": [
    "import fasttext\n",
    "import numpy as np\n",
    "from scipy.spatial import distance\n",
    "from scipy import stats\n",
    "import json"
   ]
  },
  {
   "cell_type": "code",
   "execution_count": 17,
   "id": "desirable-wellington",
   "metadata": {},
   "outputs": [
    {
     "name": "stderr",
     "output_type": "stream",
     "text": [
      "Warning : `load_model` does not return WordVectorModel or SupervisedModel any more, but a `FastText` object which is very similar.\n"
     ]
    }
   ],
   "source": [
    "hin_embeddings = fasttext.load_model(\"hin_embeddings/hin.embeddings.300.bin\")\n",
    "# hin_embeddings = fasttext.load_model(\"cc.hi.300.bin\")"
   ]
  },
  {
   "cell_type": "code",
   "execution_count": null,
   "id": "deluxe-intention",
   "metadata": {},
   "outputs": [],
   "source": []
  },
  {
   "cell_type": "code",
   "execution_count": 18,
   "id": "abstract-scene",
   "metadata": {},
   "outputs": [],
   "source": [
    "def get_model_judgment(word_pair):\n",
    "    (word1, word2) = word_pair\n",
    "    a1 = hin_embeddings[word1]\n",
    "    b1 = hin_embeddings[word2]\n",
    "    return (1 - distance.cosine(a1, b1))"
   ]
  },
  {
   "cell_type": "code",
   "execution_count": 19,
   "id": "another-improvement",
   "metadata": {},
   "outputs": [],
   "source": [
    "def get_model_judgments(word_pairs):\n",
    "    judgments = [get_model_judgment(word_pair) for word_pair in word_pairs]\n",
    "    return judgments"
   ]
  },
  {
   "cell_type": "code",
   "execution_count": 20,
   "id": "superb-stereo",
   "metadata": {},
   "outputs": [],
   "source": [
    "# Get word sim dataset\n",
    "# Process word sim dataset\n",
    "def get_word_sim_dataset(path):\n",
    "    word_sim = open(path, \"r\").read().split(\"\\n\")\n",
    "    word_pairs = [(pair.split(\"\\t\")[0], pair.split(\"\\t\")[1]) for pair in word_sim]\n",
    "    judgments = [float(pair.split(\"\\t\")[2]) for pair in word_sim]\n",
    "    return word_pairs, judgments"
   ]
  },
  {
   "cell_type": "code",
   "execution_count": 21,
   "id": "exclusive-hearing",
   "metadata": {},
   "outputs": [
    {
     "name": "stdout",
     "output_type": "stream",
     "text": [
      "SpearmanrResult(correlation=0.5072718045006983, pvalue=9.025206876918802e-17)\n"
     ]
    }
   ],
   "source": [
    "word_pairs, human_judgments = get_word_sim_dataset(\"evaluation/hin.word_sim.txt\")\n",
    "model_judgments = get_model_judgments(word_pairs)\n",
    "spearman_correlation = stats.spearmanr(model_judgments, human_judgments)\n",
    "print(spearman_correlation)"
   ]
  },
  {
   "cell_type": "code",
   "execution_count": null,
   "id": "yellow-edward",
   "metadata": {},
   "outputs": [],
   "source": []
  }
 ],
 "metadata": {
  "kernelspec": {
   "display_name": "Python 3",
   "language": "python",
   "name": "python3"
  },
  "language_info": {
   "codemirror_mode": {
    "name": "ipython",
    "version": 3
   },
   "file_extension": ".py",
   "mimetype": "text/x-python",
   "name": "python",
   "nbconvert_exporter": "python",
   "pygments_lexer": "ipython3",
   "version": "3.8.8"
  }
 },
 "nbformat": 4,
 "nbformat_minor": 5
}
