{
 "cells": [
  {
   "cell_type": "code",
   "execution_count": 6,
   "id": "alone-morgan",
   "metadata": {},
   "outputs": [],
   "source": [
    "import fasttext\n",
    "import numpy as np\n",
    "from scipy.spatial import distance\n",
    "from scipy import stats\n",
    "import json\n",
    "import io"
   ]
  },
  {
   "cell_type": "code",
   "execution_count": 9,
   "id": "desirable-wellington",
   "metadata": {},
   "outputs": [
    {
     "name": "stderr",
     "output_type": "stream",
     "text": [
      "Warning : `load_model` does not return WordVectorModel or SupervisedModel any more, but a `FastText` object which is very similar.\n"
     ]
    },
    {
     "ename": "KeyboardInterrupt",
     "evalue": "",
     "output_type": "error",
     "traceback": [
      "\u001b[0;31m---------------------------------------------------------------------------\u001b[0m",
      "\u001b[0;31mKeyboardInterrupt\u001b[0m                         Traceback (most recent call last)",
      "\u001b[0;32m<ipython-input-9-0e80b103119b>\u001b[0m in \u001b[0;36m<module>\u001b[0;34m\u001b[0m\n\u001b[1;32m     10\u001b[0m \u001b[0mhin_embeddings\u001b[0m \u001b[0;34m=\u001b[0m \u001b[0mfasttext\u001b[0m\u001b[0;34m.\u001b[0m\u001b[0mload_model\u001b[0m\u001b[0;34m(\u001b[0m\u001b[0;34m\"hin_embeddings/cc.hi.300.bin\"\u001b[0m\u001b[0;34m)\u001b[0m\u001b[0;34m\u001b[0m\u001b[0;34m\u001b[0m\u001b[0m\n\u001b[1;32m     11\u001b[0m \u001b[0;31m# hin_embeddings = load_vectors(\"hin_embeddings/hin.crosslingual.300.vec\")\u001b[0m\u001b[0;34m\u001b[0m\u001b[0;34m\u001b[0m\u001b[0;34m\u001b[0m\u001b[0m\n\u001b[0;32m---> 12\u001b[0;31m \u001b[0mhin_embeddings\u001b[0m \u001b[0;34m=\u001b[0m \u001b[0mload_vectors\u001b[0m\u001b[0;34m(\u001b[0m\u001b[0;34m\"hin_embeddings/hin.cc.crosslingual.300.vec\"\u001b[0m\u001b[0;34m)\u001b[0m\u001b[0;34m\u001b[0m\u001b[0;34m\u001b[0m\u001b[0m\n\u001b[0m",
      "\u001b[0;32m<ipython-input-9-0e80b103119b>\u001b[0m in \u001b[0;36mload_vectors\u001b[0;34m(fname)\u001b[0m\n\u001b[1;32m      5\u001b[0m     \u001b[0;32mfor\u001b[0m \u001b[0mline\u001b[0m \u001b[0;32min\u001b[0m \u001b[0mfin\u001b[0m\u001b[0;34m:\u001b[0m\u001b[0;34m\u001b[0m\u001b[0;34m\u001b[0m\u001b[0m\n\u001b[1;32m      6\u001b[0m         \u001b[0mtokens\u001b[0m \u001b[0;34m=\u001b[0m \u001b[0mline\u001b[0m\u001b[0;34m.\u001b[0m\u001b[0mrstrip\u001b[0m\u001b[0;34m(\u001b[0m\u001b[0;34m)\u001b[0m\u001b[0;34m.\u001b[0m\u001b[0msplit\u001b[0m\u001b[0;34m(\u001b[0m\u001b[0;34m' '\u001b[0m\u001b[0;34m)\u001b[0m\u001b[0;34m\u001b[0m\u001b[0;34m\u001b[0m\u001b[0m\n\u001b[0;32m----> 7\u001b[0;31m         \u001b[0mdata\u001b[0m\u001b[0;34m[\u001b[0m\u001b[0mtokens\u001b[0m\u001b[0;34m[\u001b[0m\u001b[0;36m0\u001b[0m\u001b[0;34m]\u001b[0m\u001b[0;34m]\u001b[0m \u001b[0;34m=\u001b[0m \u001b[0mnp\u001b[0m\u001b[0;34m.\u001b[0m\u001b[0masarray\u001b[0m\u001b[0;34m(\u001b[0m\u001b[0mlist\u001b[0m\u001b[0;34m(\u001b[0m\u001b[0mmap\u001b[0m\u001b[0;34m(\u001b[0m\u001b[0mfloat\u001b[0m\u001b[0;34m,\u001b[0m \u001b[0mtokens\u001b[0m\u001b[0;34m[\u001b[0m\u001b[0;36m1\u001b[0m\u001b[0;34m:\u001b[0m\u001b[0;34m]\u001b[0m\u001b[0;34m)\u001b[0m\u001b[0;34m)\u001b[0m\u001b[0;34m)\u001b[0m\u001b[0;34m\u001b[0m\u001b[0;34m\u001b[0m\u001b[0m\n\u001b[0m\u001b[1;32m      8\u001b[0m     \u001b[0;32mreturn\u001b[0m \u001b[0mdata\u001b[0m\u001b[0;34m\u001b[0m\u001b[0;34m\u001b[0m\u001b[0m\n\u001b[1;32m      9\u001b[0m \u001b[0;31m# hin_embeddings_backup = fasttext.load_model(\"hin_embeddings/hin.embeddings.300.bin\")\u001b[0m\u001b[0;34m\u001b[0m\u001b[0;34m\u001b[0m\u001b[0;34m\u001b[0m\u001b[0m\n",
      "\u001b[0;31mKeyboardInterrupt\u001b[0m: "
     ]
    }
   ],
   "source": [
    "def load_vectors(fname):\n",
    "    fin = io.open(fname, 'r', encoding='utf-8', newline='\\n', errors='ignore')\n",
    "    n, d = map(int, fin.readline().split())\n",
    "    data = {}\n",
    "    for line in fin:\n",
    "        tokens = line.rstrip().split(' ')\n",
    "        data[tokens[0]] = np.asarray(list(map(float, tokens[1:])))\n",
    "    return data\n",
    "# hin_embeddings_backup = fasttext.load_model(\"hin_embeddings/hin.embeddings.300.bin\")\n",
    "hin_embeddings = fasttext.load_model(\"hin_embeddings/cc.hi.300.bin\")\n",
    "# hin_embeddings = load_vectors(\"hin_embeddings/hin.crosslingual.300.vec\")\n",
    "# hin_embeddings = load_vectors(\"hin_embeddings/hin.cc.crosslingual.300.vec\")"
   ]
  },
  {
   "cell_type": "code",
   "execution_count": 8,
   "id": "hollow-pursuit",
   "metadata": {},
   "outputs": [
    {
     "name": "stderr",
     "output_type": "stream",
     "text": [
      "Warning : `load_model` does not return WordVectorModel or SupervisedModel any more, but a `FastText` object which is very similar.\n"
     ]
    }
   ],
   "source": [
    "mr_embeddings = fasttext.load_model('mr_embeddings/cc.mr.300.bin')\n",
    "# mr_embeddings = fasttext.load_model(\"mr_embeddings/mr.embeddings.300.bin\")\n",
    "# mr_embeddings = fasttext.load_model(\"mr_embeddings/mr.embeddings.100.bin\")\n",
    "# mr_embeddings = load_vectors(\"mr_embeddings/mr.cc.crosslingual.300.vec\")"
   ]
  },
  {
   "cell_type": "code",
   "execution_count": 16,
   "id": "virgin-genome",
   "metadata": {},
   "outputs": [
    {
     "name": "stderr",
     "output_type": "stream",
     "text": [
      "Warning : `load_model` does not return WordVectorModel or SupervisedModel any more, but a `FastText` object which is very similar.\n"
     ]
    }
   ],
   "source": [
    "mr_embeddings_backup = fasttext.load_model(\"mr_embeddings/mr.embeddings.300.bin\")"
   ]
  },
  {
   "cell_type": "code",
   "execution_count": 12,
   "id": "deluxe-intention",
   "metadata": {},
   "outputs": [
    {
     "data": {
      "text/plain": [
       "array([1., 2.])"
      ]
     },
     "execution_count": 12,
     "metadata": {},
     "output_type": "execute_result"
    }
   ],
   "source": [
    "x = map(float, [1,2])\n",
    "np.asarray(list(x))"
   ]
  },
  {
   "cell_type": "code",
   "execution_count": 11,
   "id": "abstract-scene",
   "metadata": {},
   "outputs": [],
   "source": [
    "def get_model_judgment(word_pair):\n",
    "    (word1, word2) = word_pair\n",
    "    try:\n",
    "        a1 = hin_embeddings[word1]\n",
    "        \n",
    "        \n",
    "    except KeyError:\n",
    "        print(word1)\n",
    "        a1 = mr_embeddings_backup[word1]\n",
    "        \n",
    "    try:\n",
    "        b1 = hin_embeddings[word2]\n",
    "    except KeyError:\n",
    "        print(word2)\n",
    "        b1 = hin_embeddings_backup[word2]\n",
    "        \n",
    "    return (1 - distance.cosine(a1, b1))\n",
    "        "
   ]
  },
  {
   "cell_type": "code",
   "execution_count": null,
   "id": "another-improvement",
   "metadata": {},
   "outputs": [],
   "source": [
    "def get_model_judgments(word_pairs):\n",
    "    judgments = [get_model_judgment(word_pair) for word_pair in word_pairs]\n",
    "    return judgments"
   ]
  },
  {
   "cell_type": "code",
   "execution_count": null,
   "id": "superb-stereo",
   "metadata": {},
   "outputs": [],
   "source": [
    "# Get word sim dataset\n",
    "# Process word sim dataset\n",
    "def get_word_sim_dataset(path):\n",
    "    word_sim = open(path, \"r\").read().split(\"\\n\")\n",
    "    word_pairs = [(pair.split(\"\\t\")[0], pair.split(\"\\t\")[1]) for pair in word_sim]\n",
    "    judgments = [float(pair.split(\"\\t\")[2]) for pair in word_sim]\n",
    "    return word_pairs, judgments"
   ]
  },
  {
   "cell_type": "code",
   "execution_count": 21,
   "id": "exclusive-hearing",
   "metadata": {},
   "outputs": [
    {
     "name": "stdout",
     "output_type": "stream",
     "text": [
      "SpearmanrResult(correlation=0.5072718045006983, pvalue=9.025206876918802e-17)\n"
     ]
    }
   ],
   "source": [
    "# 300 fasttext (trained on segmented)\n",
    "\n",
    "word_pairs, human_judgments = get_word_sim_dataset(\"evaluation/hin.word_sim.txt\")\n",
    "model_judgments = get_model_judgments(word_pairs)\n",
    "spearman_correlation = stats.spearmanr(model_judgments, human_judgments)\n",
    "print(spearman_correlation)"
   ]
  },
  {
   "cell_type": "code",
   "execution_count": 15,
   "id": "yellow-edward",
   "metadata": {},
   "outputs": [
    {
     "name": "stdout",
     "output_type": "stream",
     "text": [
      "SpearmanrResult(correlation=0.5750679275760561, pvalue=4.355153712018086e-22)\n"
     ]
    }
   ],
   "source": [
    "#cc 300 fasttext (downloaded)\n",
    "\n",
    "word_pairs, human_judgments = get_word_sim_dataset(\"evaluation/hin.word_sim.txt\")\n",
    "model_judgments = get_model_judgments(word_pairs)\n",
    "spearman_correlation = stats.spearmanr(model_judgments, human_judgments)\n",
    "print(spearman_correlation)"
   ]
  },
  {
   "cell_type": "code",
   "execution_count": 36,
   "id": "classified-physics",
   "metadata": {},
   "outputs": [
    {
     "name": "stdout",
     "output_type": "stream",
     "text": [
      "235\n",
      "SpearmanrResult(correlation=0.4889169385095757, pvalue=1.590491772145264e-15)\n"
     ]
    }
   ],
   "source": [
    "#CROSSLINGUAL with 300 fasttext (trained on segmented) as backup\n",
    "word_pairs, human_judgments = get_word_sim_dataset(\"evaluation/hin.word_sim.txt\")\n",
    "model_judgments = get_model_judgments(word_pairs)\n",
    "human_judgments = [human_judgments[idx] for idx in range(len(human_judgments)) if model_judgments[idx] is not None]\n",
    "model_judgments = list(filter(lambda x: x is not None, model_judgments))\n",
    "print(len(human_judgments))\n",
    "spearman_correlation = stats.spearmanr(model_judgments, human_judgments)\n",
    "print(spearman_correlation)"
   ]
  },
  {
   "cell_type": "code",
   "execution_count": 10,
   "id": "hired-arrangement",
   "metadata": {},
   "outputs": [
    {
     "name": "stdout",
     "output_type": "stream",
     "text": [
      "(8.5, 0.4548126757144928, ('संगणक', 'इंटरनेट'))\n",
      "(6.75, 0.24530918896198273, ('विमान', 'कार'))\n",
      "(6.625, 0.17394493520259857, ('रेल्वे', 'कार'))\n",
      "(9.0, 0.19466328620910645, ('टेलिफोन', 'संवाद'))\n",
      "(7.0, 0.3299368917942047, ('दूरदर्शन', 'रेडिओ'))\n",
      "(8.0, 0.1975981742143631, ('मीडिया', 'रेडिओ'))\n",
      "(6.375, 0.37264373898506165, ('डॉक्टर', 'परिचारिका'))\n",
      "(4.0, 0.2736801505088806, ('प्राध्यापक', 'डॉक्टर'))\n",
      "(6.0, 0.387312650680542, ('विद्यार्थी', 'प्राध्यापक'))\n",
      "(4.375, 0.13760370016098022, ('स्मार्ट', 'विद्यार्थी'))\n",
      "(3.0, 0.08245529979467392, ('स्मार्ट', 'मूर्ख'))\n",
      "(6.375, 0.29583266377449036, ('पुस्तक', 'ग्रंथालय'))\n",
      "(8.5, 0.24927856028079987, ('बँक', 'पैसा'))\n",
      "(2.375, 0.0989447683095932, ('पवित्र', 'सेक्स'))\n",
      "(6.375, 0.21721553802490234, ('टेनिस', 'रॅकेट'))\n",
      "(8.375, 0.26931485533714294, ('अराफात', 'दहशतवादी'))\n",
      "(0.0, 0.15169468522071838, ('अराफात', 'जॅक्सन'))\n",
      "(8.5, 0.2683676779270172, ('कायदा', 'वकील'))\n",
      "(1.0, 0.014892476610839367, ('पेय', 'गाडी'))\n",
      "(0.0, 0.010776029899716377, ('पेय', 'कान'))\n",
      "(6.5, 0.14536872506141663, ('पक्षी', 'क्रेन'))\n",
      "(4.5, 0.20207031071186066, ('भाऊ', 'साधू'))\n",
      "(5.0, 0.1945166140794754, ('प्रवास', 'कार'))\n",
      "(3.0, -0.0235592070966959, ('वन', 'स्मशानभूमी'))\n",
      "(2.0, 0.08353014290332794, ('साधू', 'गुलाम'))\n",
      "(9.0, 0.39599907398223877, ('पैसा', 'संपत्ती'))\n",
      "(9.0, 0.39599907398223877, ('पैसा', 'संपत्ती'))\n",
      "(8.375, 0.24927856028079987, ('पैसा', 'बँक'))\n",
      "(6.0, 0.03908556327223778, ('पैसा', 'ऑपरेशन'))\n",
      "(6.375, 0.29199331998825073, ('ग्रह', 'तारा'))\n",
      "(6.25, 0.38781246542930603, ('ग्रह', 'नक्षत्र'))\n",
      "(6.5, 0.3759058117866516, ('ग्रह', 'चंद्र'))\n",
      "(6.125, 0.3590056300163269, ('ग्रह', 'सूर्य'))\n",
      "(6.375, 0.28120291233062744, ('ग्रह', 'आकाशगंगा'))\n",
      "(8.0, 0.13914655148983002, ('कप', 'कॉफी'))\n",
      "(3.0, 0.002377930097281933, ('कप', 'लेख'))\n",
      "(6.0, -0.030502868816256523, ('कप', 'ऑब्जेक्ट'))\n",
      "(7.0, 0.08388117700815201, ('कप', 'पेय'))\n",
      "(2.0, -0.0265637319535017, ('कप', 'अन्न'))\n",
      "(5.0, -0.08810687810182571, ('कप', 'पदार्थ'))\n",
      "(7.0, -0.04144376888871193, ('कप', 'द्रव'))\n",
      "(4.0, 0.20474055409431458, ('जग्वार', 'गाडी'))\n",
      "(2.0, 0.21176794171333313, ('ऊर्जा', 'सचिव'))\n",
      "(5.0, 0.17266865074634552, ('शस्त्र', 'गुप्त'))\n",
      "(4.0, 0.1327688843011856, ('वातावरण', 'लँडस्केप'))\n",
      "(4.0, 0.38852885365486145, ('जपानी', 'अमेरिकन'))\n",
      "(4.0, 0.1097036674618721, ('थिएटर', 'इतिहास'))\n",
      "SpearmanrResult(correlation=0.503767186863452, pvalue=0.00030634917961038844)\n"
     ]
    }
   ],
   "source": [
    "#Marathi cc 300 pretrained on mr cognates\n",
    "word_pairs, human_judgments = get_word_sim_dataset(\"evaluation/mr.cognates2.txt\")\n",
    "model_judgments = get_model_judgments(word_pairs)\n",
    "human_judgments = [human_judgments[idx] for idx in range(len(human_judgments)) if model_judgments[idx] is not None]\n",
    "model_judgments = list(filter(lambda x: x is not None, model_judgments))\n",
    "print(*list(zip(human_judgments, model_judgments, word_pairs)), sep=\"\\n\")\n",
    "spearman_correlation = stats.spearmanr(model_judgments, human_judgments)\n",
    "print(spearman_correlation)"
   ]
  },
  {
   "cell_type": "code",
   "execution_count": 50,
   "id": "capable-facial",
   "metadata": {},
   "outputs": [
    {
     "name": "stdout",
     "output_type": "stream",
     "text": [
      "(7.375, 0.2626831829547882, ('पुस्तक', 'कागद'))\n",
      "(8.5, 0.3290926516056061, ('संगणक', 'इंटरनेट'))\n",
      "(6.75, 0.4093678891658783, ('विमान', 'कार'))\n",
      "(6.625, 0.19273625314235687, ('रेल्वे', 'कार'))\n",
      "(9.0, 0.14239197969436646, ('टेलिफोन', 'संवाद'))\n",
      "(7.0, 0.4051612317562103, ('दूरदर्शन', 'रेडिओ'))\n",
      "(8.0, 0.3028254806995392, ('मीडिया', 'रेडिओ'))\n",
      "(6.375, 0.1627124845981598, ('डॉक्टर', 'परिचारिका'))\n",
      "(4.0, 0.2502923011779785, ('प्राध्यापक', 'डॉक्टर'))\n",
      "(6.0, 0.36071258783340454, ('विद्यार्थी', 'प्राध्यापक'))\n",
      "(4.375, 0.16025222837924957, ('स्मार्ट', 'विद्यार्थी'))\n",
      "(3.0, 0.27255865931510925, ('स्मार्ट', 'मूर्ख'))\n",
      "(6.375, 0.27047473192214966, ('पुस्तक', 'ग्रंथालय'))\n",
      "(8.5, 0.2592158317565918, ('बँक', 'पैसा'))\n",
      "(2.375, 0.1790100783109665, ('पवित्र', 'सेक्स'))\n",
      "(6.375, 0.1945643573999405, ('टेनिस', 'रॅकेट'))\n",
      "(8.375, 0.09642305225133896, ('अराफात', 'दहशतवादी'))\n",
      "(0.0, 0.16742481291294098, ('अराफात', 'जॅक्सन'))\n",
      "(8.5, 0.12597201764583588, ('कायदा', 'वकील'))\n",
      "(8.0, 0.13652241230010986, ('चित्रपट', 'स्टार'))\n",
      "(8.0, 0.0824400782585144, ('चित्रपट', 'पॉपकॉर्न'))\n",
      "(8.5, 0.2027343511581421, ('चित्रपट', 'समीक्षक'))\n",
      "(8.625, 0.22795875370502472, ('चित्रपट', 'थिएटर'))\n",
      "(8.0, 0.25982409715652466, ('भौतिकशास्त्र', 'प्रोटॉन'))\n",
      "(7.0, 0.5240111947059631, ('रसायनशास्त्र', 'भौतिकशास्त्र'))\n",
      "(2.0, -0.02348271757364273, ('दारू', 'रसायनशास्त्र'))\n",
      "(1.0, 0.08874603360891342, ('पेय', 'गाडी'))\n",
      "(0.0, 0.06241116672754288, ('पेय', 'कान'))\n",
      "(6.5, 0.17306728661060333, ('पक्षी', 'क्रेन'))\n",
      "(4.5, 0.04688461497426033, ('भाऊ', 'साधू'))\n",
      "(5.0, 0.10965682566165924, ('प्रवास', 'कार'))\n",
      "(3.0, 0.10603874176740646, ('वन', 'स्मशानभूमी'))\n",
      "(2.0, 0.07138035446405411, ('साधू', 'गुलाम'))\n",
      "(9.0, 0.3418515622615814, ('पैसा', 'संपत्ती'))\n",
      "(9.0, 0.3418515622615814, ('पैसा', 'संपत्ती'))\n",
      "(8.375, 0.2592158317565918, ('पैसा', 'बँक'))\n",
      "(6.0, 0.1738961786031723, ('पैसा', 'ऑपरेशन'))\n",
      "(6.375, 0.28959789872169495, ('ग्रह', 'तारा'))\n",
      "(6.25, 0.35612964630126953, ('ग्रह', 'नक्षत्र'))\n",
      "(6.5, 0.32969045639038086, ('ग्रह', 'चंद्र'))\n",
      "(6.125, 0.5165225863456726, ('ग्रह', 'सूर्य'))\n",
      "(6.375, 0.3529786467552185, ('ग्रह', 'आकाशगंगा'))\n",
      "(8.0, 0.2222742885351181, ('कप', 'कॉफी'))\n",
      "(3.0, 0.005724450573325157, ('कप', 'लेख'))\n",
      "(6.0, 0.029801663011312485, ('कप', 'ऑब्जेक्ट'))\n",
      "(7.0, 0.11698361486196518, ('कप', 'पेय'))\n",
      "(2.0, 0.018328877165913582, ('कप', 'अन्न'))\n",
      "(5.0, 0.03516101464629173, ('कप', 'पदार्थ'))\n",
      "(7.0, 0.07002855092287064, ('कप', 'द्रव'))\n",
      "(4.0, 0.1464565545320511, ('जग्वार', 'गाडी'))\n",
      "(2.0, 0.19240613281726837, ('ऊर्जा', 'सचिव'))\n",
      "(5.0, 0.21564669907093048, ('शस्त्र', 'गुप्त'))\n",
      "(4.0, 0.17342567443847656, ('वातावरण', 'लँडस्केप'))\n",
      "(4.0, 0.20580951869487762, ('जपानी', 'अमेरिकन'))\n",
      "(4.0, 0.2228790670633316, ('थिएटर', 'इतिहास'))\n",
      "SpearmanrResult(correlation=0.3971523268191826, pvalue=0.00267992299675433)\n"
     ]
    }
   ],
   "source": [
    "#Hindi cc 300 pretrained on mr cognates\n",
    "word_pairs, human_judgments = get_word_sim_dataset(\"evaluation/mr.cognates.txt\")\n",
    "model_judgments = get_model_judgments(word_pairs)\n",
    "human_judgments = [human_judgments[idx] for idx in range(len(human_judgments)) if model_judgments[idx] is not None]\n",
    "model_judgments = list(filter(lambda x: x is not None, model_judgments))\n",
    "print(*list(zip(human_judgments, model_judgments, word_pairs)), sep=\"\\n\")\n",
    "spearman_correlation = stats.spearmanr(model_judgments, human_judgments)\n",
    "print(spearman_correlation)"
   ]
  },
  {
   "cell_type": "code",
   "execution_count": 12,
   "id": "worthy-woman",
   "metadata": {},
   "outputs": [
    {
     "name": "stdout",
     "output_type": "stream",
     "text": [
      "(8.5, 0.3290926516056061, ('संगणक', 'इंटरनेट'))\n",
      "(6.75, 0.4093678891658783, ('विमान', 'कार'))\n",
      "(6.625, 0.19273625314235687, ('रेल्वे', 'कार'))\n",
      "(9.0, 0.14239197969436646, ('टेलिफोन', 'संवाद'))\n",
      "(7.0, 0.4051612317562103, ('दूरदर्शन', 'रेडिओ'))\n",
      "(8.0, 0.3028254806995392, ('मीडिया', 'रेडिओ'))\n",
      "(6.375, 0.1627124845981598, ('डॉक्टर', 'परिचारिका'))\n",
      "(4.0, 0.2502923011779785, ('प्राध्यापक', 'डॉक्टर'))\n",
      "(6.0, 0.36071258783340454, ('विद्यार्थी', 'प्राध्यापक'))\n",
      "(4.375, 0.16025222837924957, ('स्मार्ट', 'विद्यार्थी'))\n",
      "(3.0, 0.27255865931510925, ('स्मार्ट', 'मूर्ख'))\n",
      "(6.375, 0.27047473192214966, ('पुस्तक', 'ग्रंथालय'))\n",
      "(8.5, 0.2592158317565918, ('बँक', 'पैसा'))\n",
      "(2.375, 0.1790100783109665, ('पवित्र', 'सेक्स'))\n",
      "(6.375, 0.1945643573999405, ('टेनिस', 'रॅकेट'))\n",
      "(8.375, 0.09642305225133896, ('अराफात', 'दहशतवादी'))\n",
      "(0.0, 0.16742481291294098, ('अराफात', 'जॅक्सन'))\n",
      "(8.5, 0.12597201764583588, ('कायदा', 'वकील'))\n",
      "(1.0, 0.08874603360891342, ('पेय', 'गाडी'))\n",
      "(0.0, 0.06241116672754288, ('पेय', 'कान'))\n",
      "(6.5, 0.17306728661060333, ('पक्षी', 'क्रेन'))\n",
      "(4.5, 0.04688461497426033, ('भाऊ', 'साधू'))\n",
      "(5.0, 0.10965682566165924, ('प्रवास', 'कार'))\n",
      "(3.0, 0.10603874176740646, ('वन', 'स्मशानभूमी'))\n",
      "(2.0, 0.07138035446405411, ('साधू', 'गुलाम'))\n",
      "(9.0, 0.3418515622615814, ('पैसा', 'संपत्ती'))\n",
      "(9.0, 0.3418515622615814, ('पैसा', 'संपत्ती'))\n",
      "(8.375, 0.2592158317565918, ('पैसा', 'बँक'))\n",
      "(6.0, 0.1738961786031723, ('पैसा', 'ऑपरेशन'))\n",
      "(6.375, 0.28959789872169495, ('ग्रह', 'तारा'))\n",
      "(6.25, 0.35612964630126953, ('ग्रह', 'नक्षत्र'))\n",
      "(6.5, 0.32969045639038086, ('ग्रह', 'चंद्र'))\n",
      "(6.125, 0.5165225863456726, ('ग्रह', 'सूर्य'))\n",
      "(6.375, 0.3529786467552185, ('ग्रह', 'आकाशगंगा'))\n",
      "(8.0, 0.2222742885351181, ('कप', 'कॉफी'))\n",
      "(3.0, 0.005724450573325157, ('कप', 'लेख'))\n",
      "(6.0, 0.029801663011312485, ('कप', 'ऑब्जेक्ट'))\n",
      "(7.0, 0.11698361486196518, ('कप', 'पेय'))\n",
      "(2.0, 0.018328877165913582, ('कप', 'अन्न'))\n",
      "(5.0, 0.03516101464629173, ('कप', 'पदार्थ'))\n",
      "(7.0, 0.07002855092287064, ('कप', 'द्रव'))\n",
      "(4.0, 0.1464565545320511, ('जग्वार', 'गाडी'))\n",
      "(2.0, 0.19240613281726837, ('ऊर्जा', 'सचिव'))\n",
      "(5.0, 0.21564669907093048, ('शस्त्र', 'गुप्त'))\n",
      "(4.0, 0.17342567443847656, ('वातावरण', 'लँडस्केप'))\n",
      "(4.0, 0.20580951869487762, ('जपानी', 'अमेरिकन'))\n",
      "(4.0, 0.2228790670633316, ('थिएटर', 'इतिहास'))\n",
      "SpearmanrResult(correlation=0.4116990909492505, pvalue=0.004038065747906301)\n"
     ]
    }
   ],
   "source": [
    "#Hindi cc 300 pretrained on mr cognates\n",
    "word_pairs, human_judgments = get_word_sim_dataset(\"evaluation/mr.cognates2.txt\")\n",
    "model_judgments = get_model_judgments(word_pairs)\n",
    "human_judgments = [human_judgments[idx] for idx in range(len(human_judgments)) if model_judgments[idx] is not None]\n",
    "model_judgments = list(filter(lambda x: x is not None, model_judgments))\n",
    "print(*list(zip(human_judgments, model_judgments, word_pairs)), sep=\"\\n\")\n",
    "spearman_correlation = stats.spearmanr(model_judgments, human_judgments)\n",
    "print(spearman_correlation)"
   ]
  },
  {
   "cell_type": "code",
   "execution_count": 38,
   "id": "flying-timing",
   "metadata": {},
   "outputs": [
    {
     "name": "stdout",
     "output_type": "stream",
     "text": [
      "      54 evaluation/mr.cognates.txt\r\n"
     ]
    }
   ],
   "source": [
    "! wc -l evaluation/mr.cognates.txt"
   ]
  },
  {
   "cell_type": "code",
   "execution_count": 53,
   "id": "important-bankruptcy",
   "metadata": {},
   "outputs": [
    {
     "name": "stdout",
     "output_type": "stream",
     "text": [
      "SpearmanrResult(correlation=0.36151091476459857, pvalue=0.006691104252438456)\n"
     ]
    }
   ],
   "source": [
    "#Marathi fasttext 300 on segmented data mr cognates\n",
    "word_pairs, human_judgments = get_word_sim_dataset(\"evaluation/mr.cognates.txt\")\n",
    "model_judgments = get_model_judgments(word_pairs)\n",
    "human_judgments = [human_judgments[idx] for idx in range(len(human_judgments)) if model_judgments[idx] is not None]\n",
    "model_judgments = list(filter(lambda x: x is not None, model_judgments))\n",
    "# print(*list(zip(human_judgments, model_judgments, word_pairs)), sep=\"\\n\")\n",
    "spearman_correlation = stats.spearmanr(model_judgments, human_judgments)\n",
    "print(spearman_correlation)"
   ]
  },
  {
   "cell_type": "code",
   "execution_count": 9,
   "id": "advisory-liverpool",
   "metadata": {},
   "outputs": [
    {
     "name": "stdout",
     "output_type": "stream",
     "text": [
      "SpearmanrResult(correlation=0.49907948569529287, pvalue=3.317890014380028e-16)\n"
     ]
    }
   ],
   "source": [
    "#Hindi evaluate on Hindi test CROSSLINGUAL 300, using cc 300 pretrained to train\n",
    "word_pairs, human_judgments = get_word_sim_dataset(\"evaluation/hin.word_sim.txt\")\n",
    "model_judgments = get_model_judgments(word_pairs)\n",
    "human_judgments = [human_judgments[idx] for idx in range(len(human_judgments)) if model_judgments[idx] is not None]\n",
    "model_judgments = list(filter(lambda x: x is not None, model_judgments))\n",
    "# print(*list(zip(human_judgments, model_judgments, word_pairs)), sep=\"\\n\")\n",
    "spearman_correlation = stats.spearmanr(model_judgments, human_judgments)\n",
    "print(spearman_correlation)"
   ]
  },
  {
   "cell_type": "code",
   "execution_count": 15,
   "id": "departmental-purse",
   "metadata": {},
   "outputs": [
    {
     "name": "stdout",
     "output_type": "stream",
     "text": [
      "63\n",
      "SpearmanrResult(correlation=0.5556324073180827, pvalue=2.278879881999178e-06)\n"
     ]
    }
   ],
   "source": [
    "#Marathi CROSSLINGUAL 300, using cc 300 Hindi pretrained, 50k Marathi segmented to train\n",
    "word_pairs, human_judgments = get_word_sim_dataset(\"evaluation/mr.word_sim.txt\")\n",
    "model_judgments = get_model_judgments(word_pairs)\n",
    "human_judgments = [human_judgments[idx] for idx in range(len(human_judgments)) if model_judgments[idx] is not None]\n",
    "model_judgments = list(filter(lambda x: x is not None, model_judgments))\n",
    "print(len(human_judgments))\n",
    "# print(*list(zip(human_judgments, model_judgments, word_pairs)), sep=\"\\n\")\n",
    "spearman_correlation = stats.spearmanr(model_judgments, human_judgments)\n",
    "print(spearman_correlation)"
   ]
  },
  {
   "cell_type": "code",
   "execution_count": 22,
   "id": "assisted-commerce",
   "metadata": {},
   "outputs": [
    {
     "name": "stdout",
     "output_type": "stream",
     "text": [
      "कळफलक\n",
      "टेलिफोन\n",
      "दूरदर्शन\n",
      "बटाटा\n",
      "अंडी\n",
      "कोबी\n",
      "यासिर\n",
      "शांतता\n",
      "अराफात\n",
      "दहशतवादी\n",
      "अराफात\n",
      "पॉपकॉर्न\n",
      "भौतिकशास्त्र\n",
      "प्रोटॉन\n",
      "रसायनशास्त्र\n",
      "भौतिकशास्त्र\n",
      "रसायनशास्त्र\n",
      "रत्नजडित\n",
      "शेगडी\n",
      "कोंबडा\n",
      "कोंबडा\n",
      "स्मशानभूमी\n",
      "काच\n",
      "जादूगार\n",
      "प्राणीसंग्रहालय\n",
      "मानसशास्त्र\n",
      "मनोदोषचिकित्सा\n",
      "मानसशास्त्र\n",
      "मानसशास्त्र\n",
      "मानसशास्त्र\n",
      "मानसशास्त्र\n",
      "मानसशास्त्र\n",
      "मानसशास्त्र\n",
      "मानसशास्त्र\n",
      "मानसशास्त्र\n",
      "मानसशास्त्र\n",
      "मानसशास्त्र\n",
      "आकाशगंगा\n",
      "खगोलशास्त्रज्ञ\n",
      "ऑब्जेक्ट\n",
      "जग्वार\n",
      "जग्वार\n",
      "प्रयोगशाळा\n",
      "प्रयोगशाळा\n",
      "लँडस्केप\n",
      "सैन्याने\n",
      "जपानी\n",
      "104\n",
      "SpearmanrResult(correlation=0.39104227109002043, pvalue=4.054736400322689e-05)\n"
     ]
    }
   ],
   "source": [
    "#Marathi CROSSLINGUAL 300, using cc 300 Hindi pretrained, 50k Marathi segmented to train\n",
    "word_pairs, human_judgments = get_word_sim_dataset(\"evaluation/mr.word_sim.txt\")\n",
    "model_judgments = get_model_judgments(word_pairs)\n",
    "human_judgments = [human_judgments[idx] for idx in range(len(human_judgments)) if model_judgments[idx] is not None]\n",
    "model_judgments = list(filter(lambda x: x is not None, model_judgments))\n",
    "print(len(human_judgments))\n",
    "# print(*list(zip(human_judgments, model_judgments, word_pairs)), sep=\"\\n\")\n",
    "spearman_correlation = stats.spearmanr(model_judgments, human_judgments)\n",
    "print(spearman_correlation)"
   ]
  },
  {
   "cell_type": "code",
   "execution_count": null,
   "id": "champion-bathroom",
   "metadata": {},
   "outputs": [],
   "source": []
  }
 ],
 "metadata": {
  "kernelspec": {
   "display_name": "Python 3",
   "language": "python",
   "name": "python3"
  },
  "language_info": {
   "codemirror_mode": {
    "name": "ipython",
    "version": 3
   },
   "file_extension": ".py",
   "mimetype": "text/x-python",
   "name": "python",
   "nbconvert_exporter": "python",
   "pygments_lexer": "ipython3",
   "version": "3.8.8"
  }
 },
 "nbformat": 4,
 "nbformat_minor": 5
}
