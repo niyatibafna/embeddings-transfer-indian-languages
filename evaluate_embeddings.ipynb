{
 "cells": [
  {
   "cell_type": "code",
   "execution_count": 29,
   "id": "integral-tract",
   "metadata": {},
   "outputs": [],
   "source": [
    "import morfessor\n",
    "import fasttext\n",
    "import numpy as np\n",
    "from scipy.spatial import distance\n",
    "from scipy import stats\n",
    "import json"
   ]
  },
  {
   "cell_type": "code",
   "execution_count": 37,
   "id": "polyphonic-fighter",
   "metadata": {},
   "outputs": [],
   "source": [
    "io = morfessor.MorfessorIO()\n",
    "mr_segment = io.read_binary_model_file('marathi_data/mr.morfessor')\n",
    "\n"
   ]
  },
  {
   "cell_type": "code",
   "execution_count": 64,
   "id": "actual-calvin",
   "metadata": {},
   "outputs": [
    {
     "name": "stderr",
     "output_type": "stream",
     "text": [
      "Warning : `load_model` does not return WordVectorModel or SupervisedModel any more, but a `FastText` object which is very similar.\n"
     ]
    }
   ],
   "source": [
    "# Get Hindi embeddings\n",
    "# hin_embeddings = fasttext.load_model(\"hin_embeddings/hin.embeddings.100.bin\")\n",
    "hin_embeddings = fasttext.load_model(\"cc.hi.300.bin\")"
   ]
  },
  {
   "cell_type": "code",
   "execution_count": 41,
   "id": "monetary-garage",
   "metadata": {},
   "outputs": [],
   "source": [
    "# Segment mr words using morfessor\n",
    "def get_segments(word):\n",
    "    return mr_segment.viterbi_segment(word)[0]"
   ]
  },
  {
   "cell_type": "code",
   "execution_count": 68,
   "id": "characteristic-interest",
   "metadata": {},
   "outputs": [],
   "source": [
    "# Map morphs to Hindi morphs \n",
    "def get_h_map_self(morph_l):\n",
    "    return morph_l\n"
   ]
  },
  {
   "cell_type": "code",
   "execution_count": 61,
   "id": "gothic-amateur",
   "metadata": {},
   "outputs": [],
   "source": [
    "# Map morphs to Hindi morphs : baseline ned\n",
    "\n",
    "with open(\"morph_mappings/baseline_ned.json\", \"r\") as f:\n",
    "    morph_mapping_str = json.load(f)\n",
    "    morph_mapping = {int(k):v for k,v in morph_mapping_str.items()}\n",
    "    f.close()\n",
    "    \n",
    "with open(\"tag_distributions/tag_dist_l.json\", \"r\") as l_file:\n",
    "    tag_dist_l = json.load(l_file)\n",
    "    \n",
    "with open(\"tag_distributions/tag_dist_h.json\", \"r\") as h_file:\n",
    "    tag_dist_h = json.load(h_file)\n",
    "    \n",
    "morph_voc_l = list(tag_dist_l.keys())\n",
    "morph_voc_h = list(tag_dist_h.keys())\n",
    "\n",
    "def get_h_map_ned(morph_l):\n",
    "    try:\n",
    "        return morph_voc_h[morph_mapping[morph_voc_l.index(morph_l)]]\n",
    "    except ValueError:\n",
    "        return morph_l\n",
    "\n"
   ]
  },
  {
   "cell_type": "code",
   "execution_count": 51,
   "id": "metropolitan-andrew",
   "metadata": {},
   "outputs": [
    {
     "data": {
      "text/plain": [
       "[(0, 5550), (1, 2108), (2, 7600), (3, 524), (4, 9136)]"
      ]
     },
     "execution_count": 51,
     "metadata": {},
     "output_type": "execute_result"
    }
   ],
   "source": [
    "list(morph_mapping.items())[:5]"
   ]
  },
  {
   "cell_type": "code",
   "execution_count": 52,
   "id": "seasonal-wilson",
   "metadata": {},
   "outputs": [
    {
     "data": {
      "text/plain": [
       "'चे'"
      ]
     },
     "execution_count": 52,
     "metadata": {},
     "output_type": "execute_result"
    }
   ],
   "source": [
    "get_h_map_ned(\"चे\")"
   ]
  },
  {
   "cell_type": "code",
   "execution_count": 69,
   "id": "sensitive-yellow",
   "metadata": {},
   "outputs": [],
   "source": [
    "# Get hindi embedding for list of Hindi morphs\n",
    "def get_h_embedding(word_l):\n",
    "    morph_list_l = get_segments(word_l)\n",
    "    morph_list_h = [get_h_map_self(morph) for morph in morph_list_l]\n",
    "    word_embedding = np.asarray([hin_embeddings[morph] for morph in morph_list_h])\n",
    "    return np.sum(word_embedding, axis=0)"
   ]
  },
  {
   "cell_type": "code",
   "execution_count": 54,
   "id": "after-layout",
   "metadata": {},
   "outputs": [],
   "source": [
    "# Get model judgment for one word pair\n",
    "def get_model_judgment(word_pair):\n",
    "    (word1, word2) = word_pair\n",
    "    cos_sim = 1 - distance.cosine(get_h_embedding(word1), get_h_embedding(word2))\n",
    "    return cos_sim\n",
    "        \n",
    "    "
   ]
  },
  {
   "cell_type": "code",
   "execution_count": 55,
   "id": "bizarre-orchestra",
   "metadata": {},
   "outputs": [],
   "source": [
    "# Get m j for all pairs\n",
    "def get_model_judgments(word_pairs):\n",
    "    judgments = [get_model_judgment(word_pair) for word_pair in word_pairs]\n",
    "    return judgments"
   ]
  },
  {
   "cell_type": "code",
   "execution_count": 56,
   "id": "therapeutic-desert",
   "metadata": {},
   "outputs": [],
   "source": [
    "# Get word sim dataset\n",
    "# Process word sim dataset\n",
    "def get_word_sim_dataset(path):\n",
    "    word_sim = open(path, \"r\").read().split(\"\\n\")\n",
    "    word_pairs = [(pair.split(\"\\t\")[0], pair.split(\"\\t\")[1]) for pair in word_sim]\n",
    "    judgments = [float(pair.split(\"\\t\")[2]) for pair in word_sim]\n",
    "    return word_pairs, judgments"
   ]
  },
  {
   "cell_type": "code",
   "execution_count": 42,
   "id": "satellite-alcohol",
   "metadata": {},
   "outputs": [
    {
     "name": "stdout",
     "output_type": "stream",
     "text": [
      "SpearmanrResult(correlation=0.4760644906469756, pvalue=3.259849667020419e-07)\n"
     ]
    }
   ],
   "source": [
    "#SELF fastext 100\n",
    "word_pairs, human_judgments = get_word_sim_dataset(\"evaluation/mr.word_sim.txt\")\n",
    "model_judgments = get_model_judgments(word_pairs)\n",
    "spearman_correlation = stats.spearmanr(model_judgments, human_judgments)\n",
    "print(spearman_correlation)"
   ]
  },
  {
   "cell_type": "code",
   "execution_count": 70,
   "id": "precise-advice",
   "metadata": {},
   "outputs": [
    {
     "name": "stdout",
     "output_type": "stream",
     "text": [
      "SpearmanrResult(correlation=0.4272678268388106, pvalue=6.083299566974009e-06)\n"
     ]
    }
   ],
   "source": [
    "#SELF cc 300\n",
    "word_pairs, human_judgments = get_word_sim_dataset(\"evaluation/mr.word_sim.txt\")\n",
    "model_judgments = get_model_judgments(word_pairs)\n",
    "spearman_correlation = stats.spearmanr(model_judgments, human_judgments)\n",
    "print(spearman_correlation)"
   ]
  },
  {
   "cell_type": "code",
   "execution_count": 62,
   "id": "parliamentary-drill",
   "metadata": {},
   "outputs": [
    {
     "name": "stdout",
     "output_type": "stream",
     "text": [
      "SpearmanrResult(correlation=0.39474028542336564, pvalue=3.3742445552604146e-05)\n"
     ]
    }
   ],
   "source": [
    "# BASELINE NED fasttext 100\n",
    "\n",
    "word_pairs, human_judgments = get_word_sim_dataset(\"evaluation/mr.word_sim.txt\")\n",
    "model_judgments = get_model_judgments(word_pairs)\n",
    "spearman_correlation = stats.spearmanr(model_judgments, human_judgments)\n",
    "print(spearman_correlation)"
   ]
  },
  {
   "cell_type": "code",
   "execution_count": 65,
   "id": "expensive-samba",
   "metadata": {},
   "outputs": [
    {
     "name": "stdout",
     "output_type": "stream",
     "text": [
      "SpearmanrResult(correlation=0.4185873937726948, pvalue=9.779397990726483e-06)\n"
     ]
    }
   ],
   "source": [
    "# BASELINE NED cc 300\n",
    "\n",
    "word_pairs, human_judgments = get_word_sim_dataset(\"evaluation/mr.word_sim.txt\")\n",
    "model_judgments = get_model_judgments(word_pairs)\n",
    "spearman_correlation = stats.spearmanr(model_judgments, human_judgments)\n",
    "print(spearman_correlation)"
   ]
  },
  {
   "cell_type": "code",
   "execution_count": null,
   "id": "massive-mathematics",
   "metadata": {},
   "outputs": [],
   "source": []
  },
  {
   "cell_type": "code",
   "execution_count": null,
   "id": "french-valuable",
   "metadata": {},
   "outputs": [],
   "source": []
  },
  {
   "cell_type": "code",
   "execution_count": null,
   "id": "hundred-minneapolis",
   "metadata": {},
   "outputs": [],
   "source": [
    "# Get embeddings of Hindi morphs\n",
    "# Compose embeddings, return"
   ]
  },
  {
   "cell_type": "code",
   "execution_count": null,
   "id": "ambient-legislation",
   "metadata": {},
   "outputs": [],
   "source": [
    "# Find set of cosine sim"
   ]
  },
  {
   "cell_type": "code",
   "execution_count": null,
   "id": "desirable-milwaukee",
   "metadata": {},
   "outputs": [],
   "source": [
    "# Find Spearman correlation"
   ]
  }
 ],
 "metadata": {
  "kernelspec": {
   "display_name": "Python 3",
   "language": "python",
   "name": "python3"
  },
  "language_info": {
   "codemirror_mode": {
    "name": "ipython",
    "version": 3
   },
   "file_extension": ".py",
   "mimetype": "text/x-python",
   "name": "python",
   "nbconvert_exporter": "python",
   "pygments_lexer": "ipython3",
   "version": "3.8.8"
  }
 },
 "nbformat": 4,
 "nbformat_minor": 5
}
