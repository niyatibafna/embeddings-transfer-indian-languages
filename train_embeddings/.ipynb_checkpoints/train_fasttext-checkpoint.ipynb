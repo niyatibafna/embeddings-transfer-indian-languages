{
 "cells": [
  {
   "cell_type": "code",
   "execution_count": 1,
   "id": "congressional-turning",
   "metadata": {},
   "outputs": [],
   "source": [
    "import fasttext\n",
    "import fasttext.util\n",
    "from scipy.spatial import distance\n",
    "import re"
   ]
  },
  {
   "cell_type": "code",
   "execution_count": 6,
   "id": "aerial-detector",
   "metadata": {},
   "outputs": [
    {
     "name": "stdout",
     "output_type": "stream",
     "text": [
      "['ठी ंचे वाढ ले स्त न ॥ क ीं सां वरी चें दाट लें वन ॥ क ीं गो रिया चें सुंदर गाय न ॥ क ीं ता रु ण्य पण विध वे चें ॥२ ०॥', 'दु ष्ट शीळ हें कौरव ांचें । राम ें सविस्तर देखून ि स ाचें । बोलि ले वचन ें जें दुर ्व ाचे । करी त य ांचें अनु स्मरण ॥२ २० ॥', 'तुम्हां सी नि ंद िलें म्य ां आन न ें ॥ तें अस् त्र ें तुट लें माझे ं अन न ॥ प्राय श् चित्त घेत लें माझे शरीर प्राण ें ॥ दि ध लें काळ भैर वें स्व हस्त ें ॥१ ० २॥', 'इतुक ीं युग ें क्रम ितां संकट ीं ॥ आल ासी एक ब्रह्यांडप ोटीं ॥ ऐसी ं ब्रह्म ां डे अनंत कोट ी ॥ असती चरण ीं शिवा चें ॥१ ६॥', 'पराभव िलें मौ न माये चें ॥ प्र कट लें अधि क त्व ज्ञान ाचें ॥ म्हण े नि रुपा जी दास ्य शिवा चें ॥ भाव पूर्व क भज पै ं ॥२ ४॥']\n",
      "1716\n"
     ]
    }
   ],
   "source": [
    "# Load data\n",
    "\n",
    "# data = open(\"hindi_data/hin.segmented2.EOLmarked.txt\", \"r\").read().split(\"E OL\")\n",
    "# data = open(\"marathi_data/mr.segmented.EOLmarked.txt\", \"r\").read().split(\"E O L\")\n",
    "# data = open(\"nepali_data/nep_wikipedia_2021_100K/nep.segmented.EOLmarked.txt\", \"r\").read().split(\"EOL\")\n",
    "\n",
    "\n",
    "data = open(\"../data/konkani_data/kon.segmented.EOLmarked.txt\", \"r\").read().split(\"EOL\")\n",
    "data = [re.split(' |\\n', ss)[1:-1] for ss in data]\n",
    "data = [\" \".join(sent) for sent in data]\n",
    "print(data[:5])\n",
    "print(len(data))"
   ]
  },
  {
   "cell_type": "code",
   "execution_count": 9,
   "id": "literary-escape",
   "metadata": {},
   "outputs": [],
   "source": [
    "# Write segmented sentences \n",
    "\n",
    "text = open(\"../data/konkani_data/kon.segmented.sentences.txt\", \"w\")\n",
    "for sent in data:\n",
    "    text.write(sent+\"\\n\")\n",
    "text.close()"
   ]
  },
  {
   "cell_type": "code",
   "execution_count": null,
   "id": "greatest-arthur",
   "metadata": {},
   "outputs": [],
   "source": [
    "# Train fasttext model"
   ]
  },
  {
   "cell_type": "code",
   "execution_count": 10,
   "id": "excellent-certificate",
   "metadata": {},
   "outputs": [],
   "source": [
    "kon_model = fasttext.train_unsupervised(\"../data/konkani_data/kon.segmented.sentences.txt\", dim = 300)\n",
    "# mr_model = fasttext.train_unsupervised(\"marathi_data/mr.segmented.sentences.txt\", dim=100)\n",
    "# nep_model = fasttext.train_unsupervised(\"nepali_data/nep.segmented.sentences.txt\", dim=300)\n",
    "# mr_model = fasttext.train_unsupervised(\"marathi_data/mr.tok.txt\", dim=300)\n",
    "# nep_model = fasttext.train_unsupervised(\"nepali_data/nep.tok.txt\", dim=300)\n",
    "# hin_model = fasttext.train_unsupervised(\"hindi_data/hin.segmentedtotal.sentences.txt\", dim=300)\n",
    "# hin_model = fasttext.train_unsupervised(\"hindi_data/hin.segmented.sentences.txt\", dim=100)\n",
    "# hin_model = fasttext.train_unsupervised(\"hindi_data/hin.segmented.sentences.500000.txt\", dim=300)\n",
    "# mr_model = fasttext.train_unsupervised(\"hindi_data/hin.segmented.sentences.txt\", dim=300)"
   ]
  },
  {
   "cell_type": "code",
   "execution_count": null,
   "id": "rotary-vertical",
   "metadata": {},
   "outputs": [],
   "source": []
  },
  {
   "cell_type": "code",
   "execution_count": 11,
   "id": "quantitative-closure",
   "metadata": {},
   "outputs": [],
   "source": [
    "# Save embeddings\n",
    "!mkdir ../embeddings/kon_embeddings\n",
    "kon_model.save_model(\"../embeddings/kon_embeddings/kon.embeddings.300.bin\")"
   ]
  },
  {
   "cell_type": "code",
   "execution_count": null,
   "id": "surface-sword",
   "metadata": {},
   "outputs": [],
   "source": []
  },
  {
   "cell_type": "code",
   "execution_count": null,
   "id": "durable-elder",
   "metadata": {},
   "outputs": [],
   "source": []
  },
  {
   "cell_type": "code",
   "execution_count": null,
   "id": "chief-guest",
   "metadata": {},
   "outputs": [],
   "source": [
    "# Scrap code"
   ]
  },
  {
   "cell_type": "code",
   "execution_count": 15,
   "id": "efficient-absence",
   "metadata": {},
   "outputs": [],
   "source": [
    "hin_model.save_model(\"hin_embeddings/hin.embeddingstotal.300.bin\")"
   ]
  },
  {
   "cell_type": "code",
   "execution_count": 5,
   "id": "champion-jacob",
   "metadata": {},
   "outputs": [],
   "source": [
    "!mkdir mr_embeddings"
   ]
  },
  {
   "cell_type": "code",
   "execution_count": 3,
   "id": "higher-livestock",
   "metadata": {},
   "outputs": [],
   "source": [
    "hin_model.save_model(\"mr_embeddings/hi_mr.embeddings.300.bin\")"
   ]
  },
  {
   "cell_type": "code",
   "execution_count": 14,
   "id": "excess-literature",
   "metadata": {},
   "outputs": [],
   "source": [
    "mr_model.save_model(\"mr_embeddings/mr.embeddings.unsegmented.300.bin\")"
   ]
  },
  {
   "cell_type": "code",
   "execution_count": 12,
   "id": "interpreted-choir",
   "metadata": {},
   "outputs": [],
   "source": [
    "hin_model.save_model(\"hin_embeddings/hin.embeddings.500000.300.bin\")"
   ]
  },
  {
   "cell_type": "code",
   "execution_count": 10,
   "id": "relevant-closure",
   "metadata": {},
   "outputs": [],
   "source": [
    "!mkdir nep_embeddings\n",
    "nep_model.save_model(\"nep_embeddings/nep.embeddings.300.bin\")"
   ]
  },
  {
   "cell_type": "code",
   "execution_count": 12,
   "id": "asian-velvet",
   "metadata": {},
   "outputs": [],
   "source": [
    "nep_model.save_model(\"nep_embeddings/nep.embeddings.unsegmented.300.bin\")"
   ]
  },
  {
   "cell_type": "code",
   "execution_count": null,
   "id": "chemical-redhead",
   "metadata": {},
   "outputs": [],
   "source": []
  }
 ],
 "metadata": {
  "kernelspec": {
   "display_name": "Python 3",
   "language": "python",
   "name": "python3"
  },
  "language_info": {
   "codemirror_mode": {
    "name": "ipython",
    "version": 3
   },
   "file_extension": ".py",
   "mimetype": "text/x-python",
   "name": "python",
   "nbconvert_exporter": "python",
   "pygments_lexer": "ipython3",
   "version": "3.8.8"
  }
 },
 "nbformat": 4,
 "nbformat_minor": 5
}
