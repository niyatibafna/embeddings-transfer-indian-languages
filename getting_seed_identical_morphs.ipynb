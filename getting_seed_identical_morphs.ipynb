{
 "cells": [
  {
   "cell_type": "code",
   "execution_count": 12,
   "id": "unsigned-league",
   "metadata": {},
   "outputs": [],
   "source": [
    "import json\n",
    "import random\n",
    "import editdistance"
   ]
  },
  {
   "cell_type": "code",
   "execution_count": null,
   "id": "vulnerable-buying",
   "metadata": {},
   "outputs": [],
   "source": [
    "with open(\"tag_distributions/tag_dist_l.json\", \"r\") as l_file:\n",
    "    tag_dist_l = json.load(l_file)\n",
    "    \n",
    "with open(\"tag_distributions/tag_dist_h.json\", \"r\") as h_file:\n",
    "    tag_dist_h = json.load(h_file)"
   ]
  },
  {
   "cell_type": "code",
   "execution_count": 9,
   "id": "powerful-bishop",
   "metadata": {},
   "outputs": [],
   "source": [
    "def find_main_tag(morph_tag_dist):\n",
    "    t = sorted(list(morph_tag_dist.items()), key = lambda x: x[1], reverse=True)\n",
    "    if len(t)==0:\n",
    "        return None, None\n",
    "    return t[0][0], float(t[0][1]/sum([tag[1] for tag in t]))"
   ]
  },
  {
   "cell_type": "code",
   "execution_count": 31,
   "id": "stretch-marks",
   "metadata": {},
   "outputs": [
    {
     "data": {
      "text/plain": [
       "{'NOUN': 118, 'VERB': 73, 'VSUFF': 22, 'X': 1}"
      ]
     },
     "execution_count": 31,
     "metadata": {},
     "output_type": "execute_result"
    }
   ],
   "source": [
    "tag_dist_l[\"देणार\"]"
   ]
  },
  {
   "cell_type": "code",
   "execution_count": 60,
   "id": "entertaining-participant",
   "metadata": {},
   "outputs": [],
   "source": [
    "noun_seed_candidates = list()\n",
    "# verb_seed_candidates = list()\n",
    "for morph in list(tag_dist_l.keys()):\n",
    "    tag, confidence = find_main_tag(tag_dist_l[morph])\n",
    "    if tag==\"NOUN\" and confidence > 0.5:\n",
    "        noun_seed_candidates.append(morph)\n",
    "    "
   ]
  },
  {
   "cell_type": "code",
   "execution_count": 61,
   "id": "departmental-edward",
   "metadata": {},
   "outputs": [
    {
     "data": {
      "text/plain": [
       "2686"
      ]
     },
     "execution_count": 61,
     "metadata": {},
     "output_type": "execute_result"
    }
   ],
   "source": [
    "len(noun_seed_candidates)"
   ]
  },
  {
   "cell_type": "code",
   "execution_count": 46,
   "id": "outside-knowing",
   "metadata": {},
   "outputs": [
    {
     "data": {
      "text/plain": [
       "1117"
      ]
     },
     "execution_count": 46,
     "metadata": {},
     "output_type": "execute_result"
    }
   ],
   "source": [
    "len(verb_seed_candidates)"
   ]
  },
  {
   "cell_type": "code",
   "execution_count": 101,
   "id": "authorized-september",
   "metadata": {},
   "outputs": [],
   "source": [
    "def find_best_fit(morph_l, tag_l):\n",
    "    \n",
    "    if morph_l in tag_dist_h:\n",
    "        return morph_l, 0\n",
    "    \n",
    "    best_fits = set()\n",
    "    best_score = inf\n",
    "    \n",
    "    for morph_h in tag_dist_h.keys():\n",
    "        if morph_h[0]==morph_l[0]:\n",
    "            tag_h, confidence = find_main_tag(tag_dist_h[morph_h])\n",
    "            if tag_h==tag_l and confidence > 0.5:\n",
    "                editdist = editdistance.eval(morph_h, morph_l)\n",
    "                if editdist == best_score:\n",
    "                    best_fits.add(morph_h)\n",
    "                if editdist < best_score:\n",
    "                    best_fits = {morph_h}\n",
    "                    best_score = editdist\n",
    "    \n",
    "    \n",
    "    bf_list = list(best_fits)\n",
    "    for bf in bf_list:\n",
    "        if morph_l not in bf and bf not in morph_l:\n",
    "            best_fits.remove(bf)\n",
    "    \n",
    "    if len(best_fits)==0:\n",
    "        return None, best_score\n",
    "        \n",
    "    return random.choice(list(best_fits)), best_score"
   ]
  },
  {
   "cell_type": "code",
   "execution_count": 102,
   "id": "eleven-vienna",
   "metadata": {},
   "outputs": [],
   "source": [
    "noun_fit = list()\n",
    "for noun_seed in noun_seed_candidates:\n",
    "    fit, score = find_best_fit(noun_seed, \"NOUN\")\n",
    "    if fit and score < 2:\n",
    "        noun_fit.append((noun_seed, fit))"
   ]
  },
  {
   "cell_type": "code",
   "execution_count": 103,
   "id": "talented-inside",
   "metadata": {},
   "outputs": [
    {
     "data": {
      "text/plain": [
       "1158"
      ]
     },
     "execution_count": 103,
     "metadata": {},
     "output_type": "execute_result"
    }
   ],
   "source": [
    "len(noun_fit)"
   ]
  },
  {
   "cell_type": "code",
   "execution_count": 104,
   "id": "configured-branch",
   "metadata": {},
   "outputs": [],
   "source": [
    "exact = 0\n",
    "for nf in noun_fit:\n",
    "    if nf[0]==nf[1]:\n",
    "        exact+=1"
   ]
  },
  {
   "cell_type": "code",
   "execution_count": 106,
   "id": "focal-robertson",
   "metadata": {},
   "outputs": [
    {
     "name": "stdout",
     "output_type": "stream",
     "text": [
      "('मालिके', 'मालिक')\n",
      "('रुपय', 'रुपया')\n",
      "('विभागा', 'विभाग')\n",
      "('दौऱ', 'दौर')\n",
      "('आवार', 'आवा')\n",
      "('वर्षां', 'वर्षा')\n",
      "('परिस्थिती', 'परिस्थित')\n",
      "('निशाण', 'निशा')\n",
      "('अधिकाऱ', 'अधिकार')\n",
      "('धरणा', 'धरण')\n",
      "('विरोधक', 'विरोध')\n",
      "('दर्ग', 'दर्')\n",
      "('पैश', 'पैशन')\n",
      "('मृत्यू', 'मृत्य')\n",
      "('कापड', 'काप')\n",
      "('आंब', 'आं')\n",
      "('रिंगण', 'रिंग')\n",
      "('प्रौढ', 'प्रौढ़')\n",
      "('गटार', 'गटा')\n",
      "('तिथ', 'तिथि')\n",
      "('माथाड', 'माथा')\n",
      "('दालन', 'दाल')\n",
      "('शहरा', 'शहर')\n",
      "('संबोध', 'संबोधन')\n",
      "('झाडा', 'झाड')\n",
      "('आभाळ', 'आभा')\n",
      "('पठार', 'पठा')\n",
      "('राखण', 'राख')\n",
      "('कपड', 'कपडे')\n",
      "('पथक', 'पथ')\n",
      "('मिजाजख', 'मिजाज')\n",
      "('घोड', 'घोड़')\n",
      "('वेगळ', 'वेग')\n",
      "('खर्चा', 'खर्च')\n",
      "('उपक्रमा', 'उपक्रम')\n",
      "('प्रश्ना', 'प्रश्न')\n",
      "('स्वस्त', 'स्वस्ति')\n",
      "('बनावटी', 'बनावट')\n",
      "('शाखे', 'शाख')\n",
      "('सोसायटी', 'सोसायट')\n",
      "('आंदोलना', 'आंदोलन')\n",
      "('आवाजा', 'आवाज')\n",
      "('परीक्षे', 'परीक्ष')\n",
      "('हेक्टर', 'हेक्ट')\n",
      "('बकर', 'बकरी')\n",
      "('स्पर्ध', 'स्पर्धा')\n",
      "('ठिकाण', 'ठिका')\n",
      "('हुक्क', 'हुक्का')\n",
      "('बडोद', 'बडो')\n",
      "('इराण', 'इरा')\n",
      "('इमारती', 'इमारत')\n",
      "('नोकर', 'नोक')\n",
      "('तलवारी', 'तलवार')\n",
      "('पळस', 'पळ')\n",
      "('आरक्षणा', 'आरक्षण')\n",
      "('विकासक', 'विकास')\n",
      "('महीन', 'महीने')\n",
      "('पुण्या', 'पुण्य')\n",
      "('दागि', 'दाग')\n",
      "('कीटक', 'कीट')\n",
      "('दरोड', 'दरो')\n",
      "('आकारा', 'आकार')\n",
      "('शरीरा', 'शरीर')\n",
      "('चमू', 'चम')\n",
      "('मनोर', 'मनो')\n",
      "('हत्यार', 'हत्या')\n",
      "('संस्थ', 'संस्था')\n",
      "('उत्पादक', 'उत्पाद')\n",
      "('कुटुंबा', 'कुटुंब')\n",
      "('कॅर', 'कॅरि')\n",
      "('कुर्ल', 'कुर्')\n",
      "('तारख', 'तार')\n",
      "('दुव', 'दुवा')\n",
      "('मेंढ', 'मेंढक')\n",
      "('ठेक', 'ठेका')\n",
      "('निद्र', 'निद्रा')\n",
      "('भलत', 'भल')\n",
      "('संसदे', 'संसद')\n",
      "('दाढ', 'दाढ़')\n",
      "('भादव', 'भाद')\n",
      "('चोख', 'चोखट')\n",
      "('यंत्रणे', 'यंत्रण')\n",
      "('क्षणा', 'क्षण')\n",
      "('पध्दत', 'पध्दति')\n",
      "('आचर', 'आचरण')\n",
      "('तिमाही', 'तिमाह')\n",
      "('पैठण', 'पैठ')\n",
      "('नाटका', 'नाटक')\n",
      "('कापस', 'काप')\n",
      "('चक्रा', 'चक्र')\n",
      "('जेवन', 'जेव')\n",
      "('खापर', 'खाप')\n",
      "('चुल', 'चुल्')\n",
      "('रस्ते', 'रस्त')\n",
      "('उपचारा', 'उपचार')\n",
      "('विक्र', 'विक्रय')\n",
      "('तोरण', 'तोर')\n",
      "('बोगद', 'बोग')\n",
      "('जेवढ', 'जेव')\n",
      "('आंधळ', 'आंध')\n",
      "('आशिकी', 'आशिक')\n",
      "('हुतात्म', 'हुतात्मा')\n",
      "('आषाढ', 'आषा')\n",
      "('म्हार', 'म्हारे')\n",
      "('विश्रांती', 'विश्रांत')\n",
      "('आगळ', 'आग')\n",
      "('जमान', 'जमाने')\n",
      "('दुकाना', 'दुकान')\n",
      "('पदर', 'पद')\n",
      "('बेडक', 'बेड')\n",
      "('निधना', 'निधन')\n",
      "('रोटर', 'रोट')\n",
      "('पापण', 'पाप')\n",
      "('प्रेक्ष', 'प्रेक्षा')\n",
      "('आगी', 'आग')\n",
      "('कोहळ', 'कोह')\n",
      "('बुरख', 'बुर')\n",
      "('प्रेष', 'प्रेषक')\n",
      "('अंगण', 'अंग')\n",
      "('इराद', 'इरा')\n",
      "('आखात', 'आखा')\n",
      "('कंगना', 'कंगन')\n",
      "('नजरे', 'नजर')\n",
      "('टिपण', 'टिप')\n",
      "('जमीनी', 'जमीन')\n",
      "('मैत्रीण', 'मैत्री')\n",
      "('उपभोक्त', 'उपभोक्ता')\n",
      "('ढाब', 'ढाबा')\n",
      "('पारड', 'पार')\n",
      "('वस्तूं', 'वस्तू')\n",
      "('नगद', 'नग')\n",
      "('अमेरिके', 'अमेरिक')\n",
      "('अंगठ', 'अंग')\n",
      "('सालस', 'साल')\n",
      "('मटन', 'मट')\n",
      "('परिघ', 'परि')\n",
      "('अपचन', 'अपच')\n",
      "('पिल्ल', 'पिल्')\n",
      "('पन्नाश', 'पन्ना')\n",
      "('फोल्डर', 'फोल्ड')\n",
      "('घालण', 'घाल')\n",
      "('मेसी', 'मेस')\n",
      "('बैठकी', 'बैठक')\n",
      "('परंपर', 'परंपरा')\n",
      "('नोटे', 'नोट')\n"
     ]
    }
   ],
   "source": [
    "for nf in noun_fit[:1000]:\n",
    "    if nf[0]!=nf[1]:\n",
    "        print(nf)"
   ]
  },
  {
   "cell_type": "code",
   "execution_count": 105,
   "id": "expanded-tribune",
   "metadata": {},
   "outputs": [
    {
     "data": {
      "text/plain": [
       "977"
      ]
     },
     "execution_count": 105,
     "metadata": {},
     "output_type": "execute_result"
    }
   ],
   "source": [
    "exact"
   ]
  },
  {
   "cell_type": "code",
   "execution_count": 59,
   "id": "becoming-straight",
   "metadata": {},
   "outputs": [
    {
     "data": {
      "text/plain": [
       "0"
      ]
     },
     "execution_count": 59,
     "metadata": {},
     "output_type": "execute_result"
    }
   ],
   "source": [
    "len(noun_seed_candidates)"
   ]
  },
  {
   "cell_type": "code",
   "execution_count": 47,
   "id": "further-supply",
   "metadata": {},
   "outputs": [],
   "source": [
    "exact_verb = list()\n",
    "i=0\n",
    "for verb_seed in verb_seed_candidates:\n",
    "    \n",
    "#     if len(find_best_fit(noun_seed)) > 0 and find_best_fit(noun_seed)[0]== noun_seed:\n",
    "    if verb_seed in tag_dist_h:\n",
    "        exact_verb.append(verb_seed)\n",
    "        i+=1"
   ]
  },
  {
   "cell_type": "code",
   "execution_count": 48,
   "id": "important-taxation",
   "metadata": {},
   "outputs": [
    {
     "data": {
      "text/plain": [
       "323"
      ]
     },
     "execution_count": 48,
     "metadata": {},
     "output_type": "execute_result"
    }
   ],
   "source": [
    "i"
   ]
  },
  {
   "cell_type": "code",
   "execution_count": 49,
   "id": "moderate-miller",
   "metadata": {},
   "outputs": [
    {
     "data": {
      "text/plain": [
       "['तोड',\n",
       " 'मोड',\n",
       " 'साध',\n",
       " 'फेरी',\n",
       " 'फेक',\n",
       " 'खच',\n",
       " 'देख',\n",
       " 'भिड',\n",
       " 'स्माईल',\n",
       " 'शक्य',\n",
       " 'जोड',\n",
       " 'घास',\n",
       " 'उखड',\n",
       " 'हवी',\n",
       " 'घुस',\n",
       " 'माम',\n",
       " 'सार्थक',\n",
       " 'शिक',\n",
       " 'पसर',\n",
       " 'तरंग',\n",
       " 'पाहा',\n",
       " 'उठ',\n",
       " 'फोड',\n",
       " 'पोह',\n",
       " 'वाच्य',\n",
       " 'स्वीकार',\n",
       " 'पुस',\n",
       " 'वैध',\n",
       " 'पळ',\n",
       " 'इथ',\n",
       " 'सहिष्णु',\n",
       " 'जप',\n",
       " 'घट',\n",
       " 'निघ',\n",
       " 'उदासीन',\n",
       " 'वाग',\n",
       " 'भाज',\n",
       " 'वस',\n",
       " 'पाव',\n",
       " 'पाड',\n",
       " 'पिछ',\n",
       " 'सोस',\n",
       " 'बन',\n",
       " 'उजाड',\n",
       " 'आलो',\n",
       " 'फिट',\n",
       " 'वाच',\n",
       " 'मोज',\n",
       " 'पन्न',\n",
       " 'ठीक',\n",
       " 'रोव',\n",
       " 'प्रकट',\n",
       " 'आ',\n",
       " 'उत्सुक',\n",
       " 'अस्वस्थ',\n",
       " 'कमतर',\n",
       " 'ठोक',\n",
       " 'उपभोग',\n",
       " 'सोडा',\n",
       " 'अल्क',\n",
       " 'उमग',\n",
       " 'पेर',\n",
       " 'बोला',\n",
       " 'गेलो',\n",
       " 'जड',\n",
       " 'आणा',\n",
       " 'फुट',\n",
       " 'दौ',\n",
       " 'सज',\n",
       " 'योजना',\n",
       " 'मग्न',\n",
       " 'खोद',\n",
       " 'शिथिल',\n",
       " 'सरक',\n",
       " 'दब',\n",
       " 'परिचित',\n",
       " 'फुंक',\n",
       " 'काप',\n",
       " 'वेध',\n",
       " 'अमला',\n",
       " 'दुख',\n",
       " 'खोली',\n",
       " 'कस',\n",
       " 'रुच',\n",
       " 'स्थित',\n",
       " 'प्रपंच',\n",
       " 'जाह',\n",
       " 'उट',\n",
       " 'अधीन',\n",
       " 'छेड',\n",
       " 'बंग',\n",
       " 'मिच',\n",
       " 'औपचारिक',\n",
       " 'जागरुक',\n",
       " 'बग',\n",
       " 'ग्रास',\n",
       " 'लोट',\n",
       " 'शोष',\n",
       " 'अभिनंदन',\n",
       " 'पच']"
      ]
     },
     "execution_count": 49,
     "metadata": {},
     "output_type": "execute_result"
    }
   ],
   "source": [
    "exact_verb[100:200]"
   ]
  },
  {
   "cell_type": "code",
   "execution_count": 107,
   "id": "military-complexity",
   "metadata": {},
   "outputs": [
    {
     "data": {
      "text/plain": [
       "35263"
      ]
     },
     "execution_count": 107,
     "metadata": {},
     "output_type": "execute_result"
    }
   ],
   "source": [
    "len(tag_dist_h)"
   ]
  },
  {
   "cell_type": "code",
   "execution_count": null,
   "id": "graduate-addiction",
   "metadata": {},
   "outputs": [],
   "source": []
  }
 ],
 "metadata": {
  "kernelspec": {
   "display_name": "Python 3",
   "language": "python",
   "name": "python3"
  },
  "language_info": {
   "codemirror_mode": {
    "name": "ipython",
    "version": 3
   },
   "file_extension": ".py",
   "mimetype": "text/x-python",
   "name": "python",
   "nbconvert_exporter": "python",
   "pygments_lexer": "ipython3",
   "version": "3.8.8"
  }
 },
 "nbformat": 4,
 "nbformat_minor": 5
}
