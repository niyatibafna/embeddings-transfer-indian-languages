{
 "cells": [
  {
   "cell_type": "code",
   "execution_count": 17,
   "id": "undefined-helicopter",
   "metadata": {},
   "outputs": [],
   "source": [
    "import nltk\n",
    "import pickle\n",
    "import random\n",
    "import re\n",
    "import time"
   ]
  },
  {
   "cell_type": "code",
   "execution_count": null,
   "id": "dynamic-remainder",
   "metadata": {},
   "outputs": [],
   "source": [
    "#small example\n",
    "trainer = nltk.tag.hmm.HiddenMarkovModelTrainer()\n",
    "s = \"\"\"\"मेरी मा आ रही है। तेरा नही पता। ऒर बता।\"\"\"\n",
    "sentences = s.split('।')[:-1]\n",
    "print(sentences)\n",
    "seq = [list(map(lambda x:(x,''), ss.split(' '))) for ss in sentences]\n",
    "print(seq[0][0])\n",
    "symbols = list(set([ss[0] for sss in seq for ss in sss]))\n",
    "print(symbols)\n",
    "states = range(5)\n",
    "trainer = nltk.tag.hmm.HiddenMarkovModelTrainer(states=states,symbols=symbols)\n",
    "m = trainer.train(unlabeled_sequences = seq)\n",
    "f = open('my_classifier.pickle', 'wb')\n",
    "pickle.dump(m, f)\n",
    "f.close()\n",
    "g = open('my_classifier.pickle', 'rb')\n",
    "m = pickle.load(g)\n",
    "# print(s.split())\n",
    "m.best_path(s.split())"
   ]
  },
  {
   "cell_type": "code",
   "execution_count": 21,
   "id": "heavy-birthday",
   "metadata": {},
   "outputs": [],
   "source": [
    "#getting unlabeled segmented data\n",
    "\n",
    "# data = [re.split(' |\\n', ss)[1:-1] for ss in data]\n",
    "data = open(\"marathi_data/mr/mr.segmented.EOLmarked.txt\").read().split(\"E O L\")\n",
    "data = [re.split(' |\\n', ss)[1:-1] for ss in data]\n",
    "untagged_data = [list(map(lambda x:(x,''), ss)) for ss in data]"
   ]
  },
  {
   "cell_type": "code",
   "execution_count": 97,
   "id": "alien-stations",
   "metadata": {},
   "outputs": [
    {
     "data": {
      "text/plain": [
       "[['दाखवि',\n",
       "  'णे',\n",
       "  'आणि',\n",
       "  'आश्वासन',\n",
       "  'े',\n",
       "  'देणार',\n",
       "  'े',\n",
       "  'नेते',\n",
       "  'ही',\n",
       "  'लोक',\n",
       "  'ांना',\n",
       "  'खूप',\n",
       "  'आवडत',\n",
       "  'ात',\n",
       "  '.'],\n",
       " ['मुलां',\n",
       "  'सोबतच',\n",
       "  'पालक',\n",
       "  'ांना',\n",
       "  'सांभाळ',\n",
       "  'ण्याची',\n",
       "  'जबाबदार',\n",
       "  'ी',\n",
       "  'ही',\n",
       "  'विवाह',\n",
       "  'ीत',\n",
       "  'महिलां',\n",
       "  'ची',\n",
       "  'ही',\n",
       "  'आहे',\n",
       "  '.',\n",
       "  '.',\n",
       "  '.',\n",
       "  'के',\n",
       "  'वळ',\n",
       "  ',',\n",
       "  'विवाह',\n",
       "  'झाला',\n",
       "  'य',\n",
       "  'म्हणून',\n",
       "  'वृद्ध',\n",
       "  'पालक',\n",
       "  'ांची',\n",
       "  'जबाबदार',\n",
       "  'ी',\n",
       "  'त्यांना',\n",
       "  'झटक',\n",
       "  'ता',\n",
       "  'येणार',\n",
       "  'नाही',\n",
       "  'असं',\n",
       "  'हाय',\n",
       "  'कोर्टा',\n",
       "  'नं',\n",
       "  'म्हटल',\n",
       "  'ंय',\n",
       "  '.'],\n",
       " ['पहा',\n",
       "  'काय',\n",
       "  'बरळ',\n",
       "  'ला',\n",
       "  'पाकड',\n",
       "  '्यांचा',\n",
       "  'पंतप्रधान',\n",
       "  'इम',\n",
       "  'रान',\n",
       "  'खान'],\n",
       " ['३',\n",
       "  '(',\n",
       "  'पीसीबी',\n",
       "  ')',\n",
       "  '–',\n",
       "  'मावळ',\n",
       "  'मध्ये',\n",
       "  'पवना',\n",
       "  'जलवाहिनी',\n",
       "  'विरोधात',\n",
       "  'आंदोलन',\n",
       "  'करणाऱ्या',\n",
       "  'आंदोलक',\n",
       "  'शेतकऱ',\n",
       "  '्यांवर',\n",
       "  'गोळीबार',\n",
       "  'करण्या',\n",
       "  'चे',\n",
       "  'आदेश',\n",
       "  'मी',\n",
       "  'दिल्या',\n",
       "  'चा',\n",
       "  'पंतप्रधान',\n",
       "  'नर',\n",
       "  'ेंद्र',\n",
       "  'मोदीं',\n",
       "  'चा',\n",
       "  'आरोप',\n",
       "  'चुकीच',\n",
       "  'ा',\n",
       "  'आहे',\n",
       "  '.'],\n",
       " ['वृष',\n",
       "  'भ',\n",
       "  ':',\n",
       "  'क्षुल्ल',\n",
       "  'क',\n",
       "  'कारणा',\n",
       "  'ने',\n",
       "  'तुम्ही',\n",
       "  'अस्वस्थ',\n",
       "  'व्हा',\n",
       "  'ल',\n",
       "  '.']]"
      ]
     },
     "execution_count": 97,
     "metadata": {},
     "output_type": "execute_result"
    }
   ],
   "source": [
    "data[:5]"
   ]
  },
  {
   "cell_type": "code",
   "execution_count": 50,
   "id": "alike-travel",
   "metadata": {},
   "outputs": [],
   "source": [
    "#taglist\n",
    "tags = {\"NOUN\", \"VERB\", \"PROPN\", \"ADJ\", \"ADV\", \"INTJ\", \\\n",
    "        \"ADP\", \"AUX\", \"CCONJ\", \"SCONJ\", \"DET\", \"NUM\", \"PART\", \"PRON\", \"SCONJ\", \\\n",
    "        \"PUNCT\", \"SYM\", \"X\", \\\n",
    "        \"NSUFF\", \"VSUFF\", \"AJSUFF\", \"PREF\"}"
   ]
  },
  {
   "cell_type": "code",
   "execution_count": 65,
   "id": "portable-sucking",
   "metadata": {},
   "outputs": [],
   "source": [
    "#getting tagged data\n",
    "tagged_data = open(\"marathi_data/mr/mr.segmented.gold_tagged.txt\", \"r\").read().split(\"E O L\")\n",
    "tagged_data = [re.split('\\n', ss)[1:-1] for ss in tagged_data]\n",
    "# tagged_seq = [list(map(lambda x: (x.split(\"\\t\")[0], x.split(\"\\t\")[1]), sent)) for sent in tagged_data]"
   ]
  },
  {
   "cell_type": "code",
   "execution_count": 8,
   "id": "formal-poultry",
   "metadata": {},
   "outputs": [],
   "source": [
    "#formatting tagged data\n",
    "for sentidx, sent in enumerate(tagged_data):\n",
    "    for wordidx, word in enumerate(sent):\n",
    "        print(word.split(\"\\t\"))\n",
    "#         assert(len(word.split(\"\\t\"))==2)\n",
    "        tpair = (word.split(\"\\t\")[0], word.split(\"\\t\")[1])\n",
    "        assert(word.split(\"\\t\")[1] in tags)\n",
    "        tagged_data[sentidx][wordidx] = tpair"
   ]
  },
  {
   "cell_type": "code",
   "execution_count": 68,
   "id": "frank-understanding",
   "metadata": {},
   "outputs": [],
   "source": [
    "# print(tagged_data[:5])\n"
   ]
  },
  {
   "cell_type": "code",
   "execution_count": 92,
   "id": "enclosed-elder",
   "metadata": {},
   "outputs": [
    {
     "name": "stdout",
     "output_type": "stream",
     "text": [
      "Tagged trained!\n",
      "iteration 0 logprob -6.027949999999301e+305\n",
      "iteration 1 logprob -1.3999161707086247e+294\n",
      "iteration 2 logprob -13293543.052937528\n",
      "iteration 3 logprob -12314384.334014881\n",
      "iteration 4 logprob -12204953.12023687\n",
      "iteration 5 logprob -12088962.453261444\n",
      "iteration 6 logprob -11988326.890268086\n",
      "iteration 7 logprob -11912186.192758031\n",
      "iteration 8 logprob -11855235.794733532\n",
      "iteration 9 logprob -11811711.144262718\n",
      "iteration 10 logprob -11777691.282846304\n",
      "iteration 11 logprob -11750957.066613251\n",
      "iteration 12 logprob -11729812.348699365\n",
      "iteration 13 logprob -11712619.145432454\n",
      "iteration 14 logprob -11698191.481072046\n",
      "iteration 15 logprob -11685936.90470146\n",
      "iteration 16 logprob -11675583.047305644\n",
      "iteration 17 logprob -11666863.115232347\n",
      "iteration 18 logprob -11659447.170365455\n",
      "iteration 19 logprob -11653056.071799709\n",
      "iteration 20 logprob -11647504.616321772\n",
      "iteration 21 logprob -11642637.38013993\n",
      "iteration 22 logprob -11638288.583334658\n",
      "iteration 23 logprob -11634339.871234957\n",
      "iteration 24 logprob -11630696.417863451\n",
      "iteration 25 logprob -11627300.13028313\n",
      "iteration 26 logprob -11624162.363217501\n",
      "iteration 27 logprob -11621277.050664984\n",
      "iteration 28 logprob -11618615.60845359\n",
      "iteration 29 logprob -11616149.484140031\n",
      "iteration 30 logprob -11613824.815416357\n",
      "iteration 31 logprob -11611832.866540218\n",
      "iteration 32 logprob -11610063.265883906\n",
      "iteration 33 logprob -11608478.701011999\n",
      "iteration 34 logprob -11607047.038733687\n",
      "iteration 35 logprob -11605739.518920999\n",
      "iteration 36 logprob -11604533.459710663\n",
      "iteration 37 logprob -11603395.02607577\n",
      "iteration 38 logprob -11602314.687658986\n",
      "iteration 39 logprob -11601292.546334377\n",
      "iteration 40 logprob -11600328.328513764\n",
      "iteration 41 logprob -11599437.374354394\n",
      "iteration 42 logprob -11598610.124523131\n",
      "iteration 43 logprob -11597835.18227243\n",
      "iteration 44 logprob -11597106.188992126\n",
      "iteration 45 logprob -11596398.039169328\n",
      "iteration 46 logprob -11595699.862497108\n",
      "iteration 47 logprob -11595036.941546107\n",
      "iteration 48 logprob -11594413.733117724\n",
      "iteration 49 logprob -11593815.897234354\n",
      "iteration 50 logprob -11593247.405636707\n",
      "iteration 51 logprob -11592718.933473049\n",
      "iteration 52 logprob -11592222.834175015\n",
      "iteration 53 logprob -11591756.178459411\n",
      "iteration 54 logprob -11591326.394768309\n",
      "iteration 55 logprob -11590921.391319906\n",
      "iteration 56 logprob -11590532.070400937\n",
      "iteration 57 logprob -11590164.937205823\n",
      "iteration 58 logprob -11589827.840731725\n",
      "iteration 59 logprob -11589514.775761515\n",
      "iteration 60 logprob -11589211.967599006\n",
      "iteration 61 logprob -11588920.228919711\n",
      "iteration 62 logprob -11588652.804966656\n",
      "iteration 63 logprob -11588404.704617431\n",
      "iteration 64 logprob -11588170.514055911\n",
      "iteration 65 logprob -11587945.22825176\n",
      "iteration 66 logprob -11587729.701269\n",
      "iteration 67 logprob -11587521.529736158\n",
      "iteration 68 logprob -11587309.647952335\n",
      "iteration 69 logprob -11587079.59526929\n",
      "iteration 70 logprob -11586829.746207565\n",
      "iteration 71 logprob -11586573.80185106\n",
      "iteration 72 logprob -11586320.962666877\n",
      "iteration 73 logprob -11586084.12984183\n",
      "iteration 74 logprob -11585882.561521932\n",
      "iteration 75 logprob -11585711.51447736\n",
      "iteration 76 logprob -11585559.59214939\n",
      "iteration 77 logprob -11585417.326446692\n",
      "iteration 78 logprob -11585283.353604607\n",
      "iteration 79 logprob -11585156.09253471\n",
      "iteration 80 logprob -11585038.497584295\n",
      "iteration 81 logprob -11584923.380645514\n",
      "iteration 82 logprob -11584808.059437148\n",
      "iteration 83 logprob -11584693.266773416\n",
      "iteration 84 logprob -11584581.094487494\n",
      "iteration 85 logprob -11584472.256280579\n",
      "iteration 86 logprob -11584363.869584257\n",
      "iteration 87 logprob -11584257.13049009\n",
      "iteration 88 logprob -11584148.53581025\n",
      "iteration 89 logprob -11584034.623627033\n",
      "iteration 90 logprob -11583916.06888338\n",
      "iteration 91 logprob -11583801.178314166\n",
      "iteration 92 logprob -11583693.884861773\n",
      "iteration 93 logprob -11583593.076982442\n",
      "iteration 94 logprob -11583495.808054537\n",
      "iteration 95 logprob -11583398.385215014\n",
      "iteration 96 logprob -11583303.253748527\n",
      "iteration 97 logprob -11583214.826477451\n",
      "iteration 98 logprob -11583128.293698527\n",
      "iteration 99 logprob -11583045.339226685\n",
      "Fully trained!\n",
      "Time take:  172264.40307283401\n"
     ]
    }
   ],
   "source": [
    "#Training\n",
    "#7:    10\n",
    "start = time.time()\n",
    "symbols = list(set([ss[0] for sss in untagged_data for ss in sss]))\n",
    "print(len(symbols))\n",
    "states = list(tags)\n",
    "trainer = nltk.tag.hmm.HiddenMarkovModelTrainer(states=states,symbols=symbols)\n",
    "hmm_tagged = trainer.train_supervised(tagged_data) \n",
    "print(\"Tagged trained!\")\n",
    "hmm_all = trainer.train_unsupervised(untagged_data, model = hmm_tagged, max_iterations=100)\n",
    "end = time.time()\n",
    "print(\"Fully trained!\")\n",
    "print(\"Time take: \", end-start)"
   ]
  },
  {
   "cell_type": "code",
   "execution_count": 93,
   "id": "instructional-barrel",
   "metadata": {},
   "outputs": [],
   "source": [
    "#Saving model\n",
    "f = open('hmm_tagger_l.pickle', 'wb')\n",
    "pickle.dump(hmm_all, f)\n",
    "f.close()\n"
   ]
  },
  {
   "cell_type": "code",
   "execution_count": 10,
   "id": "integrated-welsh",
   "metadata": {},
   "outputs": [],
   "source": [
    "g = open('hmm_tagger_l.pickle', 'rb')\n",
    "m = pickle.load(g)\n",
    "# s = data[0]\n",
    "# print(m.best_path(data[0]))\n",
    "# print(data[0])\n",
    "for idx in range(10):\n",
    "    print(list(zip(data[idx], m.best_path(data[idx]))))"
   ]
  },
  {
   "cell_type": "code",
   "execution_count": 9,
   "id": "forty-champagne",
   "metadata": {},
   "outputs": [],
   "source": [
    "collected = {tag:dict() for tag in tags}\n",
    "for n in range(len(data)):\n",
    "    for idx, tag in enumerate(m.best_path(data[n])):\n",
    "        collected[tag][data[n][idx]] = collected[tag].get(data[n][idx],0)+1 \n",
    "    if n%1000==0:\n",
    "        print(n)\n"
   ]
  },
  {
   "cell_type": "code",
   "execution_count": 1,
   "id": "controlled-variety",
   "metadata": {},
   "outputs": [],
   "source": [
    "# collected[\"NOUN\"].intersection(collected[\"VERB\"])"
   ]
  },
  {
   "cell_type": "code",
   "execution_count": 2,
   "id": "timely-valuable",
   "metadata": {
    "scrolled": true
   },
   "outputs": [],
   "source": [
    "# collected[\"VERB\"]"
   ]
  },
  {
   "cell_type": "code",
   "execution_count": 121,
   "id": "sitting-scanner",
   "metadata": {},
   "outputs": [
    {
     "data": {
      "text/plain": [
       "2438"
      ]
     },
     "execution_count": 121,
     "metadata": {},
     "output_type": "execute_result"
    }
   ],
   "source": [
    "len(collected[\"ADJ\"])"
   ]
  },
  {
   "cell_type": "code",
   "execution_count": 118,
   "id": "broad-examination",
   "metadata": {},
   "outputs": [
    {
     "data": {
      "text/plain": [
       "2239"
      ]
     },
     "execution_count": 118,
     "metadata": {},
     "output_type": "execute_result"
    }
   ],
   "source": [
    "len(collected[\"NSUFF\"])"
   ]
  },
  {
   "cell_type": "code",
   "execution_count": 3,
   "id": "multiple-efficiency",
   "metadata": {},
   "outputs": [],
   "source": [
    "# collected[\"ADP\"]"
   ]
  },
  {
   "cell_type": "code",
   "execution_count": 4,
   "id": "least-climb",
   "metadata": {},
   "outputs": [],
   "source": [
    "# collected[\"VSUFF\"]"
   ]
  },
  {
   "cell_type": "code",
   "execution_count": 5,
   "id": "aware-record",
   "metadata": {},
   "outputs": [],
   "source": [
    "# collected[\"PREF\"]"
   ]
  },
  {
   "cell_type": "code",
   "execution_count": 6,
   "id": "racial-fireplace",
   "metadata": {},
   "outputs": [],
   "source": [
    "# collected[\"ADV\"]"
   ]
  },
  {
   "cell_type": "code",
   "execution_count": 133,
   "id": "honest-terminology",
   "metadata": {},
   "outputs": [],
   "source": [
    "\n",
    "tag_dist = {s:dict() for s in symbols}\n",
    "for morph in symbols:\n",
    "    tag_dist[morph] = {tag:collected[tag].get(morph,0) for tag in tags}"
   ]
  },
  {
   "cell_type": "code",
   "execution_count": 7,
   "id": "threaded-gasoline",
   "metadata": {},
   "outputs": [],
   "source": [
    "count = 0\n",
    "for morph in list(symbols):\n",
    "\n",
    "    x=sorted(list(tag_dist[morph].items()), key = lambda x: x[1], reverse=True)\n",
    "    if x[0][1]>10:\n",
    "        print(morph)\n",
    "        print(x)\n",
    "        count+=1\n",
    "        print(\"\\n\\n\\n\")"
   ]
  },
  {
   "cell_type": "code",
   "execution_count": null,
   "id": "natural-addiction",
   "metadata": {},
   "outputs": [],
   "source": []
  },
  {
   "cell_type": "code",
   "execution_count": null,
   "id": "synthetic-eight",
   "metadata": {},
   "outputs": [],
   "source": []
  },
  {
   "cell_type": "code",
   "execution_count": null,
   "id": "dress-sound",
   "metadata": {},
   "outputs": [],
   "source": [
    "#Baum Welch on full Marathi tokens"
   ]
  },
  {
   "cell_type": "code",
   "execution_count": 35,
   "id": "protected-miniature",
   "metadata": {},
   "outputs": [],
   "source": [
    "#taglist\n",
    "tags = {\"NOUN\", \"VERB\", \"PROPN\", \"ADJ\", \"ADV\", \\\n",
    "        \"ADP\", \"AUX\", \"CCONJ\", \"DET\", \"NUM\", \"PRON\", \\\n",
    "        \"PUNCT\", \"X\"}"
   ]
  },
  {
   "cell_type": "code",
   "execution_count": 36,
   "id": "whole-stretch",
   "metadata": {},
   "outputs": [],
   "source": [
    "#getting unlabeled segmented data\n",
    "\n",
    "# data = [re.split(' |\\n', ss)[1:-1] for ss in data]\n",
    "data = open(\"marathi_data/mr/mr.tok.txt\").read().split(\"\\n\")\n",
    "data = [ss.split(\" \")[:-1] for ss in data]\n",
    "untagged_data = [list(map(lambda x:(x,''), ss)) for ss in data]"
   ]
  },
  {
   "cell_type": "code",
   "execution_count": 37,
   "id": "baking-belly",
   "metadata": {},
   "outputs": [
    {
     "data": {
      "text/plain": [
       "50002"
      ]
     },
     "execution_count": 37,
     "metadata": {},
     "output_type": "execute_result"
    }
   ],
   "source": [
    "len(untagged_data)"
   ]
  },
  {
   "cell_type": "code",
   "execution_count": 38,
   "id": "former-persian",
   "metadata": {},
   "outputs": [],
   "source": [
    "#getting tagged data\n",
    "tagged_data = open(\"marathi_data/mr/mr.tok.gold_tagged.txt\", \"r\").read().split(\"E O L\")\n",
    "tagged_data = [re.split(\"\\n\", ss)[1:-1] for ss in tagged_data]\n",
    "# tagged_seq = [list(map(lambda x: (x.split(\"\\t\")[0], x.split(\"\\t\")[1]), sent)) for sent in tagged_data]"
   ]
  },
  {
   "cell_type": "code",
   "execution_count": 39,
   "id": "peripheral-treaty",
   "metadata": {},
   "outputs": [],
   "source": [
    "#formatting tagged data\n",
    "for sentidx, sent in enumerate(tagged_data):\n",
    "    for wordidx, word in enumerate(sent):\n",
    "#         print(word.split(\"\\t\"))\n",
    "#         assert(len(word.split(\"\\t\"))==2)\n",
    "        tpair = (word.split(\"\\t\")[0], word.split(\"\\t\")[1])\n",
    "        assert(word.split(\"\\t\")[1] in tags)\n",
    "        tagged_data[sentidx][wordidx] = tpair"
   ]
  },
  {
   "cell_type": "code",
   "execution_count": 40,
   "id": "owned-worker",
   "metadata": {},
   "outputs": [
    {
     "data": {
      "text/plain": [
       "51"
      ]
     },
     "execution_count": 40,
     "metadata": {},
     "output_type": "execute_result"
    }
   ],
   "source": [
    "len(tagged_data)"
   ]
  },
  {
   "cell_type": "code",
   "execution_count": 41,
   "id": "engaging-irish",
   "metadata": {},
   "outputs": [
    {
     "name": "stdout",
     "output_type": "stream",
     "text": [
      "106517\n",
      "['ADJ', 'DET', 'PUNCT', 'CCONJ', 'X', 'ADV', 'AUX', 'VERB', 'NOUN', 'ADP', 'PRON', 'PROPN', 'NUM']\n",
      "Tagged trained!\n",
      "iteration 0 logprob -5.522659999999258e+305\n",
      "iteration 1 logprob -1.5375145953768864e+294\n",
      "iteration 2 logprob -10386196.852372011\n",
      "iteration 3 logprob -9840927.72703947\n",
      "iteration 4 logprob -9741557.796966191\n",
      "iteration 5 logprob -9633951.278716402\n",
      "iteration 6 logprob -9543146.816568874\n",
      "iteration 7 logprob -9480531.032502547\n",
      "iteration 8 logprob -9438452.290107332\n",
      "iteration 9 logprob -9408431.757836876\n",
      "iteration 10 logprob -9386215.395551968\n",
      "iteration 11 logprob -9369587.851740455\n",
      "iteration 12 logprob -9357097.194996003\n",
      "iteration 13 logprob -9347589.69815593\n",
      "iteration 14 logprob -9340178.45574246\n",
      "iteration 15 logprob -9334215.576850343\n",
      "iteration 16 logprob -9329297.678140508\n",
      "iteration 17 logprob -9325156.241769679\n",
      "iteration 18 logprob -9321578.959137775\n",
      "iteration 19 logprob -9318407.901576908\n",
      "iteration 20 logprob -9315558.781404128\n",
      "iteration 21 logprob -9312988.592411786\n",
      "iteration 22 logprob -9310667.190736426\n",
      "iteration 23 logprob -9308570.562765932\n",
      "iteration 24 logprob -9306679.015492786\n",
      "iteration 25 logprob -9304967.369123902\n",
      "iteration 26 logprob -9303412.892180597\n",
      "iteration 27 logprob -9301988.513035225\n",
      "iteration 28 logprob -9300676.367245957\n",
      "iteration 29 logprob -9299453.216764087\n",
      "iteration 30 logprob -9298309.515296804\n",
      "iteration 31 logprob -9297236.066031143\n",
      "iteration 32 logprob -9296237.425709672\n",
      "iteration 33 logprob -9295308.045005478\n",
      "iteration 34 logprob -9294430.888640959\n",
      "iteration 35 logprob -9293597.241041359\n",
      "iteration 36 logprob -9292794.48663766\n",
      "iteration 37 logprob -9292030.755317936\n",
      "iteration 38 logprob -9291306.70700789\n",
      "iteration 39 logprob -9290614.973939871\n",
      "iteration 40 logprob -9289955.139124077\n",
      "iteration 41 logprob -9289323.400490576\n",
      "iteration 42 logprob -9288729.283210237\n",
      "iteration 43 logprob -9288173.532583801\n",
      "iteration 44 logprob -9287658.396072185\n",
      "iteration 45 logprob -9287169.146038424\n",
      "iteration 46 logprob -9286695.426489888\n",
      "iteration 47 logprob -9286245.343330206\n",
      "iteration 48 logprob -9285813.67804034\n",
      "iteration 49 logprob -9285395.997912358\n",
      "Fully trained!\n",
      "Time take:  93747.18766713142\n"
     ]
    }
   ],
   "source": [
    "#Training\n",
    "# 10: 45 \n",
    "start = time.time()\n",
    "symbols = list(set([pair[0] for sent in untagged_data for pair in sent]))\n",
    "print(len(symbols))\n",
    "states = list(tags)\n",
    "print(states)\n",
    "trainer = nltk.tag.hmm.HiddenMarkovModelTrainer(states=states,symbols=symbols)\n",
    "hmm_tagged = trainer.train_supervised(tagged_data) \n",
    "print(\"Tagged trained!\")\n",
    "hmm_all = trainer.train_unsupervised(untagged_data, model = hmm_tagged, max_iterations=50)\n",
    "end = time.time()\n",
    "print(\"Fully trained!\")\n",
    "print(\"Time take: \", end-start)"
   ]
  },
  {
   "cell_type": "code",
   "execution_count": 42,
   "id": "common-gender",
   "metadata": {},
   "outputs": [],
   "source": [
    "#Saving model\n",
    "f = open('hmm_tagger_tokens_l.pickle', 'wb')\n",
    "pickle.dump(hmm_all, f)\n",
    "f.close()\n",
    "\n"
   ]
  },
  {
   "cell_type": "code",
   "execution_count": 45,
   "id": "higher-values",
   "metadata": {},
   "outputs": [
    {
     "name": "stdout",
     "output_type": "stream",
     "text": [
      "('स्वप्न', 'PRON')\n",
      "('दाखविणे', 'PROPN')\n",
      "('आणि', 'CCONJ')\n",
      "('आश्वासने', 'PRON')\n",
      "('देणारे', 'VERB')\n",
      "('नेतेही', 'CCONJ')\n",
      "('लोकांना', 'ADJ')\n",
      "('खूप', 'NOUN')\n",
      "('आवडतात', 'VERB')\n",
      "('.', 'PUNCT')\n",
      "('मुलांसोबतच', 'DET')\n",
      "('पालकांना', 'ADJ')\n",
      "('सांभाळण्याची', 'DET')\n",
      "('जबाबदारी', 'ADJ')\n",
      "('ही', 'DET')\n",
      "('विवाहीत', 'ADJ')\n",
      "('महिलांचीही', 'VERB')\n",
      "('आहे', 'AUX')\n",
      "('.', 'PUNCT')\n",
      "('.', 'PUNCT')\n",
      "('.', 'PUNCT')\n",
      "('केवळ', 'CCONJ')\n",
      "(',', 'CCONJ')\n",
      "('विवाह', 'ADV')\n",
      "('झालाय', 'PROPN')\n",
      "('म्हणून', 'CCONJ')\n",
      "('वृद्ध', 'DET')\n",
      "('पालकांची', 'ADJ')\n",
      "('जबाबदारी', 'PRON')\n",
      "('त्यांना', 'PRON')\n",
      "('झटकता', 'PRON')\n",
      "('येणार', 'VERB')\n",
      "('नाही', 'AUX')\n",
      "('असं', 'ADJ')\n",
      "('हायकोर्टानं', 'VERB')\n",
      "('म्हटलंय', 'AUX')\n",
      "('.', 'PUNCT')\n",
      "('पहा', 'ADV')\n",
      "('काय', 'PROPN')\n",
      "('बरळला', 'CCONJ')\n",
      "('पाकड्यांचा', 'DET')\n",
      "('पंतप्रधान', 'ADV')\n",
      "('इमरान', 'NUM')\n",
      "('३', 'NOUN')\n",
      "('(', 'PUNCT')\n",
      "('पीसीबी', 'X')\n",
      "(')', 'PUNCT')\n",
      "('–', 'CCONJ')\n",
      "('मावळमध्ये', 'ADV')\n",
      "('पवना', 'NUM')\n",
      "('जलवाहिनीविरोधात', 'ADP')\n",
      "('आंदोलन', 'PRON')\n",
      "('करणाऱ्या', 'VERB')\n",
      "('आंदोलक', 'NUM')\n",
      "('शेतकऱ्यांवर', 'ADP')\n",
      "('गोळीबार', 'PRON')\n",
      "('करण्याचे', 'PRON')\n",
      "('आदेश', 'PRON')\n",
      "('मी', 'PRON')\n",
      "('दिल्याचा', 'VERB')\n",
      "('पंतप्रधान', 'ADV')\n",
      "('नरेंद्र', 'PROPN')\n",
      "('मोदींचा', 'DET')\n",
      "('आरोप', 'PRON')\n",
      "('चुकीचा', 'VERB')\n",
      "('आहे', 'AUX')\n",
      "('.', 'PUNCT')\n",
      "('वृषभ', 'ADV')\n",
      "(':', 'PROPN')\n",
      "('क्षुल्लक', 'DET')\n",
      "('कारणाने', 'ADJ')\n",
      "('तुम्ही', 'PRON')\n",
      "('अस्वस्थ', 'VERB')\n",
      "('व्हाल', 'AUX')\n",
      "('.', 'PUNCT')\n",
      "('तो', 'ADJ')\n",
      "('किती', 'ADJ')\n",
      "('बद्दल', 'ADJ')\n",
      "(',', 'CCONJ')\n",
      "('आम्ही', 'PRON')\n",
      "('नंतर', 'ADV')\n",
      "('तुम्हांला', 'PRON')\n",
      "('सांगतो', 'VERB')\n",
      "('.', 'PUNCT')\n",
      "('मुख्य', 'DET')\n",
      "('पान', 'ADJ')\n",
      "('चालू', 'VERB')\n",
      "('घडामोडी', 'CCONJ')\n",
      "('शेतकऱयांना', 'ADV')\n",
      "('कर्जमाफी', 'PROPN')\n",
      "('किंवा', 'CCONJ')\n",
      "('मुलांमध्ये', 'DET')\n",
      "('भेदभाव', 'ADJ')\n",
      "('पालकांनी', 'PRON')\n",
      "('करू', 'VERB')\n",
      "('नये', 'AUX')\n",
      "(',', 'PUNCT')\n",
      "('मिठाई', 'PRON')\n",
      "('आणली', 'VERB')\n",
      "('असेल', 'AUX')\n",
      "('तर', 'CCONJ')\n",
      "('सर्वाना', 'PRON')\n",
      "('द्यावी', 'VERB')\n",
      "(',', 'PUNCT')\n",
      "('फक्त', 'CCONJ')\n",
      "('एकाच', 'DET')\n",
      "('मुलाला', 'ADJ')\n",
      "('/', 'CCONJ')\n",
      "('मुलीला', 'PROPN')\n",
      "('आणि', 'CCONJ')\n",
      "('इतरांना', 'DET')\n",
      "('नाही', 'ADJ')\n",
      "('असे', 'ADJ')\n",
      "('नको', 'AUX')\n",
      "('.', 'PUNCT')\n",
      "('राज्यातलं', 'ADV')\n",
      "('सरकार', 'PROPN')\n",
      "('आणि', 'CCONJ')\n",
      "('मुख्यमंत्री', 'NOUN')\n",
      "('चांगलं', 'ADP')\n",
      "('काम', 'NOUN')\n",
      "('करत', 'VERB')\n",
      "('आहेत', 'AUX')\n",
      "('.', 'PUNCT')\n",
      "('चित्रपटातील', 'ADJ')\n",
      "('गाणं', 'ADJ')\n",
      "('रिमेक', 'ADJ')\n",
      "('जरी', 'ADJ')\n",
      "('असलं', 'AUX')\n",
      "('तरी', 'PUNCT')\n",
      "('त्यात', 'PUNCT')\n",
      "('बॉलिवूड', 'DET')\n",
      "('स्टाईल', 'ADJ')\n",
      "('वापरली', 'VERB')\n",
      "('असल्याने', 'AUX')\n",
      "('प्रेक्षकांना', 'CCONJ')\n",
      "('ते', 'DET')\n",
      "('फार', 'PRON')\n",
      "('आवडत', 'VERB')\n",
      "('आहे', 'AUX')\n",
      "('.', 'PUNCT')\n"
     ]
    }
   ],
   "source": [
    "for d in data[:10]:\n",
    "    print(*list(zip(d, hmm_all.best_path(d))), sep=\"\\n\")"
   ]
  },
  {
   "cell_type": "code",
   "execution_count": null,
   "id": "insured-sessions",
   "metadata": {},
   "outputs": [],
   "source": []
  }
 ],
 "metadata": {
  "kernelspec": {
   "display_name": "Python 3",
   "language": "python",
   "name": "python3"
  },
  "language_info": {
   "codemirror_mode": {
    "name": "ipython",
    "version": 3
   },
   "file_extension": ".py",
   "mimetype": "text/x-python",
   "name": "python",
   "nbconvert_exporter": "python",
   "pygments_lexer": "ipython3",
   "version": "3.8.8"
  }
 },
 "nbformat": 4,
 "nbformat_minor": 5
}
