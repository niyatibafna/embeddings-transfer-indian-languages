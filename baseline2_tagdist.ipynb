{
 "cells": [
  {
   "cell_type": "code",
   "execution_count": 41,
   "id": "smart-prerequisite",
   "metadata": {},
   "outputs": [],
   "source": [
    "import numpy as np\n",
    "from collections import defaultdict\n",
    "from scipy.spatial import distance"
   ]
  },
  {
   "cell_type": "code",
   "execution_count": 6,
   "id": "toxic-peninsula",
   "metadata": {},
   "outputs": [],
   "source": [
    "A = defaultdict(lambda: 0)\n",
    "B = defaultdict(lambda: 0)\n",
    "A1 = {1:3, 3:4, 5:5}\n",
    "B1 = {1:8, 2:9, 5:10}\n",
    "A.update(A1)\n",
    "B.update(B1)\n",
    "a1, b1 = list(), list()"
   ]
  },
  {
   "cell_type": "code",
   "execution_count": 7,
   "id": "organized-carrier",
   "metadata": {},
   "outputs": [],
   "source": [
    "for idx, tag in enumerate(list(set(A.keys()).union(set(B.keys())))):\n",
    "    a1.append(A[tag])\n",
    "    b1.append(B[tag])"
   ]
  },
  {
   "cell_type": "code",
   "execution_count": 8,
   "id": "metallic-premises",
   "metadata": {},
   "outputs": [
    {
     "data": {
      "text/plain": [
       "[3, 0, 4, 5]"
      ]
     },
     "execution_count": 8,
     "metadata": {},
     "output_type": "execute_result"
    }
   ],
   "source": [
    "a1"
   ]
  },
  {
   "cell_type": "code",
   "execution_count": 9,
   "id": "greatest-interval",
   "metadata": {},
   "outputs": [
    {
     "data": {
      "text/plain": [
       "[1, 2, 3, 5]"
      ]
     },
     "execution_count": 9,
     "metadata": {},
     "output_type": "execute_result"
    }
   ],
   "source": [
    "list(set(A.keys()).union(set(B.keys())))"
   ]
  },
  {
   "cell_type": "code",
   "execution_count": 28,
   "id": "special-romance",
   "metadata": {},
   "outputs": [],
   "source": [
    "with open(\"tag_distributions/tag_dist_l.json\", \"r\") as l_file:\n",
    "    tag_dist_l = json.load(l_file)\n",
    "    \n",
    "with open(\"tag_distributions/tag_dist_h.json\", \"r\") as h_file:\n",
    "    tag_dist_h = json.load(h_file)"
   ]
  },
  {
   "cell_type": "code",
   "execution_count": 29,
   "id": "stuck-covering",
   "metadata": {},
   "outputs": [],
   "source": [
    "def find_kl_cost(dist_l, dist_h):\n",
    "    A = defaultdict(lambda: 0)\n",
    "    B = defaultdict(lambda: 0)\n",
    "    A.update(dist_l)\n",
    "    B.update(dist_h)\n",
    "    list_l, list_h = list(), list()\n",
    "    for idx, tag in enumerate(list(set(A.keys()).union(set(B.keys())))):\n",
    "        list_l.append(A[tag])\n",
    "        list_h.append(B[tag])\n",
    "    \n",
    "    epsilon = 0.0001\n",
    "    list_l = np.asarray(list_l) + epsilon\n",
    "    list_l = list_l/list_l.sum() \n",
    "    list_h = np.asarray(list_h) + epsilon\n",
    "    list_h = list_h/list_h.sum() \n",
    "\n",
    "    kld = list_l*np.log(list_l/list_h)\n",
    "    \n",
    "    return kld.sum()\n"
   ]
  },
  {
   "cell_type": "code",
   "execution_count": 83,
   "id": "still-craft",
   "metadata": {},
   "outputs": [],
   "source": [
    "import time\n",
    "def find_cosine_cost(dist_l, dist_h):\n",
    "    start = time.time()\n",
    "    A = defaultdict(lambda: 0)\n",
    "    B = defaultdict(lambda: 0)\n",
    "    A.update(dist_l)\n",
    "    B.update(dist_h)\n",
    "    list_l, list_h = list(), list()\n",
    "    for idx, tag in enumerate(list(set(A.keys()).union(set(B.keys())))):\n",
    "        list_l.append(A[tag])\n",
    "        list_h.append(B[tag])\n",
    "    \n",
    "    end = time.time()\n",
    "#     print(\"LISTING DICT: \", end-start)\n",
    "    start = time.time()\n",
    "#     cos = distance.cosine(list_l, list_h)\n",
    "    cos = np.dot(np.asarray(list_l), np.asarray(list_h))\n",
    "    end = time.time()\n",
    "\n",
    "#     print(\"COSINE: \", end-start)\n",
    "    return cos\n",
    "\n"
   ]
  },
  {
   "cell_type": "code",
   "execution_count": 86,
   "id": "norman-thirty",
   "metadata": {},
   "outputs": [],
   "source": [
    "def populate_cosine_cost_array(tag_dist_l, tag_dist_h):\n",
    "    A = np.zeros([len(tag_dist_l), len(tag_dist_h)])\n",
    "    for i_l, m_l in enumerate(list(tag_dist_l.keys())):\n",
    "        if i_l % 1000 == 0:\n",
    "            print(i_l)\n",
    "        for i_h, m_h in enumerate((tag_dist_h.keys())):\n",
    "            A[i_l][i_h] = find_cosine_cost(tag_dist_l[m_l], tag_dist_h[m_h])\n",
    "    return A"
   ]
  },
  {
   "cell_type": "code",
   "execution_count": null,
   "id": "furnished-shower",
   "metadata": {},
   "outputs": [
    {
     "name": "stdout",
     "output_type": "stream",
     "text": [
      "0\n",
      "1000\n",
      "2000\n"
     ]
    }
   ],
   "source": [
    "cosine_cost_array = populate_cosine_cost_array(tag_dist_l2, tag_dist_h2)"
   ]
  },
  {
   "cell_type": "code",
   "execution_count": 70,
   "id": "varying-brass",
   "metadata": {},
   "outputs": [],
   "source": [
    "tag_dist_h2 = {}\n",
    "for k, dist in list(tag_dist_h.items()):\n",
    "    top2 = sorted(list(dist.items()),key= lambda x: x[1], reverse=True)[:2]\n",
    "    total = sum([x[1] for x in top2])\n",
    "    tag_dist_h2[k] = {k:v/total for (k,v) in top2}"
   ]
  },
  {
   "cell_type": "code",
   "execution_count": 59,
   "id": "combined-fraud",
   "metadata": {},
   "outputs": [],
   "source": [
    "assert(list(tag_dist_h2.keys())==list(tag_dist_h2.keys()))"
   ]
  },
  {
   "cell_type": "code",
   "execution_count": 67,
   "id": "academic-arizona",
   "metadata": {},
   "outputs": [],
   "source": [
    "tag_dist_l2 = {}\n",
    "for k, dist in list(tag_dist_l.items()):\n",
    "    top2 = sorted(list(dist.items()),key= lambda x: x[1], reverse=True)[:2]\n",
    "    total = sum([x[1] for x in top2])\n",
    "    tag_dist_l2[k] = {k:v/total for (k,v) in top2}"
   ]
  },
  {
   "cell_type": "code",
   "execution_count": 68,
   "id": "adjustable-ready",
   "metadata": {},
   "outputs": [
    {
     "data": {
      "text/plain": [
       "[('स्वप्न', {'NOUN': 0.816, 'ADV': 0.184}),\n",
       " ('दाखवि', {'VERB': 1.0}),\n",
       " ('णे', {'VSUFF': 0.9328808446455505, 'NSUFF': 0.06711915535444947}),\n",
       " ('आणि', {'CCONJ': 0.9996929689898679, 'NSUFF': 0.00030703101013202335}),\n",
       " ('आश्वासन', {'ADV': 0.5871559633027523, 'NOUN': 0.41284403669724773})]"
      ]
     },
     "execution_count": 68,
     "metadata": {},
     "output_type": "execute_result"
    }
   ],
   "source": [
    "list(tag_dist_l2.items())[:5]"
   ]
  },
  {
   "cell_type": "code",
   "execution_count": null,
   "id": "gorgeous-marker",
   "metadata": {},
   "outputs": [],
   "source": []
  }
 ],
 "metadata": {
  "kernelspec": {
   "display_name": "Python 3",
   "language": "python",
   "name": "python3"
  },
  "language_info": {
   "codemirror_mode": {
    "name": "ipython",
    "version": 3
   },
   "file_extension": ".py",
   "mimetype": "text/x-python",
   "name": "python",
   "nbconvert_exporter": "python",
   "pygments_lexer": "ipython3",
   "version": "3.8.8"
  }
 },
 "nbformat": 4,
 "nbformat_minor": 5
}
