{
 "cells": [
  {
   "cell_type": "code",
   "execution_count": 13,
   "id": "adequate-specification",
   "metadata": {},
   "outputs": [],
   "source": [
    "from indicnlp.tokenize.indic_tokenize import trivial_tokenize\n",
    "from indicnlp.normalize.indic_normalize import IndicNormalizerFactory\n",
    "\n",
    "lang = 'mr'\n",
    "input_path = 'marathi_data/mr/mr.txt'\n",
    "output_path = 'marathi_data/mr/mr.tok.txt'\n",
    "\n",
    "normalizer_factory = IndicNormalizerFactory()\n",
    "normalizer = normalizer_factory.get_normalizer(lang)\n",
    "\n"
   ]
  },
  {
   "cell_type": "code",
   "execution_count": 14,
   "id": "confidential-extent",
   "metadata": {},
   "outputs": [],
   "source": [
    "lang = 'hi'\n",
    "input_path = 'hindi_data/hindmonocorp05.plaintext.gz'\n",
    "output_path = 'hindi_data/hin.tok.txt'\n",
    "\n",
    "normalizer_factory = IndicNormalizerFactory()\n",
    "normalizer = normalizer_factory.get_normalizer(lang)\n",
    "\n",
    "\n"
   ]
  },
  {
   "cell_type": "code",
   "execution_count": 1,
   "id": "selected-buyer",
   "metadata": {},
   "outputs": [],
   "source": [
    "# !pip3 install bpe"
   ]
  },
  {
   "cell_type": "code",
   "execution_count": 2,
   "id": "authentic-absolute",
   "metadata": {},
   "outputs": [],
   "source": [
    "# !pip3 install epitran"
   ]
  },
  {
   "cell_type": "code",
   "execution_count": 15,
   "id": "peripheral-modeling",
   "metadata": {},
   "outputs": [
    {
     "name": "stdout",
     "output_type": "stream",
     "text": [
      "6\n",
      "mæːळiː\n"
     ]
    },
    {
     "data": {
      "text/plain": [
       "'ː'"
      ]
     },
     "execution_count": 15,
     "metadata": {},
     "output_type": "execute_result"
    }
   ],
   "source": [
    "import epitran\n",
    "epi = epitran.Epitran('hin-Deva')\n",
    "s = epi.transliterate(u'मैळी')\n",
    "print(len(s))\n",
    "print(s)\n",
    "s[2]"
   ]
  },
  {
   "cell_type": "code",
   "execution_count": 3,
   "id": "warming-audit",
   "metadata": {},
   "outputs": [],
   "source": [
    "# !pip3 install fasttext"
   ]
  },
  {
   "cell_type": "code",
   "execution_count": 4,
   "id": "favorite-scheduling",
   "metadata": {},
   "outputs": [],
   "source": [
    "# import fasttext.util\n",
    "# fasttext.util.download_model('hi', if_exists='ignore')  # English\n",
    "# ft = fasttext.load_model('cc.hi.300.bin')"
   ]
  },
  {
   "cell_type": "code",
   "execution_count": null,
   "id": "spectacular-constitutional",
   "metadata": {},
   "outputs": [],
   "source": [
    "import fasttext\n",
    "import fasttext.util\n",
    "ft = fasttext.load_model('cc.hi.300.bin')\n",
    "ft.get_dimension()"
   ]
  },
  {
   "cell_type": "code",
   "execution_count": null,
   "id": "compound-participant",
   "metadata": {},
   "outputs": [],
   "source": [
    "ft.get_nearest_neighbors('hello')"
   ]
  },
  {
   "cell_type": "code",
   "execution_count": 1,
   "id": "bibliographic-improvement",
   "metadata": {},
   "outputs": [
    {
     "name": "stderr",
     "output_type": "stream",
     "text": [
      "2021-07-27 13:38:16 INFO: Loading these models for language: hi (Hindi):\n",
      "=======================\n",
      "| Processor | Package |\n",
      "-----------------------\n",
      "| tokenize  | hdtb    |\n",
      "=======================\n",
      "\n",
      "2021-07-27 13:38:16 INFO: Use device: cpu\n",
      "2021-07-27 13:38:16 INFO: Loading: tokenize\n",
      "2021-07-27 13:38:16 INFO: Done loading processors!\n"
     ]
    }
   ],
   "source": [
    "import stanza\n",
    "nlp = stanza.Pipeline('hi', processors='tokenize')\n",
    "\n"
   ]
  },
  {
   "cell_type": "code",
   "execution_count": null,
   "id": "smart-lawyer",
   "metadata": {},
   "outputs": [],
   "source": [
    "s = \"मैं हु ना।\"\n",
    "doc = nlp(s)"
   ]
  },
  {
   "cell_type": "code",
   "execution_count": 3,
   "id": "empirical-escape",
   "metadata": {},
   "outputs": [],
   "source": [
    "def process_sent(sent):\n",
    "    normalized = normalizer.normalize(sent)\n",
    "    processed = ' '.join(trivial_tokenize(normalized, lang))\n",
    "    return processed\n",
    "\n",
    "# with open(input_path, 'r', encoding='utf-8') as in_fp,\\\n",
    "# \t open(output_path, 'w', encoding='utf-8') as out_fp:\n",
    "#     for line in in_fp.readlines():\n",
    "#         sent = line.rstrip('\\n')\n",
    "#         toksent = process_sent(sent)\n",
    "#         out_fp.write(toksent)\n",
    "#         out_fp.write('\\n')\n",
    "\n"
   ]
  },
  {
   "cell_type": "code",
   "execution_count": null,
   "id": "historic-software",
   "metadata": {},
   "outputs": [],
   "source": []
  },
  {
   "cell_type": "code",
   "execution_count": 20,
   "id": "discrete-hamburg",
   "metadata": {},
   "outputs": [],
   "source": [
    "import gzip\n",
    "    \n",
    "with gzip.open(input_path, \"rb\") as in_fp, open(output_path, 'w', encoding='utf-8') as out_fp:\n",
    "    i=0\n",
    "    for line in in_fp:\n",
    "        i+=1\n",
    "        if i>2000000:\n",
    "            break\n",
    "        if i%2==0:\n",
    "            continue\n",
    "#         print(process_sent(str(line, \"utf8\").split(\"\\t\")[2].strip(\"\\n\")))\n",
    "        out_fp.write(process_sent(str(line, \"utf8\").split(\"\\t\")[2]))\n"
   ]
  },
  {
   "cell_type": "code",
   "execution_count": null,
   "id": "challenging-spokesman",
   "metadata": {},
   "outputs": [],
   "source": []
  },
  {
   "cell_type": "code",
   "execution_count": null,
   "id": "proper-heading",
   "metadata": {},
   "outputs": [],
   "source": []
  },
  {
   "cell_type": "code",
   "execution_count": null,
   "id": "beginning-columbus",
   "metadata": {},
   "outputs": [],
   "source": []
  },
  {
   "cell_type": "code",
   "execution_count": null,
   "id": "bacterial-lending",
   "metadata": {},
   "outputs": [],
   "source": []
  },
  {
   "cell_type": "code",
   "execution_count": null,
   "id": "rational-automation",
   "metadata": {},
   "outputs": [],
   "source": []
  },
  {
   "cell_type": "code",
   "execution_count": null,
   "id": "supreme-light",
   "metadata": {},
   "outputs": [],
   "source": []
  },
  {
   "cell_type": "code",
   "execution_count": 10,
   "id": "informal-covering",
   "metadata": {},
   "outputs": [
    {
     "name": "stdout",
     "output_type": "stream",
     "text": [
      "स्वप्न दाखविणे आणि आश्वासने देणारे नेतेही लोकांना खूप आवडतात . \n",
      "\n",
      "['स', '्', 'वप', '्', 'न', 'द', 'ा', 'खव', 'ि', 'ण', 'े', 'आण', 'ि', 'आश', '्', 'व', 'ा', 'सन', 'े', 'द', 'े', 'ण', 'ा', 'र', 'े', 'न', 'े', 'त', 'े', 'ह', 'ी', 'ल', 'ो', 'क', 'ां', 'न', 'ा', 'ख', 'ू', 'प', 'आवडत', 'ा', 'त', '.']\n",
      "मुलांसोबतच पालकांना सांभाळण्याची जबाबदारी ही विवाहीत महिलांचीही आहे . . . केवळ , विवाह झालाय म्हणून वृद्ध पालकांची जबाबदारी त्यांना झटकता येणार नाही असं हायकोर्टानं म्हटलंय . \n",
      "\n",
      "['म', 'ु', 'ल', 'ां', 'स', 'ो', 'बतच', 'प', 'ा', 'लक', 'ां', 'न', 'ा', 'स', 'ां', 'भ', 'ा', 'ळण', '्', 'य', 'ा', 'च', 'ी', 'जब', 'ा', 'बद', 'ा', 'र', 'ी', 'ह', 'ी', 'व', 'ि', 'व', 'ा', 'ह', 'ी', 'त', 'मह', 'ि', 'ल', 'ां', 'च', 'ी', 'ह', 'ी', 'आह', 'े', '.', '.', '.', 'क', 'े', 'वळ', ',', 'व', 'ि', 'व', 'ा', 'ह', 'झ', 'ा', 'ल', 'ा', 'य', 'म', '्', 'हण', 'ू', 'न', 'व', 'ृ', 'द', '्', 'ध', 'प', 'ा', 'लक', 'ां', 'च', 'ी', 'जब', 'ा', 'बद', 'ा', 'र', 'ी', 'त', '्', 'य', 'ां', 'न', 'ा', 'झटकत', 'ा', 'य', 'े', 'ण', 'ा', 'र', 'न', 'ा', 'ह', 'ी', 'अस', 'ं', 'ह', 'ा', 'यक', 'ो', 'र', '्', 'ट', 'ा', 'न', 'ं', 'म', '्', 'हटल', 'ं', 'य', '.']\n",
      "पहा काय बरळला पाकड्यांचा पंतप्रधान इमरान खान\n",
      "\n",
      "['पह', 'ा', 'क', 'ा', 'य', 'बरळल', 'ा', 'प', 'ा', 'कड', '्', 'य', 'ां', 'च', 'ा', 'प', 'ं', 'तप', '्', 'रध', 'ा', 'न', 'इमर', 'ा', 'न', 'ख', 'ा', 'न']\n",
      "३ ( पीसीबी ) – मावळमध्ये पवना जलवाहिनीविरोधात आंदोलन करणाऱ्या आंदोलक शेतकऱ्यांवर गोळीबार करण्याचे आदेश मी दिल्याचा पंतप्रधान नरेंद्र मोदींचा आरोप चुकीचा आहे . \n",
      "\n",
      "['३', '(', 'प', 'ी', 'स', 'ी', 'ब', 'ी', ')', '–', 'म', 'ा', 'वळमध', '्', 'य', 'े', 'पवन', 'ा', 'जलव', 'ा', 'ह', 'ि', 'न', 'ी', 'व', 'ि', 'र', 'ो', 'ध', 'ा', 'त', 'आ', 'ं', 'द', 'ो', 'लन', 'करण', 'ा', 'र', '़्', 'य', 'ा', 'आ', 'ं', 'द', 'ो', 'लक', 'श', 'े', 'तकर', '़्', 'य', 'ां', 'वर', 'ग', 'ो', 'ळ', 'ी', 'ब', 'ा', 'र', 'करण', '्', 'य', 'ा', 'च', 'े', 'आद', 'े', 'श', 'म', 'ी', 'द', 'ि', 'ल', '्', 'य', 'ा', 'च', 'ा', 'प', 'ं', 'तप', '्', 'रध', 'ा', 'न', 'नर', 'ें', 'द', '्', 'र', 'म', 'ो', 'द', 'ीं', 'च', 'ा', 'आर', 'ो', 'प', 'च', 'ु', 'क', 'ी', 'च', 'ा', 'आह', 'े', '.']\n",
      "वृषभ : क्षुल्लक कारणाने तुम्ही अस्वस्थ व्हाल . \n",
      "\n",
      "['व', 'ृ', 'षभ', ':', 'क', '्', 'ष', 'ु', 'ल', '्', 'लक', 'क', 'ा', 'रण', 'ा', 'न', 'े', 'त', 'ु', 'म', '्', 'ह', 'ी', 'अस', '्', 'वस', '्', 'थ', 'व', '्', 'ह', 'ा', 'ल', '.']\n",
      "तो किती बद्दल , आम्ही नंतर तुम्हांला सांगतो . \n",
      "\n",
      "['त', 'ो', 'क', 'ि', 'त', 'ी', 'बद', '्', 'दल', ',', 'आम', '्', 'ह', 'ी', 'न', 'ं', 'तर', 'त', 'ु', 'म', '्', 'ह', 'ां', 'ल', 'ा', 'स', 'ां', 'गत', 'ो', '.']\n",
      "मुख्य पान चालू घडामोडी शेतकऱयांना कर्जमाफी किंवा भरपाई\n",
      "\n",
      "['म', 'ु', 'ख', '्', 'य', 'प', 'ा', 'न', 'च', 'ा', 'ल', 'ू', 'घड', 'ा', 'म', 'ो', 'ड', 'ी', 'श', 'े', 'तकर', '़', 'य', 'ां', 'न', 'ा', 'कर', '्', 'जम', 'ा', 'फ', 'ी', 'क', 'िं', 'व', 'ा', 'भरप', 'ा', 'ई']\n",
      "मुलांमध्ये भेदभाव पालकांनी करू नये , मिठाई आणली असेल तर सर्वाना द्यावी , फक्त एकाच मुलाला / मुलीला आणि इतरांना नाही असे नको . \n",
      "\n",
      "['म', 'ु', 'ल', 'ां', 'मध', '्', 'य', 'े', 'भ', 'े', 'दभ', 'ा', 'व', 'प', 'ा', 'लक', 'ां', 'न', 'ी', 'कर', 'ू', 'नय', 'े', ',', 'म', 'ि', 'ठ', 'ा', 'ई', 'आणल', 'ी', 'अस', 'े', 'ल', 'तर', 'सर', '्', 'व', 'ा', 'न', 'ा', 'द', '्', 'य', 'ा', 'व', 'ी', ',', 'फक', '्', 'त', 'एक', 'ा', 'च', 'म', 'ु', 'ल', 'ा', 'ल', 'ा', '/', 'म', 'ु', 'ल', 'ी', 'ल', 'ा', 'आण', 'ि', 'इतर', 'ां', 'न', 'ा', 'न', 'ा', 'ह', 'ी', 'अस', 'े', 'नक', 'ो', '.']\n",
      "राज्यातलं सरकार आणि मुख्यमंत्री चांगलं काम करत आहेत . \n",
      "\n",
      "['र', 'ा', 'ज', '्', 'य', 'ा', 'तल', 'ं', 'सरक', 'ा', 'र', 'आण', 'ि', 'म', 'ु', 'ख', '्', 'यम', 'ं', 'त', '्', 'र', 'ी', 'च', 'ां', 'गल', 'ं', 'क', 'ा', 'म', 'करत', 'आह', 'े', 'त', '.']\n",
      "चित्रपटातील गाणं रिमेक जरी असलं तरी त्यात बॉलिवूड स्टाईल वापरली असल्याने प्रेक्षकांना ते फार आवडत आहे . \n",
      "\n",
      "['च', 'ि', 'त', '्', 'रपट', 'ा', 'त', 'ी', 'ल', 'ग', 'ा', 'ण', 'ं', 'र', 'ि', 'म', 'े', 'क', 'जर', 'ी', 'असल', 'ं', 'तर', 'ी', 'त', '्', 'य', 'ा', 'त', 'ब', 'ॉ', 'ल', 'ि', 'व', 'ू', 'ड', 'स', '्', 'ट', 'ा', 'ईल', 'व', 'ा', 'परल', 'ी', 'असल', '्', 'य', 'ा', 'न', 'े', 'प', '्', 'र', 'े', 'क', '्', 'षक', 'ां', 'न', 'ा', 'त', 'े', 'फ', 'ा', 'र', 'आवडत', 'आह', 'े', '.']\n"
     ]
    }
   ],
   "source": [
    "from bpe import Encoder\n",
    "encoder = Encoder(100000, pct_bpe=0.2)  # params chosen for demonstration purposes\n",
    "encoder.fit(lines)\n",
    "for line in lines[:10]:\n",
    "    print(line)\n",
    "    print(encoder.tokenize(line))\n"
   ]
  },
  {
   "cell_type": "code",
   "execution_count": 11,
   "id": "intimate-progress",
   "metadata": {},
   "outputs": [
    {
     "data": {
      "text/plain": [
       "814674"
      ]
     },
     "execution_count": 11,
     "metadata": {},
     "output_type": "execute_result"
    }
   ],
   "source": [
    "len(corpus.split())"
   ]
  }
 ],
 "metadata": {
  "kernelspec": {
   "display_name": "Python 3",
   "language": "python",
   "name": "python3"
  },
  "language_info": {
   "codemirror_mode": {
    "name": "ipython",
    "version": 3
   },
   "file_extension": ".py",
   "mimetype": "text/x-python",
   "name": "python",
   "nbconvert_exporter": "python",
   "pygments_lexer": "ipython3",
   "version": "3.8.8"
  }
 },
 "nbformat": 4,
 "nbformat_minor": 5
}
