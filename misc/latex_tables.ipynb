{
 "cells": [
  {
   "cell_type": "code",
   "execution_count": 22,
   "id": "described-choir",
   "metadata": {},
   "outputs": [
    {
     "name": "stdout",
     "output_type": "stream",
     "text": [
      "Collecting latextable\n",
      "  Downloading latextable-0.2.1.tar.gz (6.6 kB)\n",
      "Requirement already satisfied: texttable in /usr/local/lib/python3.8/site-packages (from latextable) (1.6.4)\n",
      "Building wheels for collected packages: latextable\n",
      "  Building wheel for latextable (setup.py) ... \u001b[?25ldone\n",
      "\u001b[?25h  Created wheel for latextable: filename=latextable-0.2.1-py3-none-any.whl size=6235 sha256=9aba4211dab8e51382d0f9938906b7092cd6f41141a3c268412589400b2b48ee\n",
      "  Stored in directory: /Users/mitalibafna/Library/Caches/pip/wheels/4d/ab/d6/2fa22451c131569fd172f1dfc4ae01b63fcd5119a9b70a0fff\n",
      "Successfully built latextable\n",
      "Installing collected packages: latextable\n",
      "Successfully installed latextable-0.2.1\n"
     ]
    }
   ],
   "source": [
    "# !pip3 install texttable\n",
    "!pip3 install latextable"
   ]
  },
  {
   "cell_type": "code",
   "execution_count": 5,
   "id": "protecting-stuff",
   "metadata": {},
   "outputs": [],
   "source": [
    "import texttable\n",
    "import latextable"
   ]
  },
  {
   "cell_type": "code",
   "execution_count": 2,
   "id": "square-session",
   "metadata": {},
   "outputs": [],
   "source": [
    "table = [[\"apples\",2],[\"oranges\",4]]"
   ]
  },
  {
   "cell_type": "code",
   "execution_count": 2,
   "id": "interpreted-stranger",
   "metadata": {},
   "outputs": [],
   "source": [
    "t = texttable.Texttable()"
   ]
  },
  {
   "cell_type": "code",
   "execution_count": 18,
   "id": "structured-nitrogen",
   "metadata": {},
   "outputs": [
    {
     "data": {
      "text/plain": [
       "<texttable.Texttable at 0x1112de730>"
      ]
     },
     "execution_count": 18,
     "metadata": {},
     "output_type": "execute_result"
    }
   ],
   "source": [
    "t.add_rows(table)"
   ]
  },
  {
   "cell_type": "code",
   "execution_count": 19,
   "id": "blessed-corrections",
   "metadata": {},
   "outputs": [
    {
     "data": {
      "text/plain": [
       "'+---------+---+\\n| apples  | 2 |\\n+=========+===+\\n| oranges | 4 |\\n+---------+---+'"
      ]
     },
     "execution_count": 19,
     "metadata": {},
     "output_type": "execute_result"
    }
   ],
   "source": [
    "t.draw()"
   ]
  },
  {
   "cell_type": "code",
   "execution_count": 21,
   "id": "australian-luther",
   "metadata": {},
   "outputs": [
    {
     "ename": "AttributeError",
     "evalue": "'Texttable' object has no attribute 'tabulate'",
     "output_type": "error",
     "traceback": [
      "\u001b[0;31m---------------------------------------------------------------------------\u001b[0m",
      "\u001b[0;31mAttributeError\u001b[0m                            Traceback (most recent call last)",
      "\u001b[0;32m<ipython-input-21-92bb5b365a69>\u001b[0m in \u001b[0;36m<module>\u001b[0;34m\u001b[0m\n\u001b[0;32m----> 1\u001b[0;31m \u001b[0mt\u001b[0m\u001b[0;34m.\u001b[0m\u001b[0mtabulate\u001b[0m\u001b[0;34m(\u001b[0m\u001b[0mrows\u001b[0m\u001b[0;34m,\u001b[0m \u001b[0mtablefmt\u001b[0m\u001b[0;34m=\u001b[0m\u001b[0;34m'latex'\u001b[0m\u001b[0;34m)\u001b[0m\u001b[0;34m\u001b[0m\u001b[0;34m\u001b[0m\u001b[0m\n\u001b[0m",
      "\u001b[0;31mAttributeError\u001b[0m: 'Texttable' object has no attribute 'tabulate'"
     ]
    }
   ],
   "source": [
    "t.tabulate(rows, tablefmt='latex')"
   ]
  },
  {
   "cell_type": "code",
   "execution_count": 26,
   "id": "consecutive-heaven",
   "metadata": {},
   "outputs": [],
   "source": [
    "import latextable"
   ]
  },
  {
   "cell_type": "code",
   "execution_count": 29,
   "id": "amended-muscle",
   "metadata": {},
   "outputs": [
    {
     "ename": "TypeError",
     "evalue": "'module' object is not callable",
     "output_type": "error",
     "traceback": [
      "\u001b[0;31m---------------------------------------------------------------------------\u001b[0m",
      "\u001b[0;31mTypeError\u001b[0m                                 Traceback (most recent call last)",
      "\u001b[0;32m<ipython-input-29-5a8ded2de209>\u001b[0m in \u001b[0;36m<module>\u001b[0;34m\u001b[0m\n\u001b[0;32m----> 1\u001b[0;31m \u001b[0ml\u001b[0m \u001b[0;34m=\u001b[0m \u001b[0mlatextable\u001b[0m\u001b[0;34m(\u001b[0m\u001b[0;34m)\u001b[0m\u001b[0;34m\u001b[0m\u001b[0;34m\u001b[0m\u001b[0m\n\u001b[0m",
      "\u001b[0;31mTypeError\u001b[0m: 'module' object is not callable"
     ]
    }
   ],
   "source": [
    "l = latextable()"
   ]
  },
  {
   "cell_type": "code",
   "execution_count": 31,
   "id": "fossil-tyler",
   "metadata": {},
   "outputs": [
    {
     "name": "stdout",
     "output_type": "stream",
     "text": [
      "\\begin{table}\n",
      "\t\\begin{center}\n",
      "\t\t\\begin{tabular}{|l|l|}\n",
      "\t\t\t\\hline\n",
      "\t\t\tapples & 2 \\\\\n",
      "\t\t\t\\hline\n",
      "\t\t\toranges & 4 \\\\\n",
      "\t\t\t\\hline\n",
      "\t\t\\end{tabular}\n",
      "\t\\end{center}\n",
      "\\end{table}\n"
     ]
    }
   ],
   "source": [
    "print(latextable.draw_latex(t))"
   ]
  },
  {
   "cell_type": "code",
   "execution_count": 34,
   "id": "legal-century",
   "metadata": {},
   "outputs": [],
   "source": [
    "# Tables\n",
    "# Baseline \n",
    "\n",
    "baseline =  [[\"Self 100\", 47.60],\n",
    "[\"Self Pretrained CC 300\", 42.72],\n",
    "[\"NED 100\", 39.47],\n",
    "[\"NED Pretrained CC 300\", 41.85],\n",
    "[\"NED 300\", 39.37]]\n",
    "t1 = texttable.Texttable()\n",
    "t1.add_rows(baseline)\n",
    "t1.draw()\n",
    "print(latextable.draw_latex(t1))"
   ]
  },
  {
   "cell_type": "code",
   "execution_count": 38,
   "id": "stainless-crash",
   "metadata": {},
   "outputs": [
    {
     "data": {
      "text/plain": [
       "'+------------------------+--------+\\n|        Self 100        |  47.6  |\\n+========================+========+\\n| Self Pretrained CC 300 | 42.720 |\\n+------------------------+--------+\\n| NED 100                | 39.470 |\\n+------------------------+--------+\\n| NED Pretrained CC 300  | 41.850 |\\n+------------------------+--------+\\n| NED 300                | 39.370 |\\n+------------------------+--------+'"
      ]
     },
     "execution_count": 38,
     "metadata": {},
     "output_type": "execute_result"
    }
   ],
   "source": []
  },
  {
   "cell_type": "code",
   "execution_count": 39,
   "id": "exceptional-compact",
   "metadata": {},
   "outputs": [
    {
     "name": "stdout",
     "output_type": "stream",
     "text": [
      "\\begin{table}\n",
      "\t\\begin{center}\n",
      "\t\t\\begin{tabular}{|l|l|}\n",
      "\t\t\t\\hline\n",
      "\t\t\tSelf 100 & 47.6 \\\\\n",
      "\t\t\t\\hline\n",
      "\t\t\tSelf Pretrained CC 300 & 42.720 \\\\\n",
      "\t\t\t\\hline\n",
      "\t\t\tNED 100 & 39.470 \\\\\n",
      "\t\t\t\\hline\n",
      "\t\t\tNED Pretrained CC 300 & 41.850 \\\\\n",
      "\t\t\t\\hline\n",
      "\t\t\tNED 300 & 39.370 \\\\\n",
      "\t\t\t\\hline\n",
      "\t\t\\end{tabular}\n",
      "\t\\end{center}\n",
      "\\end{table}\n"
     ]
    }
   ],
   "source": []
  },
  {
   "cell_type": "code",
   "execution_count": 40,
   "id": "central-planner",
   "metadata": {},
   "outputs": [
    {
     "name": "stdout",
     "output_type": "stream",
     "text": [
      "\\begin{table}\n",
      "\t\\begin{center}\n",
      "\t\t\\begin{tabular}{|l|l|}\n",
      "\t\t\t\\hline\n",
      "\t\t\tTag Pretrained CC 300 & 36.38 \\\\\n",
      "\t\t\t\\hline\n",
      "\t\t\tTag 300 & 41.170 \\\\\n",
      "\t\t\t\\hline\n",
      "\t\t\\end{tabular}\n",
      "\t\\end{center}\n",
      "\\end{table}\n"
     ]
    }
   ],
   "source": [
    "# Tag\n",
    "tag = [[\"Tag Pretrained CC 300\", 36.38],\n",
    "[\"Tag 300\", 41.17]]\n",
    "t2 = texttable.Texttable()\n",
    "t2.add_rows(tag)\n",
    "t2.draw()\n",
    "print(latextable.draw_latex(t2))"
   ]
  },
  {
   "cell_type": "code",
   "execution_count": 42,
   "id": "devoted-masters",
   "metadata": {},
   "outputs": [
    {
     "name": "stdout",
     "output_type": "stream",
     "text": [
      "\\begin{table}\n",
      "\t\\begin{center}\n",
      "\t\t\\begin{tabular}{|l|l|}\n",
      "\t\t\t\\hline\n",
      "\t\t\tIterative CC 300 (sum) & 44.28 \\\\\n",
      "\t\t\t\\hline\n",
      "\t\t\tIterative 300 (sum) & 49.210 \\\\\n",
      "\t\t\t\\hline\n",
      "\t\t\tIterative 300 (first morph) & 50.060 \\\\\n",
      "\t\t\t\\hline\n",
      "\t\t\tIterative 300 2M (first morph) & 50.100 \\\\\n",
      "\t\t\t\\hline\n",
      "\t\t\\end{tabular}\n",
      "\t\\end{center}\n",
      "\\end{table}\n"
     ]
    }
   ],
   "source": [
    "# Iterative\n",
    "iterative = [[\"Iterative CC 300 (sum)\", 44.28],\n",
    "[\"Iterative 300 (sum)\", 49.21],\n",
    "[\"Iterative 300 (first morph)\", 50.06],\n",
    "[\"Iterative 300 2M (first morph)\", 50.10]]\n",
    "t3 = texttable.Texttable()\n",
    "t3.add_rows(iterative)\n",
    "t3.draw()\n",
    "print(latextable.draw_latex(t3))"
   ]
  },
  {
   "cell_type": "code",
   "execution_count": 43,
   "id": "detailed-confirmation",
   "metadata": {},
   "outputs": [
    {
     "name": "stdout",
     "output_type": "stream",
     "text": [
      "\\begin{table}\n",
      "\t\\begin{center}\n",
      "\t\t\\begin{tabular}{|l|l|}\n",
      "\t\t\t\\hline\n",
      "\t\t\tMonolingual 300 & 45.9 \\\\\n",
      "\t\t\t\\hline\n",
      "\t\t\tJoint 300 & 48.870 \\\\\n",
      "\t\t\t\\hline\n",
      "\t\t\\end{tabular}\n",
      "\t\\end{center}\n",
      "\\end{table}\n"
     ]
    }
   ],
   "source": [
    "# Monolingual, joint\n",
    "mono_j = [[\"Monolingual 300\", 45.90],\n",
    "[\"Joint 300\", 48.87]]\n",
    "t4 = texttable.Texttable()\n",
    "t4.add_rows(mono_j)\n",
    "t4.draw()\n",
    "print(latextable.draw_latex(t4))"
   ]
  },
  {
   "cell_type": "code",
   "execution_count": 44,
   "id": "geological-while",
   "metadata": {},
   "outputs": [
    {
     "name": "stdout",
     "output_type": "stream",
     "text": [
      "\\begin{table}\n",
      "\t\\begin{center}\n",
      "\t\t\\begin{tabular}{|l|l|}\n",
      "\t\t\t\\hline\n",
      "\t\t\tMarathi Pretrained CC 300 & 52.24 \\\\\n",
      "\t\t\t\\hline\n",
      "\t\t\tReported score & 42 \\\\\n",
      "\t\t\t\\hline\n",
      "\t\t\\end{tabular}\n",
      "\t\\end{center}\n",
      "\\end{table}\n"
     ]
    }
   ],
   "source": [
    "# Comparison\n",
    "comp = [[\"Marathi Pretrained CC 300\", 52.24],\n",
    "[\"Reported score\", 42.00]]\n",
    "t5 = texttable.Texttable()\n",
    "t5.add_rows(comp)\n",
    "t5.draw()\n",
    "print(latextable.draw_latex(t5))"
   ]
  },
  {
   "cell_type": "code",
   "execution_count": 6,
   "id": "descending-foundation",
   "metadata": {},
   "outputs": [
    {
     "name": "stdout",
     "output_type": "stream",
     "text": [
      "\\begin{table}\n",
      "\t\\begin{center}\n",
      "\t\t\\begin{tabular}{|l|l|}\n",
      "\t\t\t\\hline\n",
      "\t\t\tPretrained 300 & 57.51 \\\\\n",
      "\t\t\t\\hline\n",
      "\t\t\tSegmented 300 & 50.730 \\\\\n",
      "\t\t\t\\hline\n",
      "\t\t\\end{tabular}\n",
      "\t\\end{center}\n",
      "\\end{table}\n"
     ]
    }
   ],
   "source": [
    "# Hindi\n",
    "hindi = [[\"Pretrained 300\", 57.51],\n",
    "[\"Segmented 300\", 50.73]]\n",
    "t6 = texttable.Texttable()\n",
    "t6.add_rows(hindi)\n",
    "t6.draw()\n",
    "print(latextable.draw_latex(t6))"
   ]
  },
  {
   "cell_type": "code",
   "execution_count": 8,
   "id": "identified-conditioning",
   "metadata": {},
   "outputs": [
    {
     "name": "stdout",
     "output_type": "stream",
     "text": [
      "\\begin{table}\n",
      "\t\\begin{center}\n",
      "\t\t\\begin{tabular}{|l|l|}\n",
      "\t\t\t\\hline\n",
      "\t\t\tHindi & 41.17 \\\\\n",
      "\t\t\t\\hline\n",
      "\t\t\tMarathi & 50.380 \\\\\n",
      "\t\t\t\\hline\n",
      "\t\t\\end{tabular}\n",
      "\t\\end{center}\n",
      "\\end{table}\n"
     ]
    }
   ],
   "source": [
    "# Cognates\n",
    "cognates = [[\"Hindi\", 41.17],\n",
    "[\"Marathi\", 50.38]]\n",
    "t7 = texttable.Texttable()\n",
    "t7.add_rows(cognates)\n",
    "t7.draw()\n",
    "print(latextable.draw_latex(t7))"
   ]
  },
  {
   "cell_type": "code",
   "execution_count": 10,
   "id": "viral-carter",
   "metadata": {},
   "outputs": [
    {
     "name": "stdout",
     "output_type": "stream",
     "text": [
      "\\begin{table}\n",
      "\t\\begin{center}\n",
      "\t\t\\begin{tabular}{|l|l|l|l|l|}\n",
      "\t\t\t\\hline\n",
      "\t\t\tMIN = 10, N = 5 & 1183 & 58.92 & 61.62 & 84.7 \\\\\n",
      "\t\t\t\\hline\n",
      "\t\t\tMIN = 10, N = 4 & 1183 & 54.780 & 58.660 & 84.870 \\\\\n",
      "\t\t\t\\hline\n",
      "\t\t\tMIN = 20, N = 5 & 684 & 53.650 & 59.940 & 84.500 \\\\\n",
      "\t\t\t\\hline\n",
      "\t\t\tMIN = 20, N = 4 & 684 & 59.940 & 64.470 & 87.570 \\\\\n",
      "\t\t\t\\hline\n",
      "\t\t\tMIN = 50, N = 4 & 293 & 63.140 & 67.240 & 81.230 \\\\\n",
      "\t\t\t\\hline\n",
      "\t\t\\end{tabular}\n",
      "\t\\end{center}\n",
      "\\end{table}\n"
     ]
    }
   ],
   "source": [
    "wbst = [[\"MIN = 10, N = 5\", 1183, 58.92, 61.62, 84.70],\n",
    "[\"MIN = 10, N = 4\", 1183, 54.78, 58.66, 84.87],\n",
    "[\"MIN = 20, N = 5\", 684, 53.65, 59.94, 84.50],\n",
    "[\"MIN = 20, N = 4\", 684, 59.94, 64.47, 87.57],\n",
    "[\"MIN = 50, N = 4\", 293, 63.14, 67.24, 81.23]]\n",
    "\n",
    "t8 = texttable.Texttable()\n",
    "t8.add_rows(wbst)\n",
    "t8.draw()\n",
    "print(latextable.draw_latex(t8))"
   ]
  },
  {
   "cell_type": "code",
   "execution_count": 12,
   "id": "accredited-looking",
   "metadata": {},
   "outputs": [
    {
     "name": "stdout",
     "output_type": "stream",
     "text": [
      "\\begin{table}\n",
      "\t\\begin{center}\n",
      "\t\t\\begin{tabular}{|l|l|}\n",
      "\t\t\t\\hline\n",
      "\t\t\t1 & [[2, 3], [4, 5]] \\\\\n",
      "\t\t\t\\hline\n",
      "\t\t\t2 & [[6, 7], [8, 9]] \\\\\n",
      "\t\t\t\\hline\n",
      "\t\t\\end{tabular}\n",
      "\t\\end{center}\n",
      "\\end{table}\n"
     ]
    }
   ],
   "source": [
    "a = [[1, [[2,3],[4,5]]],\n",
    "    [2, [[6,7],[8,9]]]]\n",
    "t9 = texttable.Texttable()\n",
    "t9.add_rows(a)\n",
    "t9.draw()\n",
    "print(latextable.draw_latex(t9))"
   ]
  },
  {
   "cell_type": "code",
   "execution_count": null,
   "id": "residential-saint",
   "metadata": {},
   "outputs": [],
   "source": []
  }
 ],
 "metadata": {
  "kernelspec": {
   "display_name": "Python 3",
   "language": "python",
   "name": "python3"
  },
  "language_info": {
   "codemirror_mode": {
    "name": "ipython",
    "version": 3
   },
   "file_extension": ".py",
   "mimetype": "text/x-python",
   "name": "python",
   "nbconvert_exporter": "python",
   "pygments_lexer": "ipython3",
   "version": "3.8.8"
  }
 },
 "nbformat": 4,
 "nbformat_minor": 5
}
