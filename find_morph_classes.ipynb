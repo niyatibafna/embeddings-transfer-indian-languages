{
 "cells": [
  {
   "cell_type": "code",
   "execution_count": 1,
   "id": "local-prophet",
   "metadata": {},
   "outputs": [],
   "source": [
    "from collections import defaultdict"
   ]
  },
  {
   "cell_type": "code",
   "execution_count": null,
   "id": "close-transition",
   "metadata": {},
   "outputs": [],
   "source": []
  },
  {
   "cell_type": "code",
   "execution_count": 2,
   "id": "second-roberts",
   "metadata": {},
   "outputs": [],
   "source": [
    "seg_file = open(\"marathi_data/mr/mr.segmented.txt\")\n",
    "next_freq = defaultdict(lambda: -1)\n",
    "morphs = \" \".join(seg_file.read().strip().split(\"\\n\")).split(\" \")\n",
    "for idx, morph in enumerate(morphs[:-1]):\n",
    "    if next_freq[morph]==-1:\n",
    "        next_freq[morph] = defaultdict(lambda: 0)\n",
    "    next_freq[morph][morphs[idx+1]] += 1\n"
   ]
  },
  {
   "cell_type": "code",
   "execution_count": null,
   "id": "reported-plenty",
   "metadata": {},
   "outputs": [],
   "source": [
    "# next_freq[\"आश्वासन\"]"
   ]
  },
  {
   "cell_type": "code",
   "execution_count": 3,
   "id": "stable-delivery",
   "metadata": {},
   "outputs": [],
   "source": [
    "find_top_next = defaultdict(lambda: -1)\n",
    "for morph, freqlist in next_freq.items():\n",
    "    freq_pairs = list(freqlist.items())\n",
    "#     print(freq_pairs)\n",
    "#     print(morph)\n",
    "#     print(freqlist)\n",
    "#     print(freq_pairs)\n",
    "#     print(freq_pairs.sort())\n",
    "    freq_pairs.sort(key = lambda x: x[1], reverse=True)\n",
    "#     print(freq_pairs[:5])\n",
    "    find_top_next[morph] = freq_pairs[:5]"
   ]
  },
  {
   "cell_type": "code",
   "execution_count": 4,
   "id": "proud-newton",
   "metadata": {},
   "outputs": [
    {
     "name": "stdout",
     "output_type": "stream",
     "text": [
      "[('दिले', 24), ('े', 13), ('दिल्या', 6), ('ही', 5), ('मुख्यमंत्र', 4)]\n"
     ]
    }
   ],
   "source": [
    "print(find_top_next[\"आश्वासन\"])"
   ]
  },
  {
   "cell_type": "code",
   "execution_count": 15,
   "id": "silent-literacy",
   "metadata": {},
   "outputs": [],
   "source": [
    "a = [('दाखवि', 3), ('?', 2), ('असावे', 1), ('ील', 7), ('पाह', 2), ('पाठ', 1), ('ात', 10), ('पूर्ण', 7), ('शकता', 1), ('सारी', 1), ('दाखव', 2), ('आपल्या', 2), ('तुमच्या', 1), ('ाचा', 1), ('िल', 7), ('आहे', 4), ('ातून', 1), ('े', 17), ('असते', 1), (',', 5), ('पुस्तक', 5), ('धरणा', 1), ('पड', 8), ('बघ', 1), ('ं', 5), ('सत्ता', 1), ('अभि', 1), ('हवेत', 1), ('पुर्ण', 1), ('पायलट', 1), ('ांचा', 1), ('ांच्या', 6), ('त्यांनी', 1), ('\"', 2), ('पाहिले', 1), ('ांची', 1), ('लग्न', 1), ('ांवर', 1), ('स्वप्न', 1), ('च', 1), ('भंग', 1), ('ाचे', 1), ('ातील', 2), ('बाळ', 1), ('ाचं', 1), ('आणि', 1), ('पैसा', 1), ('खरं', 1), ('क्रे', 1), ('बाळासाहेबां', 1), ('ः', 1), ('सत्ताधार', 1), ('पूर्ती', 1), ('व', 1), ('झुरळ', 1), ('प्रत्यक्ष', 1), ('हिंदू', 1), ('साकार', 3), ('हो', 1), ('उर', 1), ('रंगव', 1), ('सत्य', 1), ('पाहिल', 4), ('आज', 1), ('त', 1), ('होतं', 1), ('निश्चित', 1), ('होते', 1), ('लुप्त', 1), ('ाला', 1), ('म्हणजे', 1), ('.', 2), ('मात्र', 1), ('बाकी', 1), ('तर', 1), ('यश', 1), ('नवीन', 1), ('असतं', 1), ('रंग', 1), ('वत', 1), ('अस', 1), ('असल्या', 1)]\n",
    "a.sort(key = lambda x: x[1], reverse=True)"
   ]
  },
  {
   "cell_type": "code",
   "execution_count": 1,
   "id": "engaged-tract",
   "metadata": {},
   "outputs": [],
   "source": [
    "for morph, top_next in find_top_next.items():\n",
    "    print(morph, \"\\t\", top_next)"
   ]
  },
  {
   "cell_type": "code",
   "execution_count": 28,
   "id": "available-albert",
   "metadata": {},
   "outputs": [],
   "source": [
    "first_words = [find_top_next[m][0][0] for m in find_top_next.keys()]"
   ]
  },
  {
   "cell_type": "code",
   "execution_count": 29,
   "id": "representative-adobe",
   "metadata": {},
   "outputs": [],
   "source": [
    "first_set = set(first_words)"
   ]
  },
  {
   "cell_type": "code",
   "execution_count": 30,
   "id": "settled-swimming",
   "metadata": {},
   "outputs": [
    {
     "data": {
      "text/plain": [
       "4559"
      ]
     },
     "execution_count": 30,
     "metadata": {},
     "output_type": "execute_result"
    }
   ],
   "source": [
    "len(first_set)"
   ]
  },
  {
   "cell_type": "code",
   "execution_count": null,
   "id": "representative-biology",
   "metadata": {},
   "outputs": [],
   "source": []
  }
 ],
 "metadata": {
  "kernelspec": {
   "display_name": "Python 3",
   "language": "python",
   "name": "python3"
  },
  "language_info": {
   "codemirror_mode": {
    "name": "ipython",
    "version": 3
   },
   "file_extension": ".py",
   "mimetype": "text/x-python",
   "name": "python",
   "nbconvert_exporter": "python",
   "pygments_lexer": "ipython3",
   "version": "3.8.8"
  }
 },
 "nbformat": 4,
 "nbformat_minor": 5
}
