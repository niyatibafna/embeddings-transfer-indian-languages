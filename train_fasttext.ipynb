{
 "cells": [
  {
   "cell_type": "code",
   "execution_count": 1,
   "id": "congressional-turning",
   "metadata": {},
   "outputs": [],
   "source": [
    "import fasttext\n",
    "import fasttext.util\n",
    "from scipy.spatial import distance\n",
    "import re"
   ]
  },
  {
   "cell_type": "code",
   "execution_count": null,
   "id": "aerial-detector",
   "metadata": {},
   "outputs": [],
   "source": [
    "ft = fasttext.load_model('cc.hi.300.bin')\n",
    "ft.get_dimension()"
   ]
  },
  {
   "cell_type": "code",
   "execution_count": 2,
   "id": "criminal-mailman",
   "metadata": {},
   "outputs": [],
   "source": [
    "\n",
    "data = open(\"hindi_data/hin.segmented.EOLmarked.txt\", \"r\").read().split(\"E OL\")\n",
    "data = [re.split(' |\\n', ss)[1:-1] for ss in data]\n"
   ]
  },
  {
   "cell_type": "code",
   "execution_count": 49,
   "id": "desperate-tackle",
   "metadata": {},
   "outputs": [],
   "source": [
    "data = open(\"marathi_data/mr.segmented.EOLmarked.txt\", \"r\").read().split(\"E O L\")\n",
    "data = [re.split(' |\\n', ss)[1:-1] for ss in data]\n",
    "\n"
   ]
  },
  {
   "cell_type": "code",
   "execution_count": 50,
   "id": "legal-regulation",
   "metadata": {},
   "outputs": [],
   "source": [
    "data = [\" \".join(sent) for sent in data]"
   ]
  },
  {
   "cell_type": "code",
   "execution_count": 51,
   "id": "relative-ivory",
   "metadata": {},
   "outputs": [
    {
     "data": {
      "text/plain": [
       "50002"
      ]
     },
     "execution_count": 51,
     "metadata": {},
     "output_type": "execute_result"
    }
   ],
   "source": [
    "len(data)"
   ]
  },
  {
   "cell_type": "code",
   "execution_count": 29,
   "id": "wrapped-birmingham",
   "metadata": {},
   "outputs": [
    {
     "data": {
      "text/plain": [
       "1000001"
      ]
     },
     "execution_count": 29,
     "metadata": {},
     "output_type": "execute_result"
    }
   ],
   "source": [
    "len(data)"
   ]
  },
  {
   "cell_type": "code",
   "execution_count": 52,
   "id": "innovative-marina",
   "metadata": {},
   "outputs": [
    {
     "data": {
      "text/plain": [
       "['दाखवि णे आणि आश्वासन े देणार े नेते ही लोक ांना खूप आवडत ात .',\n",
       " 'मुलां सोबतच पालक ांना सांभाळ ण्याची जबाबदार ी ही विवाह ीत महिलां ची ही आहे . . . के वळ , विवाह झाला य म्हणून वृद्ध पालक ांची जबाबदार ी त्यांना झटक ता येणार नाही असं हाय कोर्टा नं म्हटल ंय .',\n",
       " 'पहा काय बरळ ला पाकड ्यांचा पंतप्रधान इम रान खान',\n",
       " '३ ( पीसीबी ) – मावळ मध्ये पवना जलवाहिनी विरोधात आंदोलन करणाऱ्या आंदोलक शेतकऱ ्यांवर गोळीबार करण्या चे आदेश मी दिल्या चा पंतप्रधान नर ेंद्र मोदीं चा आरोप चुकीच ा आहे .',\n",
       " 'वृष भ : क्षुल्ल क कारणा ने तुम्ही अस्वस्थ व्हा ल .']"
      ]
     },
     "execution_count": 52,
     "metadata": {},
     "output_type": "execute_result"
    }
   ],
   "source": [
    "data[:5]"
   ]
  },
  {
   "cell_type": "code",
   "execution_count": 53,
   "id": "literary-escape",
   "metadata": {},
   "outputs": [],
   "source": [
    "text = open(\"marathi_data/mr.segmented.sentences.txt\", \"w\")\n",
    "for sent in data:\n",
    "    text.write(sent+\"\\n\")\n",
    "text.close()"
   ]
  },
  {
   "cell_type": "code",
   "execution_count": null,
   "id": "smart-there",
   "metadata": {},
   "outputs": [],
   "source": [
    "mr_model = fasttext.train_unsupervised(\"marathi_data/mr.segmented.sentences.txt\", dim=300)"
   ]
  },
  {
   "cell_type": "code",
   "execution_count": 3,
   "id": "prostate-liberty",
   "metadata": {},
   "outputs": [],
   "source": [
    "hin_model = fasttext.train_unsupervised(\"hindi_data/hin.segmented.sentences.txt\", dim=300)"
   ]
  },
  {
   "cell_type": "code",
   "execution_count": 33,
   "id": "cognitive-cloud",
   "metadata": {},
   "outputs": [
    {
     "data": {
      "text/plain": [
       "100"
      ]
     },
     "execution_count": 33,
     "metadata": {},
     "output_type": "execute_result"
    }
   ],
   "source": [
    "len(hin_model[\"लद\"])"
   ]
  },
  {
   "cell_type": "code",
   "execution_count": 35,
   "id": "tough-video",
   "metadata": {},
   "outputs": [
    {
     "data": {
      "text/plain": [
       "array([-0.03551902,  0.6270207 , -0.38553938, -0.09783772,  0.02552906,\n",
       "       -0.00895714, -0.4880705 ,  0.38844225,  0.5922409 ,  0.25488237,\n",
       "       -0.30981404,  0.4591988 , -0.4533694 , -0.17105065, -0.01472539,\n",
       "        0.02248062, -0.26137236, -0.6234838 ,  0.05047151, -0.38076097,\n",
       "        0.2511704 ,  0.18188429, -0.03689696, -0.07617214, -0.13466135,\n",
       "        0.13751434,  0.5956066 , -0.15587679, -0.12235772,  0.03465335,\n",
       "       -0.25740057,  0.0807391 ,  0.01807383, -0.03952539,  0.10093658,\n",
       "        0.30389792, -0.06246812, -0.285354  ,  0.05049414, -0.34120703,\n",
       "        0.16531909,  0.3782105 ,  0.11074828, -0.01474138, -0.35062975,\n",
       "       -0.09565484,  0.34767222, -0.45270768,  0.12608275,  0.3446598 ,\n",
       "       -0.36415464, -0.37463486, -0.07414696, -0.35361758,  0.22878549,\n",
       "       -0.26468372, -0.09399599, -0.19691807, -0.01785559,  0.17904836,\n",
       "        0.46380192,  0.4250554 , -0.08080494, -0.13190652,  0.5838053 ,\n",
       "        0.04013393,  0.16893929, -0.06981493, -0.05378735, -0.37163562,\n",
       "       -0.19096902,  0.06824374, -0.31796074,  0.2993331 , -0.7592563 ,\n",
       "        0.04422941, -0.3716049 , -0.22436601, -0.1876794 , -0.19155149,\n",
       "       -0.18173483,  0.5096737 ,  0.45393223, -0.3848896 ,  0.29409122,\n",
       "       -0.29736537,  0.69308263, -0.23054539, -0.19183972,  0.01987929,\n",
       "        0.07212373, -0.25166523,  0.2988238 , -0.03383695,  0.05280345,\n",
       "       -0.14780214, -0.07832254, -0.09586406, -0.7097324 ,  0.2021901 ],\n",
       "      dtype=float32)"
      ]
     },
     "execution_count": 35,
     "metadata": {},
     "output_type": "execute_result"
    }
   ],
   "source": [
    "hin_model.get_word_vector(\"लद\")"
   ]
  },
  {
   "cell_type": "code",
   "execution_count": 32,
   "id": "nonprofit-prize",
   "metadata": {},
   "outputs": [
    {
     "data": {
      "text/plain": [
       "36369"
      ]
     },
     "execution_count": 32,
     "metadata": {},
     "output_type": "execute_result"
    }
   ],
   "source": [
    "len(hin_model.words)"
   ]
  },
  {
   "cell_type": "code",
   "execution_count": 58,
   "id": "confidential-interim",
   "metadata": {},
   "outputs": [
    {
     "data": {
      "text/plain": [
       "[(0.7633231282234192, 'सहायता'),\n",
       " (0.6215401887893677, 'कोशिश'),\n",
       " (0.563492476940155, 'आसानी'),\n",
       " (0.5500515699386597, 'राहत'),\n",
       " (0.5493067502975464, 'जोख़िम'),\n",
       " (0.54691082239151, 'लिए'),\n",
       " (0.5415968298912048, 'सहयोग'),\n",
       " (0.5382053256034851, 'दिक्क़त'),\n",
       " (0.5342594981193542, 'जरूरत'),\n",
       " (0.532339870929718, 'जानकारी')]"
      ]
     },
     "execution_count": 58,
     "metadata": {},
     "output_type": "execute_result"
    }
   ],
   "source": [
    "hin_model.get_nearest_neighbors(\"मदद\")"
   ]
  },
  {
   "cell_type": "code",
   "execution_count": 59,
   "id": "spectacular-miller",
   "metadata": {},
   "outputs": [
    {
     "data": {
      "text/plain": [
       "[(0.9377237558364868, 'राजा’'),\n",
       " (0.8391109704971313, 'राजु'),\n",
       " (0.8005019426345825, 'राजे'),\n",
       " (0.7911965847015381, 'राजन'),\n",
       " (0.7774709463119507, 'राजाराम'),\n",
       " (0.7528185248374939, 'राऊळ'),\n",
       " (0.7504188418388367, 'रानड'),\n",
       " (0.7472270727157593, 'राज'),\n",
       " (0.7296608090400696, 'राजेश'),\n",
       " (0.7267205119132996, 'राजू')]"
      ]
     },
     "execution_count": 59,
     "metadata": {},
     "output_type": "execute_result"
    }
   ],
   "source": [
    "mr_model.get_nearest_neighbors(\"राजा\")"
   ]
  },
  {
   "cell_type": "code",
   "execution_count": 47,
   "id": "logical-payroll",
   "metadata": {},
   "outputs": [],
   "source": [
    "a = ft.get_word_vector(\"जागना\")\n",
    "b = ft.get_word_vector(\"जाग\")\n",
    "c = ft.get_word_vector(\"ना\")\n"
   ]
  },
  {
   "cell_type": "code",
   "execution_count": 46,
   "id": "severe-morning",
   "metadata": {},
   "outputs": [
    {
     "data": {
      "text/plain": [
       "0.6564381718635559"
      ]
     },
     "execution_count": 46,
     "metadata": {},
     "output_type": "execute_result"
    }
   ],
   "source": [
    "1 - distance.cosine(a,b+c)"
   ]
  },
  {
   "cell_type": "code",
   "execution_count": 48,
   "id": "final-minute",
   "metadata": {},
   "outputs": [
    {
     "data": {
      "text/plain": [
       "0.4057810604572296"
      ]
     },
     "execution_count": 48,
     "metadata": {},
     "output_type": "execute_result"
    }
   ],
   "source": [
    "1 - distance.cosine(a,b+c)"
   ]
  },
  {
   "cell_type": "code",
   "execution_count": 60,
   "id": "quantitative-closure",
   "metadata": {},
   "outputs": [],
   "source": [
    "!mkdir hin_embeddings\n",
    "# hin_model.save_model()"
   ]
  },
  {
   "cell_type": "code",
   "execution_count": 4,
   "id": "efficient-absence",
   "metadata": {},
   "outputs": [],
   "source": [
    "hin_model.save_model(\"hin_embeddings/hin.embeddings.300.bin\")"
   ]
  },
  {
   "cell_type": "code",
   "execution_count": 5,
   "id": "champion-jacob",
   "metadata": {},
   "outputs": [],
   "source": [
    "!mkdir mr_embeddings"
   ]
  },
  {
   "cell_type": "code",
   "execution_count": null,
   "id": "higher-livestock",
   "metadata": {},
   "outputs": [],
   "source": [
    "mr_model.save_model(\"mr_embeddings/mr.embeddings.300.bin\")"
   ]
  }
 ],
 "metadata": {
  "kernelspec": {
   "display_name": "Python 3",
   "language": "python",
   "name": "python3"
  },
  "language_info": {
   "codemirror_mode": {
    "name": "ipython",
    "version": 3
   },
   "file_extension": ".py",
   "mimetype": "text/x-python",
   "name": "python",
   "nbconvert_exporter": "python",
   "pygments_lexer": "ipython3",
   "version": "3.8.8"
  }
 },
 "nbformat": 4,
 "nbformat_minor": 5
}
